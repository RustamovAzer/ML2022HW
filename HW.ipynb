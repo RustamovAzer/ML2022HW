{
 "cells": [
  {
   "cell_type": "markdown",
   "metadata": {},
   "source": [
    "## Домашнее задание\n",
    "### Задача: определить регион США, в которой находится квартира."
   ]
  },
  {
   "cell_type": "markdown",
   "metadata": {},
   "source": [
    "### Описание датасета:\n",
    "Датасет содержит информацию о съёмных квартирах в США.\n",
    "\n",
    "Признаки, содержащиеся в датасете:\n",
    "\n",
    "* ID квартиры в датасете\n",
    "* URL квартиры на сайте для аренды\n",
    "* Регион квартиры на сайте для аренды\n",
    "* URL региона квартиры\n",
    "* Арендная плата за месяц\n",
    "* Тип застройки\n",
    "* Площадь квартиры\n",
    "* Количество кроватей\n",
    "* Количество ванных комнат\n",
    "* Разрешение на котов\n",
    "* Разрешение на собак\n",
    "* Разрешение на курение\n",
    "* Доступ для инвалидных колясок\n",
    "* Доступ к зарядным устройствам для электромобилей\n",
    "* Наличие мобели\n",
    "* Доступные варианты стирки\n",
    "* Доступные варианты парковки\n",
    "* URL изображения\n",
    "* Описание\n",
    "* Широта\n",
    "* Долгота\n",
    "* Штат"
   ]
  },
  {
   "cell_type": "code",
   "execution_count": 1,
   "metadata": {},
   "outputs": [],
   "source": [
    "import sklearn\n",
    "import seaborn as sns\n",
    "import pandas as pd\n",
    "import numpy as np\n",
    "import matplotlib.pyplot as plt \n",
    "%matplotlib inline"
   ]
  },
  {
   "cell_type": "markdown",
   "metadata": {},
   "source": [
    "### 1. Чтение данных"
   ]
  },
  {
   "cell_type": "code",
   "execution_count": 2,
   "metadata": {},
   "outputs": [],
   "source": [
    "url = \"housing.csv\"\n",
    "data_raw = pd.read_csv(url)"
   ]
  },
  {
   "cell_type": "code",
   "execution_count": 3,
   "metadata": {},
   "outputs": [
    {
     "data": {
      "text/plain": [
       "array(['ca', 'co', 'ct', 'dc', 'fl', 'de', 'ga', 'hi', 'id', 'il', 'in',\n",
       "       'ia', 'ks', 'ky', 'la', 'me', 'mi', 'md', 'ma', 'mn', 'ms', 'nc',\n",
       "       'mo', 'mt', 'ne', 'nv', 'nj', 'nm', 'ny', 'nh', 'oh', 'nd', 'ok',\n",
       "       'or', 'pa', 'ri', 'sc', 'tn', 'sd', 'tx', 'ut', 'va', 'vt', 'wa',\n",
       "       'wv', 'wi', 'wy', 'al', 'az', 'ak', 'ar'], dtype=object)"
      ]
     },
     "execution_count": 3,
     "metadata": {},
     "output_type": "execute_result"
    }
   ],
   "source": [
    "data_raw[\"state\"].unique()"
   ]
  },
  {
   "cell_type": "markdown",
   "metadata": {},
   "source": [
    "Создадим новый признак - регион, в котором находится квартира. Всего в США 4 региона: West, Midwest, South, Northeast. Существуют штаты, не принадлежащие ни одному региону, их отметим как принадлежащих к региону Other. "
   ]
  },
  {
   "cell_type": "code",
   "execution_count": 4,
   "metadata": {},
   "outputs": [],
   "source": [
    "states = {\n",
    "        'ak': 'o',\n",
    "        'al': 's',\n",
    "        'ar': 's',\n",
    "        'as': 'o',\n",
    "        'az': 'w',\n",
    "        'ca': 'w',\n",
    "        'co': 'w',\n",
    "        'ct': 'n',\n",
    "        'dc': 'n',\n",
    "        'de': 'n',\n",
    "        'fl': 's',\n",
    "        'ga': 's',\n",
    "        'gu': 'o',\n",
    "        'hi': 'o',\n",
    "        'ia': 'm',\n",
    "        'id': 'w',\n",
    "        'il': 'm',\n",
    "        'in': 'm',\n",
    "        'ks': 'm',\n",
    "        'ky': 's',\n",
    "        'la': 's',\n",
    "        'ma': 'n',\n",
    "        'md': 'n',\n",
    "        'me': 'n',\n",
    "        'mi': 'w',\n",
    "        'mn': 'm',\n",
    "        'mo': 'm',\n",
    "        'mp': 'o',\n",
    "        'ms': 's',\n",
    "        'mt': 'w',\n",
    "        'na': 'o',\n",
    "        'nc': 's',\n",
    "        'nd': 'm',\n",
    "        'ne': 'w',\n",
    "        'nh': 'n',\n",
    "        'nj': 'n',\n",
    "        'nm': 'w',\n",
    "        'nv': 'w',\n",
    "        'ny': 'n',\n",
    "        'oh': 'm',\n",
    "        'ok': 's',\n",
    "        'or': 'w',\n",
    "        'pa': 'n',\n",
    "        'pr': 'o',\n",
    "        'ri': 'n',\n",
    "        'sc': 's',\n",
    "        'sd': 'm',\n",
    "        'tn': 's',\n",
    "        'tx': 's',\n",
    "        'ut': 'w',\n",
    "        'va': 's',\n",
    "        'vi': 'o',\n",
    "        'vt': 'n',\n",
    "        'wa': 'w',\n",
    "        'wi': 'm',\n",
    "        'wv': 's',\n",
    "        'wy': 'w'\n",
    "}"
   ]
  },
  {
   "cell_type": "code",
   "execution_count": 5,
   "metadata": {},
   "outputs": [
    {
     "data": {
      "text/plain": [
       "0         w\n",
       "1         w\n",
       "2         w\n",
       "3         w\n",
       "4         w\n",
       "         ..\n",
       "384972    w\n",
       "384973    w\n",
       "384974    w\n",
       "384975    w\n",
       "384976    w\n",
       "Name: reg, Length: 384977, dtype: object"
      ]
     },
     "execution_count": 5,
     "metadata": {},
     "output_type": "execute_result"
    }
   ],
   "source": [
    "data_raw['reg'] = data_raw.apply(\n",
    "    lambda row: states.get(row.state), axis = 1)\n",
    "data_raw['reg']"
   ]
  },
  {
   "cell_type": "code",
   "execution_count": 6,
   "metadata": {},
   "outputs": [],
   "source": [
    "# subset = np.random.choice(np.arange(data_raw.shape[0]), size=100000, replace=False)"
   ]
  },
  {
   "cell_type": "code",
   "execution_count": 7,
   "metadata": {},
   "outputs": [],
   "source": [
    "# data_raw = data_raw.iloc[subset]"
   ]
  },
  {
   "cell_type": "code",
   "execution_count": 8,
   "metadata": {},
   "outputs": [
    {
     "data": {
      "text/html": [
       "<div>\n",
       "<style scoped>\n",
       "    .dataframe tbody tr th:only-of-type {\n",
       "        vertical-align: middle;\n",
       "    }\n",
       "\n",
       "    .dataframe tbody tr th {\n",
       "        vertical-align: top;\n",
       "    }\n",
       "\n",
       "    .dataframe thead th {\n",
       "        text-align: right;\n",
       "    }\n",
       "</style>\n",
       "<table border=\"1\" class=\"dataframe\">\n",
       "  <thead>\n",
       "    <tr style=\"text-align: right;\">\n",
       "      <th></th>\n",
       "      <th>id</th>\n",
       "      <th>url</th>\n",
       "      <th>region</th>\n",
       "      <th>region_url</th>\n",
       "      <th>price</th>\n",
       "      <th>type</th>\n",
       "      <th>sqfeet</th>\n",
       "      <th>beds</th>\n",
       "      <th>baths</th>\n",
       "      <th>cats_allowed</th>\n",
       "      <th>...</th>\n",
       "      <th>electric_vehicle_charge</th>\n",
       "      <th>comes_furnished</th>\n",
       "      <th>laundry_options</th>\n",
       "      <th>parking_options</th>\n",
       "      <th>image_url</th>\n",
       "      <th>description</th>\n",
       "      <th>lat</th>\n",
       "      <th>long</th>\n",
       "      <th>state</th>\n",
       "      <th>reg</th>\n",
       "    </tr>\n",
       "  </thead>\n",
       "  <tbody>\n",
       "    <tr>\n",
       "      <th>0</th>\n",
       "      <td>7049044568</td>\n",
       "      <td>https://reno.craigslist.org/apa/d/reno-beautif...</td>\n",
       "      <td>reno / tahoe</td>\n",
       "      <td>https://reno.craigslist.org</td>\n",
       "      <td>1148</td>\n",
       "      <td>apartment</td>\n",
       "      <td>1078</td>\n",
       "      <td>3</td>\n",
       "      <td>2.0</td>\n",
       "      <td>1</td>\n",
       "      <td>...</td>\n",
       "      <td>0</td>\n",
       "      <td>0</td>\n",
       "      <td>w/d in unit</td>\n",
       "      <td>carport</td>\n",
       "      <td>https://images.craigslist.org/01616_daghmBUvTC...</td>\n",
       "      <td>Ridgeview by Vintage is where you will find al...</td>\n",
       "      <td>39.5483</td>\n",
       "      <td>-119.796</td>\n",
       "      <td>ca</td>\n",
       "      <td>w</td>\n",
       "    </tr>\n",
       "    <tr>\n",
       "      <th>1</th>\n",
       "      <td>7049047186</td>\n",
       "      <td>https://reno.craigslist.org/apa/d/reno-reduced...</td>\n",
       "      <td>reno / tahoe</td>\n",
       "      <td>https://reno.craigslist.org</td>\n",
       "      <td>1200</td>\n",
       "      <td>condo</td>\n",
       "      <td>1001</td>\n",
       "      <td>2</td>\n",
       "      <td>2.0</td>\n",
       "      <td>0</td>\n",
       "      <td>...</td>\n",
       "      <td>0</td>\n",
       "      <td>0</td>\n",
       "      <td>w/d hookups</td>\n",
       "      <td>carport</td>\n",
       "      <td>https://images.craigslist.org/00V0V_5va0MkgO9q...</td>\n",
       "      <td>Conveniently located in the middle town of Ren...</td>\n",
       "      <td>39.5026</td>\n",
       "      <td>-119.789</td>\n",
       "      <td>ca</td>\n",
       "      <td>w</td>\n",
       "    </tr>\n",
       "    <tr>\n",
       "      <th>2</th>\n",
       "      <td>7043634882</td>\n",
       "      <td>https://reno.craigslist.org/apa/d/sparks-state...</td>\n",
       "      <td>reno / tahoe</td>\n",
       "      <td>https://reno.craigslist.org</td>\n",
       "      <td>1813</td>\n",
       "      <td>apartment</td>\n",
       "      <td>1683</td>\n",
       "      <td>2</td>\n",
       "      <td>2.0</td>\n",
       "      <td>1</td>\n",
       "      <td>...</td>\n",
       "      <td>0</td>\n",
       "      <td>0</td>\n",
       "      <td>w/d in unit</td>\n",
       "      <td>attached garage</td>\n",
       "      <td>https://images.craigslist.org/00t0t_erYqC6LgB8...</td>\n",
       "      <td>2BD | 2BA | 1683SQFTDiscover exceptional servi...</td>\n",
       "      <td>39.6269</td>\n",
       "      <td>-119.708</td>\n",
       "      <td>ca</td>\n",
       "      <td>w</td>\n",
       "    </tr>\n",
       "    <tr>\n",
       "      <th>3</th>\n",
       "      <td>7049045324</td>\n",
       "      <td>https://reno.craigslist.org/apa/d/reno-1x1-fir...</td>\n",
       "      <td>reno / tahoe</td>\n",
       "      <td>https://reno.craigslist.org</td>\n",
       "      <td>1095</td>\n",
       "      <td>apartment</td>\n",
       "      <td>708</td>\n",
       "      <td>1</td>\n",
       "      <td>1.0</td>\n",
       "      <td>1</td>\n",
       "      <td>...</td>\n",
       "      <td>0</td>\n",
       "      <td>0</td>\n",
       "      <td>w/d in unit</td>\n",
       "      <td>carport</td>\n",
       "      <td>https://images.craigslist.org/00303_3HSJz75zlI...</td>\n",
       "      <td>MOVE IN SPECIAL FREE WASHER/DRYER WITH 6 OR 12...</td>\n",
       "      <td>39.4477</td>\n",
       "      <td>-119.771</td>\n",
       "      <td>ca</td>\n",
       "      <td>w</td>\n",
       "    </tr>\n",
       "    <tr>\n",
       "      <th>4</th>\n",
       "      <td>7049043759</td>\n",
       "      <td>https://reno.craigslist.org/apa/d/reno-no-long...</td>\n",
       "      <td>reno / tahoe</td>\n",
       "      <td>https://reno.craigslist.org</td>\n",
       "      <td>289</td>\n",
       "      <td>apartment</td>\n",
       "      <td>250</td>\n",
       "      <td>0</td>\n",
       "      <td>1.0</td>\n",
       "      <td>1</td>\n",
       "      <td>...</td>\n",
       "      <td>0</td>\n",
       "      <td>1</td>\n",
       "      <td>laundry on site</td>\n",
       "      <td>NaN</td>\n",
       "      <td>https://images.craigslist.org/01616_fALAWFV8zQ...</td>\n",
       "      <td>Move In Today: Reno Low-Cost, Clean &amp; Furnishe...</td>\n",
       "      <td>39.5357</td>\n",
       "      <td>-119.805</td>\n",
       "      <td>ca</td>\n",
       "      <td>w</td>\n",
       "    </tr>\n",
       "  </tbody>\n",
       "</table>\n",
       "<p>5 rows × 23 columns</p>\n",
       "</div>"
      ],
      "text/plain": [
       "           id                                                url  \\\n",
       "0  7049044568  https://reno.craigslist.org/apa/d/reno-beautif...   \n",
       "1  7049047186  https://reno.craigslist.org/apa/d/reno-reduced...   \n",
       "2  7043634882  https://reno.craigslist.org/apa/d/sparks-state...   \n",
       "3  7049045324  https://reno.craigslist.org/apa/d/reno-1x1-fir...   \n",
       "4  7049043759  https://reno.craigslist.org/apa/d/reno-no-long...   \n",
       "\n",
       "         region                   region_url  price       type  sqfeet  beds  \\\n",
       "0  reno / tahoe  https://reno.craigslist.org   1148  apartment    1078     3   \n",
       "1  reno / tahoe  https://reno.craigslist.org   1200      condo    1001     2   \n",
       "2  reno / tahoe  https://reno.craigslist.org   1813  apartment    1683     2   \n",
       "3  reno / tahoe  https://reno.craigslist.org   1095  apartment     708     1   \n",
       "4  reno / tahoe  https://reno.craigslist.org    289  apartment     250     0   \n",
       "\n",
       "   baths  cats_allowed  ...  electric_vehicle_charge  comes_furnished  \\\n",
       "0    2.0             1  ...                        0                0   \n",
       "1    2.0             0  ...                        0                0   \n",
       "2    2.0             1  ...                        0                0   \n",
       "3    1.0             1  ...                        0                0   \n",
       "4    1.0             1  ...                        0                1   \n",
       "\n",
       "   laundry_options  parking_options  \\\n",
       "0      w/d in unit          carport   \n",
       "1      w/d hookups          carport   \n",
       "2      w/d in unit  attached garage   \n",
       "3      w/d in unit          carport   \n",
       "4  laundry on site              NaN   \n",
       "\n",
       "                                           image_url  \\\n",
       "0  https://images.craigslist.org/01616_daghmBUvTC...   \n",
       "1  https://images.craigslist.org/00V0V_5va0MkgO9q...   \n",
       "2  https://images.craigslist.org/00t0t_erYqC6LgB8...   \n",
       "3  https://images.craigslist.org/00303_3HSJz75zlI...   \n",
       "4  https://images.craigslist.org/01616_fALAWFV8zQ...   \n",
       "\n",
       "                                         description      lat     long state  \\\n",
       "0  Ridgeview by Vintage is where you will find al...  39.5483 -119.796    ca   \n",
       "1  Conveniently located in the middle town of Ren...  39.5026 -119.789    ca   \n",
       "2  2BD | 2BA | 1683SQFTDiscover exceptional servi...  39.6269 -119.708    ca   \n",
       "3  MOVE IN SPECIAL FREE WASHER/DRYER WITH 6 OR 12...  39.4477 -119.771    ca   \n",
       "4  Move In Today: Reno Low-Cost, Clean & Furnishe...  39.5357 -119.805    ca   \n",
       "\n",
       "   reg  \n",
       "0    w  \n",
       "1    w  \n",
       "2    w  \n",
       "3    w  \n",
       "4    w  \n",
       "\n",
       "[5 rows x 23 columns]"
      ]
     },
     "execution_count": 8,
     "metadata": {},
     "output_type": "execute_result"
    }
   ],
   "source": [
    "data_raw.head()"
   ]
  },
  {
   "cell_type": "code",
   "execution_count": 9,
   "metadata": {},
   "outputs": [
    {
     "data": {
      "text/html": [
       "<div>\n",
       "<style scoped>\n",
       "    .dataframe tbody tr th:only-of-type {\n",
       "        vertical-align: middle;\n",
       "    }\n",
       "\n",
       "    .dataframe tbody tr th {\n",
       "        vertical-align: top;\n",
       "    }\n",
       "\n",
       "    .dataframe thead th {\n",
       "        text-align: right;\n",
       "    }\n",
       "</style>\n",
       "<table border=\"1\" class=\"dataframe\">\n",
       "  <thead>\n",
       "    <tr style=\"text-align: right;\">\n",
       "      <th></th>\n",
       "      <th>id</th>\n",
       "      <th>url</th>\n",
       "      <th>region</th>\n",
       "      <th>region_url</th>\n",
       "      <th>price</th>\n",
       "      <th>type</th>\n",
       "      <th>sqfeet</th>\n",
       "      <th>beds</th>\n",
       "      <th>baths</th>\n",
       "      <th>cats_allowed</th>\n",
       "      <th>...</th>\n",
       "      <th>electric_vehicle_charge</th>\n",
       "      <th>comes_furnished</th>\n",
       "      <th>laundry_options</th>\n",
       "      <th>parking_options</th>\n",
       "      <th>image_url</th>\n",
       "      <th>description</th>\n",
       "      <th>lat</th>\n",
       "      <th>long</th>\n",
       "      <th>state</th>\n",
       "      <th>reg</th>\n",
       "    </tr>\n",
       "  </thead>\n",
       "  <tbody>\n",
       "    <tr>\n",
       "      <th>384972</th>\n",
       "      <td>7049053337</td>\n",
       "      <td>https://reno.craigslist.org/apa/d/reno-2x2-thi...</td>\n",
       "      <td>reno / tahoe</td>\n",
       "      <td>https://reno.craigslist.org</td>\n",
       "      <td>1295</td>\n",
       "      <td>apartment</td>\n",
       "      <td>957</td>\n",
       "      <td>2</td>\n",
       "      <td>2.0</td>\n",
       "      <td>1</td>\n",
       "      <td>...</td>\n",
       "      <td>0</td>\n",
       "      <td>0</td>\n",
       "      <td>w/d in unit</td>\n",
       "      <td>carport</td>\n",
       "      <td>https://images.craigslist.org/00O0O_atyH2pgYeH...</td>\n",
       "      <td>MOVE IN SPECIAL FREE WASHER/DRYER WITH 6 OR 12...</td>\n",
       "      <td>39.4477</td>\n",
       "      <td>-119.771</td>\n",
       "      <td>ca</td>\n",
       "      <td>w</td>\n",
       "    </tr>\n",
       "    <tr>\n",
       "      <th>384973</th>\n",
       "      <td>7049052968</td>\n",
       "      <td>https://reno.craigslist.org/apa/d/sparks-over-...</td>\n",
       "      <td>reno / tahoe</td>\n",
       "      <td>https://reno.craigslist.org</td>\n",
       "      <td>1549</td>\n",
       "      <td>apartment</td>\n",
       "      <td>1034</td>\n",
       "      <td>2</td>\n",
       "      <td>2.0</td>\n",
       "      <td>1</td>\n",
       "      <td>...</td>\n",
       "      <td>0</td>\n",
       "      <td>0</td>\n",
       "      <td>w/d in unit</td>\n",
       "      <td>NaN</td>\n",
       "      <td>https://images.craigslist.org/00808_3EobCZHFEx...</td>\n",
       "      <td>AN OASIS OF YOUR OWN Introducing Lumina at Spa...</td>\n",
       "      <td>39.6269</td>\n",
       "      <td>-119.708</td>\n",
       "      <td>ca</td>\n",
       "      <td>w</td>\n",
       "    </tr>\n",
       "    <tr>\n",
       "      <th>384974</th>\n",
       "      <td>7049050454</td>\n",
       "      <td>https://reno.craigslist.org/apa/d/sparks-1mont...</td>\n",
       "      <td>reno / tahoe</td>\n",
       "      <td>https://reno.craigslist.org</td>\n",
       "      <td>1249</td>\n",
       "      <td>apartment</td>\n",
       "      <td>840</td>\n",
       "      <td>2</td>\n",
       "      <td>1.0</td>\n",
       "      <td>1</td>\n",
       "      <td>...</td>\n",
       "      <td>0</td>\n",
       "      <td>0</td>\n",
       "      <td>laundry on site</td>\n",
       "      <td>off-street parking</td>\n",
       "      <td>https://images.craigslist.org/01111_kr3uKMhzrf...</td>\n",
       "      <td>***Newly MODERNIZED Apartment Home***  âï¸ ...</td>\n",
       "      <td>39.5358</td>\n",
       "      <td>-119.746</td>\n",
       "      <td>ca</td>\n",
       "      <td>w</td>\n",
       "    </tr>\n",
       "    <tr>\n",
       "      <th>384975</th>\n",
       "      <td>7049050149</td>\n",
       "      <td>https://reno.craigslist.org/apa/d/sparks-ready...</td>\n",
       "      <td>reno / tahoe</td>\n",
       "      <td>https://reno.craigslist.org</td>\n",
       "      <td>1429</td>\n",
       "      <td>apartment</td>\n",
       "      <td>976</td>\n",
       "      <td>2</td>\n",
       "      <td>2.0</td>\n",
       "      <td>1</td>\n",
       "      <td>...</td>\n",
       "      <td>0</td>\n",
       "      <td>0</td>\n",
       "      <td>w/d in unit</td>\n",
       "      <td>carport</td>\n",
       "      <td>https://images.craigslist.org/00c0c_1GslcQnpLP...</td>\n",
       "      <td>Welcome Home We welcome you to The Villas at D...</td>\n",
       "      <td>39.5585</td>\n",
       "      <td>-119.703</td>\n",
       "      <td>ca</td>\n",
       "      <td>w</td>\n",
       "    </tr>\n",
       "    <tr>\n",
       "      <th>384976</th>\n",
       "      <td>7049050010</td>\n",
       "      <td>https://reno.craigslist.org/apa/d/reno-2x2-thi...</td>\n",
       "      <td>reno / tahoe</td>\n",
       "      <td>https://reno.craigslist.org</td>\n",
       "      <td>1295</td>\n",
       "      <td>apartment</td>\n",
       "      <td>957</td>\n",
       "      <td>2</td>\n",
       "      <td>2.0</td>\n",
       "      <td>1</td>\n",
       "      <td>...</td>\n",
       "      <td>0</td>\n",
       "      <td>0</td>\n",
       "      <td>w/d in unit</td>\n",
       "      <td>carport</td>\n",
       "      <td>https://images.craigslist.org/00O0O_atyH2pgYeH...</td>\n",
       "      <td>MOVE IN SPECIAL FREE WASHER/DRYER WITH 6 OR 12...</td>\n",
       "      <td>39.4477</td>\n",
       "      <td>-119.771</td>\n",
       "      <td>ca</td>\n",
       "      <td>w</td>\n",
       "    </tr>\n",
       "  </tbody>\n",
       "</table>\n",
       "<p>5 rows × 23 columns</p>\n",
       "</div>"
      ],
      "text/plain": [
       "                id                                                url  \\\n",
       "384972  7049053337  https://reno.craigslist.org/apa/d/reno-2x2-thi...   \n",
       "384973  7049052968  https://reno.craigslist.org/apa/d/sparks-over-...   \n",
       "384974  7049050454  https://reno.craigslist.org/apa/d/sparks-1mont...   \n",
       "384975  7049050149  https://reno.craigslist.org/apa/d/sparks-ready...   \n",
       "384976  7049050010  https://reno.craigslist.org/apa/d/reno-2x2-thi...   \n",
       "\n",
       "              region                   region_url  price       type  sqfeet  \\\n",
       "384972  reno / tahoe  https://reno.craigslist.org   1295  apartment     957   \n",
       "384973  reno / tahoe  https://reno.craigslist.org   1549  apartment    1034   \n",
       "384974  reno / tahoe  https://reno.craigslist.org   1249  apartment     840   \n",
       "384975  reno / tahoe  https://reno.craigslist.org   1429  apartment     976   \n",
       "384976  reno / tahoe  https://reno.craigslist.org   1295  apartment     957   \n",
       "\n",
       "        beds  baths  cats_allowed  ...  electric_vehicle_charge  \\\n",
       "384972     2    2.0             1  ...                        0   \n",
       "384973     2    2.0             1  ...                        0   \n",
       "384974     2    1.0             1  ...                        0   \n",
       "384975     2    2.0             1  ...                        0   \n",
       "384976     2    2.0             1  ...                        0   \n",
       "\n",
       "        comes_furnished  laundry_options     parking_options  \\\n",
       "384972                0      w/d in unit             carport   \n",
       "384973                0      w/d in unit                 NaN   \n",
       "384974                0  laundry on site  off-street parking   \n",
       "384975                0      w/d in unit             carport   \n",
       "384976                0      w/d in unit             carport   \n",
       "\n",
       "                                                image_url  \\\n",
       "384972  https://images.craigslist.org/00O0O_atyH2pgYeH...   \n",
       "384973  https://images.craigslist.org/00808_3EobCZHFEx...   \n",
       "384974  https://images.craigslist.org/01111_kr3uKMhzrf...   \n",
       "384975  https://images.craigslist.org/00c0c_1GslcQnpLP...   \n",
       "384976  https://images.craigslist.org/00O0O_atyH2pgYeH...   \n",
       "\n",
       "                                              description      lat     long  \\\n",
       "384972  MOVE IN SPECIAL FREE WASHER/DRYER WITH 6 OR 12...  39.4477 -119.771   \n",
       "384973  AN OASIS OF YOUR OWN Introducing Lumina at Spa...  39.6269 -119.708   \n",
       "384974  ***Newly MODERNIZED Apartment Home***  âï¸ ...  39.5358 -119.746   \n",
       "384975  Welcome Home We welcome you to The Villas at D...  39.5585 -119.703   \n",
       "384976  MOVE IN SPECIAL FREE WASHER/DRYER WITH 6 OR 12...  39.4477 -119.771   \n",
       "\n",
       "       state  reg  \n",
       "384972    ca    w  \n",
       "384973    ca    w  \n",
       "384974    ca    w  \n",
       "384975    ca    w  \n",
       "384976    ca    w  \n",
       "\n",
       "[5 rows x 23 columns]"
      ]
     },
     "execution_count": 9,
     "metadata": {},
     "output_type": "execute_result"
    }
   ],
   "source": [
    "data_raw.tail()"
   ]
  },
  {
   "cell_type": "code",
   "execution_count": 10,
   "metadata": {},
   "outputs": [
    {
     "name": "stdout",
     "output_type": "stream",
     "text": [
      "<class 'pandas.core.frame.DataFrame'>\n",
      "RangeIndex: 384977 entries, 0 to 384976\n",
      "Data columns (total 23 columns):\n",
      " #   Column                   Non-Null Count   Dtype  \n",
      "---  ------                   --------------   -----  \n",
      " 0   id                       384977 non-null  int64  \n",
      " 1   url                      384977 non-null  object \n",
      " 2   region                   384977 non-null  object \n",
      " 3   region_url               384977 non-null  object \n",
      " 4   price                    384977 non-null  int64  \n",
      " 5   type                     384977 non-null  object \n",
      " 6   sqfeet                   384977 non-null  int64  \n",
      " 7   beds                     384977 non-null  int64  \n",
      " 8   baths                    384977 non-null  float64\n",
      " 9   cats_allowed             384977 non-null  int64  \n",
      " 10  dogs_allowed             384977 non-null  int64  \n",
      " 11  smoking_allowed          384977 non-null  int64  \n",
      " 12  wheelchair_access        384977 non-null  int64  \n",
      " 13  electric_vehicle_charge  384977 non-null  int64  \n",
      " 14  comes_furnished          384977 non-null  int64  \n",
      " 15  laundry_options          305951 non-null  object \n",
      " 16  parking_options          244290 non-null  object \n",
      " 17  image_url                384977 non-null  object \n",
      " 18  description              384975 non-null  object \n",
      " 19  lat                      383059 non-null  float64\n",
      " 20  long                     383059 non-null  float64\n",
      " 21  state                    384977 non-null  object \n",
      " 22  reg                      384977 non-null  object \n",
      "dtypes: float64(3), int64(10), object(10)\n",
      "memory usage: 67.6+ MB\n"
     ]
    }
   ],
   "source": [
    "data_raw.info()"
   ]
  },
  {
   "cell_type": "markdown",
   "metadata": {},
   "source": [
    "### 2. Визуализация данных"
   ]
  },
  {
   "cell_type": "code",
   "execution_count": 11,
   "metadata": {},
   "outputs": [],
   "source": [
    "np.random.seed(42)\n",
    "random_subset = np.random.choice(np.arange(data_raw.shape[0]), size=1000, replace=False)"
   ]
  },
  {
   "cell_type": "code",
   "execution_count": 12,
   "metadata": {},
   "outputs": [],
   "source": [
    "# sns.pairplot(data_raw.iloc[random_subset], hue='type', diag_kind='hist')\n",
    "# plt.legend()\n",
    "# pass"
   ]
  },
  {
   "cell_type": "code",
   "execution_count": 13,
   "metadata": {},
   "outputs": [
    {
     "data": {
      "text/html": [
       "<div>\n",
       "<style scoped>\n",
       "    .dataframe tbody tr th:only-of-type {\n",
       "        vertical-align: middle;\n",
       "    }\n",
       "\n",
       "    .dataframe tbody tr th {\n",
       "        vertical-align: top;\n",
       "    }\n",
       "\n",
       "    .dataframe thead th {\n",
       "        text-align: right;\n",
       "    }\n",
       "</style>\n",
       "<table border=\"1\" class=\"dataframe\">\n",
       "  <thead>\n",
       "    <tr style=\"text-align: right;\">\n",
       "      <th></th>\n",
       "      <th>id</th>\n",
       "      <th>price</th>\n",
       "      <th>sqfeet</th>\n",
       "      <th>beds</th>\n",
       "      <th>baths</th>\n",
       "      <th>cats_allowed</th>\n",
       "      <th>dogs_allowed</th>\n",
       "      <th>smoking_allowed</th>\n",
       "      <th>wheelchair_access</th>\n",
       "      <th>electric_vehicle_charge</th>\n",
       "      <th>comes_furnished</th>\n",
       "      <th>lat</th>\n",
       "      <th>long</th>\n",
       "    </tr>\n",
       "  </thead>\n",
       "  <tbody>\n",
       "    <tr>\n",
       "      <th>id</th>\n",
       "      <td>1.000000</td>\n",
       "      <td>-0.001007</td>\n",
       "      <td>-0.005020</td>\n",
       "      <td>-0.017955</td>\n",
       "      <td>-0.034989</td>\n",
       "      <td>0.043519</td>\n",
       "      <td>0.035490</td>\n",
       "      <td>0.016859</td>\n",
       "      <td>0.007454</td>\n",
       "      <td>0.019405</td>\n",
       "      <td>-0.030675</td>\n",
       "      <td>-0.001577</td>\n",
       "      <td>-0.082735</td>\n",
       "    </tr>\n",
       "    <tr>\n",
       "      <th>price</th>\n",
       "      <td>-0.001007</td>\n",
       "      <td>1.000000</td>\n",
       "      <td>0.000009</td>\n",
       "      <td>0.000062</td>\n",
       "      <td>0.000153</td>\n",
       "      <td>0.000973</td>\n",
       "      <td>0.000990</td>\n",
       "      <td>0.000970</td>\n",
       "      <td>-0.000402</td>\n",
       "      <td>-0.000176</td>\n",
       "      <td>-0.000353</td>\n",
       "      <td>-0.001411</td>\n",
       "      <td>0.000766</td>\n",
       "    </tr>\n",
       "    <tr>\n",
       "      <th>sqfeet</th>\n",
       "      <td>-0.005020</td>\n",
       "      <td>0.000009</td>\n",
       "      <td>1.000000</td>\n",
       "      <td>0.003840</td>\n",
       "      <td>0.011193</td>\n",
       "      <td>-0.003811</td>\n",
       "      <td>-0.002760</td>\n",
       "      <td>-0.002142</td>\n",
       "      <td>-0.001216</td>\n",
       "      <td>-0.000126</td>\n",
       "      <td>0.001180</td>\n",
       "      <td>0.006790</td>\n",
       "      <td>-0.002861</td>\n",
       "    </tr>\n",
       "    <tr>\n",
       "      <th>beds</th>\n",
       "      <td>-0.017955</td>\n",
       "      <td>0.000062</td>\n",
       "      <td>0.003840</td>\n",
       "      <td>1.000000</td>\n",
       "      <td>0.416422</td>\n",
       "      <td>-0.022956</td>\n",
       "      <td>-0.013523</td>\n",
       "      <td>-0.001158</td>\n",
       "      <td>-0.011393</td>\n",
       "      <td>-0.004735</td>\n",
       "      <td>0.002215</td>\n",
       "      <td>0.008768</td>\n",
       "      <td>0.007637</td>\n",
       "    </tr>\n",
       "    <tr>\n",
       "      <th>baths</th>\n",
       "      <td>-0.034989</td>\n",
       "      <td>0.000153</td>\n",
       "      <td>0.011193</td>\n",
       "      <td>0.416422</td>\n",
       "      <td>1.000000</td>\n",
       "      <td>-0.019929</td>\n",
       "      <td>0.017550</td>\n",
       "      <td>-0.014775</td>\n",
       "      <td>0.018623</td>\n",
       "      <td>0.007887</td>\n",
       "      <td>0.038069</td>\n",
       "      <td>-0.078356</td>\n",
       "      <td>-0.005544</td>\n",
       "    </tr>\n",
       "    <tr>\n",
       "      <th>cats_allowed</th>\n",
       "      <td>0.043519</td>\n",
       "      <td>0.000973</td>\n",
       "      <td>-0.003811</td>\n",
       "      <td>-0.022956</td>\n",
       "      <td>-0.019929</td>\n",
       "      <td>1.000000</td>\n",
       "      <td>0.887297</td>\n",
       "      <td>0.017029</td>\n",
       "      <td>0.122366</td>\n",
       "      <td>0.049356</td>\n",
       "      <td>-0.058884</td>\n",
       "      <td>-0.015717</td>\n",
       "      <td>0.033789</td>\n",
       "    </tr>\n",
       "    <tr>\n",
       "      <th>dogs_allowed</th>\n",
       "      <td>0.035490</td>\n",
       "      <td>0.000990</td>\n",
       "      <td>-0.002760</td>\n",
       "      <td>-0.013523</td>\n",
       "      <td>0.017550</td>\n",
       "      <td>0.887297</td>\n",
       "      <td>1.000000</td>\n",
       "      <td>0.013796</td>\n",
       "      <td>0.129112</td>\n",
       "      <td>0.049274</td>\n",
       "      <td>-0.037666</td>\n",
       "      <td>-0.056582</td>\n",
       "      <td>0.018675</td>\n",
       "    </tr>\n",
       "    <tr>\n",
       "      <th>smoking_allowed</th>\n",
       "      <td>0.016859</td>\n",
       "      <td>0.000970</td>\n",
       "      <td>-0.002142</td>\n",
       "      <td>-0.001158</td>\n",
       "      <td>-0.014775</td>\n",
       "      <td>0.017029</td>\n",
       "      <td>0.013796</td>\n",
       "      <td>1.000000</td>\n",
       "      <td>-0.223623</td>\n",
       "      <td>-0.096017</td>\n",
       "      <td>-0.161351</td>\n",
       "      <td>-0.177156</td>\n",
       "      <td>0.162939</td>\n",
       "    </tr>\n",
       "    <tr>\n",
       "      <th>wheelchair_access</th>\n",
       "      <td>0.007454</td>\n",
       "      <td>-0.000402</td>\n",
       "      <td>-0.001216</td>\n",
       "      <td>-0.011393</td>\n",
       "      <td>0.018623</td>\n",
       "      <td>0.122366</td>\n",
       "      <td>0.129112</td>\n",
       "      <td>-0.223623</td>\n",
       "      <td>1.000000</td>\n",
       "      <td>0.193245</td>\n",
       "      <td>0.195817</td>\n",
       "      <td>0.002746</td>\n",
       "      <td>-0.025197</td>\n",
       "    </tr>\n",
       "    <tr>\n",
       "      <th>electric_vehicle_charge</th>\n",
       "      <td>0.019405</td>\n",
       "      <td>-0.000176</td>\n",
       "      <td>-0.000126</td>\n",
       "      <td>-0.004735</td>\n",
       "      <td>0.007887</td>\n",
       "      <td>0.049356</td>\n",
       "      <td>0.049274</td>\n",
       "      <td>-0.096017</td>\n",
       "      <td>0.193245</td>\n",
       "      <td>1.000000</td>\n",
       "      <td>0.069611</td>\n",
       "      <td>0.026055</td>\n",
       "      <td>-0.060418</td>\n",
       "    </tr>\n",
       "    <tr>\n",
       "      <th>comes_furnished</th>\n",
       "      <td>-0.030675</td>\n",
       "      <td>-0.000353</td>\n",
       "      <td>0.001180</td>\n",
       "      <td>0.002215</td>\n",
       "      <td>0.038069</td>\n",
       "      <td>-0.058884</td>\n",
       "      <td>-0.037666</td>\n",
       "      <td>-0.161351</td>\n",
       "      <td>0.195817</td>\n",
       "      <td>0.069611</td>\n",
       "      <td>1.000000</td>\n",
       "      <td>0.004662</td>\n",
       "      <td>-0.027342</td>\n",
       "    </tr>\n",
       "    <tr>\n",
       "      <th>lat</th>\n",
       "      <td>-0.001577</td>\n",
       "      <td>-0.001411</td>\n",
       "      <td>0.006790</td>\n",
       "      <td>0.008768</td>\n",
       "      <td>-0.078356</td>\n",
       "      <td>-0.015717</td>\n",
       "      <td>-0.056582</td>\n",
       "      <td>-0.177156</td>\n",
       "      <td>0.002746</td>\n",
       "      <td>0.026055</td>\n",
       "      <td>0.004662</td>\n",
       "      <td>1.000000</td>\n",
       "      <td>-0.124032</td>\n",
       "    </tr>\n",
       "    <tr>\n",
       "      <th>long</th>\n",
       "      <td>-0.082735</td>\n",
       "      <td>0.000766</td>\n",
       "      <td>-0.002861</td>\n",
       "      <td>0.007637</td>\n",
       "      <td>-0.005544</td>\n",
       "      <td>0.033789</td>\n",
       "      <td>0.018675</td>\n",
       "      <td>0.162939</td>\n",
       "      <td>-0.025197</td>\n",
       "      <td>-0.060418</td>\n",
       "      <td>-0.027342</td>\n",
       "      <td>-0.124032</td>\n",
       "      <td>1.000000</td>\n",
       "    </tr>\n",
       "  </tbody>\n",
       "</table>\n",
       "</div>"
      ],
      "text/plain": [
       "                               id     price    sqfeet      beds     baths  \\\n",
       "id                       1.000000 -0.001007 -0.005020 -0.017955 -0.034989   \n",
       "price                   -0.001007  1.000000  0.000009  0.000062  0.000153   \n",
       "sqfeet                  -0.005020  0.000009  1.000000  0.003840  0.011193   \n",
       "beds                    -0.017955  0.000062  0.003840  1.000000  0.416422   \n",
       "baths                   -0.034989  0.000153  0.011193  0.416422  1.000000   \n",
       "cats_allowed             0.043519  0.000973 -0.003811 -0.022956 -0.019929   \n",
       "dogs_allowed             0.035490  0.000990 -0.002760 -0.013523  0.017550   \n",
       "smoking_allowed          0.016859  0.000970 -0.002142 -0.001158 -0.014775   \n",
       "wheelchair_access        0.007454 -0.000402 -0.001216 -0.011393  0.018623   \n",
       "electric_vehicle_charge  0.019405 -0.000176 -0.000126 -0.004735  0.007887   \n",
       "comes_furnished         -0.030675 -0.000353  0.001180  0.002215  0.038069   \n",
       "lat                     -0.001577 -0.001411  0.006790  0.008768 -0.078356   \n",
       "long                    -0.082735  0.000766 -0.002861  0.007637 -0.005544   \n",
       "\n",
       "                         cats_allowed  dogs_allowed  smoking_allowed  \\\n",
       "id                           0.043519      0.035490         0.016859   \n",
       "price                        0.000973      0.000990         0.000970   \n",
       "sqfeet                      -0.003811     -0.002760        -0.002142   \n",
       "beds                        -0.022956     -0.013523        -0.001158   \n",
       "baths                       -0.019929      0.017550        -0.014775   \n",
       "cats_allowed                 1.000000      0.887297         0.017029   \n",
       "dogs_allowed                 0.887297      1.000000         0.013796   \n",
       "smoking_allowed              0.017029      0.013796         1.000000   \n",
       "wheelchair_access            0.122366      0.129112        -0.223623   \n",
       "electric_vehicle_charge      0.049356      0.049274        -0.096017   \n",
       "comes_furnished             -0.058884     -0.037666        -0.161351   \n",
       "lat                         -0.015717     -0.056582        -0.177156   \n",
       "long                         0.033789      0.018675         0.162939   \n",
       "\n",
       "                         wheelchair_access  electric_vehicle_charge  \\\n",
       "id                                0.007454                 0.019405   \n",
       "price                            -0.000402                -0.000176   \n",
       "sqfeet                           -0.001216                -0.000126   \n",
       "beds                             -0.011393                -0.004735   \n",
       "baths                             0.018623                 0.007887   \n",
       "cats_allowed                      0.122366                 0.049356   \n",
       "dogs_allowed                      0.129112                 0.049274   \n",
       "smoking_allowed                  -0.223623                -0.096017   \n",
       "wheelchair_access                 1.000000                 0.193245   \n",
       "electric_vehicle_charge           0.193245                 1.000000   \n",
       "comes_furnished                   0.195817                 0.069611   \n",
       "lat                               0.002746                 0.026055   \n",
       "long                             -0.025197                -0.060418   \n",
       "\n",
       "                         comes_furnished       lat      long  \n",
       "id                             -0.030675 -0.001577 -0.082735  \n",
       "price                          -0.000353 -0.001411  0.000766  \n",
       "sqfeet                          0.001180  0.006790 -0.002861  \n",
       "beds                            0.002215  0.008768  0.007637  \n",
       "baths                           0.038069 -0.078356 -0.005544  \n",
       "cats_allowed                   -0.058884 -0.015717  0.033789  \n",
       "dogs_allowed                   -0.037666 -0.056582  0.018675  \n",
       "smoking_allowed                -0.161351 -0.177156  0.162939  \n",
       "wheelchair_access               0.195817  0.002746 -0.025197  \n",
       "electric_vehicle_charge         0.069611  0.026055 -0.060418  \n",
       "comes_furnished                 1.000000  0.004662 -0.027342  \n",
       "lat                             0.004662  1.000000 -0.124032  \n",
       "long                           -0.027342 -0.124032  1.000000  "
      ]
     },
     "execution_count": 13,
     "metadata": {},
     "output_type": "execute_result"
    }
   ],
   "source": [
    "corr_mat = data_raw.corr()\n",
    "corr_mat"
   ]
  },
  {
   "cell_type": "code",
   "execution_count": 14,
   "metadata": {},
   "outputs": [
    {
     "data": {
      "text/plain": [
       "<AxesSubplot:>"
      ]
     },
     "execution_count": 14,
     "metadata": {},
     "output_type": "execute_result"
    },
    {
     "data": {
      "image/png": "[encoded data removed]",
      "text/plain": [
       "<Figure size 720x576 with 2 Axes>"
      ]
     },
     "metadata": {
      "needs_background": "light"
     },
     "output_type": "display_data"
    }
   ],
   "source": [
    "plt.figure(figsize = (10,8))\n",
    "sns.heatmap(data_raw.corr(),annot=True,fmt='.2f',vmin=-1, vmax=1,cmap=\"coolwarm\")"
   ]
  },
  {
   "cell_type": "markdown",
   "metadata": {},
   "source": [
    "Разрешение на собак и разрешение на котов сильно коррелируют. Также, существует вполне очевидная связь между числом кроватей и числом ванных комнат."
   ]
  },
  {
   "cell_type": "code",
   "execution_count": 15,
   "metadata": {},
   "outputs": [
    {
     "data": {
      "text/plain": [
       "<AxesSubplot:xlabel='reg', ylabel='count'>"
      ]
     },
     "execution_count": 15,
     "metadata": {},
     "output_type": "execute_result"
    },
    {
     "data": {
      "image/png": "[encoded data removed]",
      "text/plain": [
       "<Figure size 1440x720 with 1 Axes>"
      ]
     },
     "metadata": {
      "needs_background": "light"
     },
     "output_type": "display_data"
    }
   ],
   "source": [
    "plt.figure(figsize=(20,10))\n",
    "sns.countplot(x='reg',data = data_raw)"
   ]
  },
  {
   "cell_type": "markdown",
   "metadata": {},
   "source": [
    "Классы несбалансированны, преобладает класс 's' - South"
   ]
  },
  {
   "cell_type": "markdown",
   "metadata": {},
   "source": [
    "### 3. Обработка данных"
   ]
  },
  {
   "cell_type": "code",
   "execution_count": 16,
   "metadata": {},
   "outputs": [
    {
     "data": {
      "text/plain": [
       "id                              0\n",
       "url                             0\n",
       "region                          0\n",
       "region_url                      0\n",
       "price                           0\n",
       "type                            0\n",
       "sqfeet                          0\n",
       "beds                            0\n",
       "baths                           0\n",
       "cats_allowed                    0\n",
       "dogs_allowed                    0\n",
       "smoking_allowed                 0\n",
       "wheelchair_access               0\n",
       "electric_vehicle_charge         0\n",
       "comes_furnished                 0\n",
       "laundry_options             79026\n",
       "parking_options            140687\n",
       "image_url                       0\n",
       "description                     2\n",
       "lat                          1918\n",
       "long                         1918\n",
       "state                           0\n",
       "reg                             0\n",
       "dtype: int64"
      ]
     },
     "execution_count": 16,
     "metadata": {},
     "output_type": "execute_result"
    }
   ],
   "source": [
    "data_raw.isna().sum()"
   ]
  },
  {
   "cell_type": "code",
   "execution_count": 17,
   "metadata": {},
   "outputs": [
    {
     "data": {
      "text/html": [
       "<div>\n",
       "<style scoped>\n",
       "    .dataframe tbody tr th:only-of-type {\n",
       "        vertical-align: middle;\n",
       "    }\n",
       "\n",
       "    .dataframe tbody tr th {\n",
       "        vertical-align: top;\n",
       "    }\n",
       "\n",
       "    .dataframe thead th {\n",
       "        text-align: right;\n",
       "    }\n",
       "</style>\n",
       "<table border=\"1\" class=\"dataframe\">\n",
       "  <thead>\n",
       "    <tr style=\"text-align: right;\">\n",
       "      <th></th>\n",
       "      <th>id</th>\n",
       "      <th>price</th>\n",
       "      <th>sqfeet</th>\n",
       "      <th>beds</th>\n",
       "      <th>baths</th>\n",
       "      <th>cats_allowed</th>\n",
       "      <th>dogs_allowed</th>\n",
       "      <th>smoking_allowed</th>\n",
       "      <th>wheelchair_access</th>\n",
       "      <th>electric_vehicle_charge</th>\n",
       "      <th>comes_furnished</th>\n",
       "      <th>lat</th>\n",
       "      <th>long</th>\n",
       "    </tr>\n",
       "  </thead>\n",
       "  <tbody>\n",
       "    <tr>\n",
       "      <th>count</th>\n",
       "      <td>3.849770e+05</td>\n",
       "      <td>3.849770e+05</td>\n",
       "      <td>3.849770e+05</td>\n",
       "      <td>384977.000000</td>\n",
       "      <td>384977.000000</td>\n",
       "      <td>384977.000000</td>\n",
       "      <td>384977.000000</td>\n",
       "      <td>384977.000000</td>\n",
       "      <td>384977.000000</td>\n",
       "      <td>384977.000000</td>\n",
       "      <td>384977.000000</td>\n",
       "      <td>383059.000000</td>\n",
       "      <td>383059.000000</td>\n",
       "    </tr>\n",
       "    <tr>\n",
       "      <th>mean</th>\n",
       "      <td>7.040982e+09</td>\n",
       "      <td>8.825722e+03</td>\n",
       "      <td>1.059900e+03</td>\n",
       "      <td>1.905345</td>\n",
       "      <td>1.480718</td>\n",
       "      <td>0.726890</td>\n",
       "      <td>0.707918</td>\n",
       "      <td>0.731771</td>\n",
       "      <td>0.082111</td>\n",
       "      <td>0.012871</td>\n",
       "      <td>0.048128</td>\n",
       "      <td>37.233487</td>\n",
       "      <td>-92.700631</td>\n",
       "    </tr>\n",
       "    <tr>\n",
       "      <th>std</th>\n",
       "      <td>8.800376e+06</td>\n",
       "      <td>4.462200e+06</td>\n",
       "      <td>1.915076e+04</td>\n",
       "      <td>3.494572</td>\n",
       "      <td>0.618061</td>\n",
       "      <td>0.445557</td>\n",
       "      <td>0.454721</td>\n",
       "      <td>0.443038</td>\n",
       "      <td>0.274535</td>\n",
       "      <td>0.112718</td>\n",
       "      <td>0.214036</td>\n",
       "      <td>5.546171</td>\n",
       "      <td>16.531980</td>\n",
       "    </tr>\n",
       "    <tr>\n",
       "      <th>min</th>\n",
       "      <td>7.003808e+09</td>\n",
       "      <td>0.000000e+00</td>\n",
       "      <td>0.000000e+00</td>\n",
       "      <td>0.000000</td>\n",
       "      <td>0.000000</td>\n",
       "      <td>0.000000</td>\n",
       "      <td>0.000000</td>\n",
       "      <td>0.000000</td>\n",
       "      <td>0.000000</td>\n",
       "      <td>0.000000</td>\n",
       "      <td>0.000000</td>\n",
       "      <td>-43.533300</td>\n",
       "      <td>-163.894000</td>\n",
       "    </tr>\n",
       "    <tr>\n",
       "      <th>25%</th>\n",
       "      <td>7.035979e+09</td>\n",
       "      <td>8.050000e+02</td>\n",
       "      <td>7.500000e+02</td>\n",
       "      <td>1.000000</td>\n",
       "      <td>1.000000</td>\n",
       "      <td>0.000000</td>\n",
       "      <td>0.000000</td>\n",
       "      <td>0.000000</td>\n",
       "      <td>0.000000</td>\n",
       "      <td>0.000000</td>\n",
       "      <td>0.000000</td>\n",
       "      <td>33.454700</td>\n",
       "      <td>-100.775000</td>\n",
       "    </tr>\n",
       "    <tr>\n",
       "      <th>50%</th>\n",
       "      <td>7.043320e+09</td>\n",
       "      <td>1.036000e+03</td>\n",
       "      <td>9.490000e+02</td>\n",
       "      <td>2.000000</td>\n",
       "      <td>1.000000</td>\n",
       "      <td>1.000000</td>\n",
       "      <td>1.000000</td>\n",
       "      <td>1.000000</td>\n",
       "      <td>0.000000</td>\n",
       "      <td>0.000000</td>\n",
       "      <td>0.000000</td>\n",
       "      <td>37.647800</td>\n",
       "      <td>-87.745100</td>\n",
       "    </tr>\n",
       "    <tr>\n",
       "      <th>75%</th>\n",
       "      <td>7.048426e+09</td>\n",
       "      <td>1.395000e+03</td>\n",
       "      <td>1.150000e+03</td>\n",
       "      <td>2.000000</td>\n",
       "      <td>2.000000</td>\n",
       "      <td>1.000000</td>\n",
       "      <td>1.000000</td>\n",
       "      <td>1.000000</td>\n",
       "      <td>0.000000</td>\n",
       "      <td>0.000000</td>\n",
       "      <td>0.000000</td>\n",
       "      <td>41.138300</td>\n",
       "      <td>-81.179600</td>\n",
       "    </tr>\n",
       "    <tr>\n",
       "      <th>max</th>\n",
       "      <td>7.051292e+09</td>\n",
       "      <td>2.768307e+09</td>\n",
       "      <td>8.388607e+06</td>\n",
       "      <td>1100.000000</td>\n",
       "      <td>75.000000</td>\n",
       "      <td>1.000000</td>\n",
       "      <td>1.000000</td>\n",
       "      <td>1.000000</td>\n",
       "      <td>1.000000</td>\n",
       "      <td>1.000000</td>\n",
       "      <td>1.000000</td>\n",
       "      <td>102.036000</td>\n",
       "      <td>172.633000</td>\n",
       "    </tr>\n",
       "  </tbody>\n",
       "</table>\n",
       "</div>"
      ],
      "text/plain": [
       "                 id         price        sqfeet           beds          baths  \\\n",
       "count  3.849770e+05  3.849770e+05  3.849770e+05  384977.000000  384977.000000   \n",
       "mean   7.040982e+09  8.825722e+03  1.059900e+03       1.905345       1.480718   \n",
       "std    8.800376e+06  4.462200e+06  1.915076e+04       3.494572       0.618061   \n",
       "min    7.003808e+09  0.000000e+00  0.000000e+00       0.000000       0.000000   \n",
       "25%    7.035979e+09  8.050000e+02  7.500000e+02       1.000000       1.000000   \n",
       "50%    7.043320e+09  1.036000e+03  9.490000e+02       2.000000       1.000000   \n",
       "75%    7.048426e+09  1.395000e+03  1.150000e+03       2.000000       2.000000   \n",
       "max    7.051292e+09  2.768307e+09  8.388607e+06    1100.000000      75.000000   \n",
       "\n",
       "        cats_allowed   dogs_allowed  smoking_allowed  wheelchair_access  \\\n",
       "count  384977.000000  384977.000000    384977.000000      384977.000000   \n",
       "mean        0.726890       0.707918         0.731771           0.082111   \n",
       "std         0.445557       0.454721         0.443038           0.274535   \n",
       "min         0.000000       0.000000         0.000000           0.000000   \n",
       "25%         0.000000       0.000000         0.000000           0.000000   \n",
       "50%         1.000000       1.000000         1.000000           0.000000   \n",
       "75%         1.000000       1.000000         1.000000           0.000000   \n",
       "max         1.000000       1.000000         1.000000           1.000000   \n",
       "\n",
       "       electric_vehicle_charge  comes_furnished            lat           long  \n",
       "count            384977.000000    384977.000000  383059.000000  383059.000000  \n",
       "mean                  0.012871         0.048128      37.233487     -92.700631  \n",
       "std                   0.112718         0.214036       5.546171      16.531980  \n",
       "min                   0.000000         0.000000     -43.533300    -163.894000  \n",
       "25%                   0.000000         0.000000      33.454700    -100.775000  \n",
       "50%                   0.000000         0.000000      37.647800     -87.745100  \n",
       "75%                   0.000000         0.000000      41.138300     -81.179600  \n",
       "max                   1.000000         1.000000     102.036000     172.633000  "
      ]
     },
     "execution_count": 17,
     "metadata": {},
     "output_type": "execute_result"
    }
   ],
   "source": [
    "data_raw.describe()"
   ]
  },
  {
   "cell_type": "markdown",
   "metadata": {},
   "source": [
    "Исключим ненужные признаки и сильно признак 'cats_allowed', коррелирующий с признаком 'dogs_allowed'."
   ]
  },
  {
   "cell_type": "code",
   "execution_count": 18,
   "metadata": {},
   "outputs": [],
   "source": [
    "columns_to_remove = ['id', 'url', 'region', 'region_url', 'image_url', 'cats_allowed', 'description', 'parking_options', 'lat', 'long', 'state']\n",
    "data = data_raw.drop(columns_to_remove, axis = 1)"
   ]
  },
  {
   "cell_type": "code",
   "execution_count": 19,
   "metadata": {},
   "outputs": [
    {
     "data": {
      "text/plain": [
       "price                          0\n",
       "type                           0\n",
       "sqfeet                         0\n",
       "beds                           0\n",
       "baths                          0\n",
       "dogs_allowed                   0\n",
       "smoking_allowed                0\n",
       "wheelchair_access              0\n",
       "electric_vehicle_charge        0\n",
       "comes_furnished                0\n",
       "laundry_options            79026\n",
       "reg                            0\n",
       "dtype: int64"
      ]
     },
     "execution_count": 19,
     "metadata": {},
     "output_type": "execute_result"
    }
   ],
   "source": [
    "data.isna().sum()"
   ]
  },
  {
   "cell_type": "markdown",
   "metadata": {},
   "source": [
    "Исключим строки, содержащие пропущеные значения"
   ]
  },
  {
   "cell_type": "code",
   "execution_count": 20,
   "metadata": {},
   "outputs": [],
   "source": [
    "data = data.dropna()"
   ]
  },
  {
   "cell_type": "code",
   "execution_count": 21,
   "metadata": {},
   "outputs": [
    {
     "data": {
      "text/plain": [
       "price                      0\n",
       "type                       0\n",
       "sqfeet                     0\n",
       "beds                       0\n",
       "baths                      0\n",
       "dogs_allowed               0\n",
       "smoking_allowed            0\n",
       "wheelchair_access          0\n",
       "electric_vehicle_charge    0\n",
       "comes_furnished            0\n",
       "laundry_options            0\n",
       "reg                        0\n",
       "dtype: int64"
      ]
     },
     "execution_count": 21,
     "metadata": {},
     "output_type": "execute_result"
    }
   ],
   "source": [
    "data.isna().sum()"
   ]
  },
  {
   "cell_type": "code",
   "execution_count": 22,
   "metadata": {},
   "outputs": [
    {
     "data": {
      "text/plain": [
       "(305951, 12)"
      ]
     },
     "execution_count": 22,
     "metadata": {},
     "output_type": "execute_result"
    }
   ],
   "source": [
    "data.shape"
   ]
  },
  {
   "cell_type": "code",
   "execution_count": 23,
   "metadata": {},
   "outputs": [
    {
     "name": "stdout",
     "output_type": "stream",
     "text": [
      "<class 'pandas.core.frame.DataFrame'>\n",
      "Int64Index: 305951 entries, 0 to 384976\n",
      "Data columns (total 12 columns):\n",
      " #   Column                   Non-Null Count   Dtype  \n",
      "---  ------                   --------------   -----  \n",
      " 0   price                    305951 non-null  int64  \n",
      " 1   type                     305951 non-null  object \n",
      " 2   sqfeet                   305951 non-null  int64  \n",
      " 3   beds                     305951 non-null  int64  \n",
      " 4   baths                    305951 non-null  float64\n",
      " 5   dogs_allowed             305951 non-null  int64  \n",
      " 6   smoking_allowed          305951 non-null  int64  \n",
      " 7   wheelchair_access        305951 non-null  int64  \n",
      " 8   electric_vehicle_charge  305951 non-null  int64  \n",
      " 9   comes_furnished          305951 non-null  int64  \n",
      " 10  laundry_options          305951 non-null  object \n",
      " 11  reg                      305951 non-null  object \n",
      "dtypes: float64(1), int64(8), object(3)\n",
      "memory usage: 30.3+ MB\n"
     ]
    }
   ],
   "source": [
    "data.info()"
   ]
  },
  {
   "cell_type": "code",
   "execution_count": 24,
   "metadata": {},
   "outputs": [],
   "source": [
    "categorical_indexes = [1, 5, 6, 7, 8, 9, 10, 11]\n",
    "data.iloc[:,categorical_indexes] = data.iloc[:,categorical_indexes].astype('category')"
   ]
  },
  {
   "cell_type": "code",
   "execution_count": 25,
   "metadata": {},
   "outputs": [
    {
     "name": "stdout",
     "output_type": "stream",
     "text": [
      "<class 'pandas.core.frame.DataFrame'>\n",
      "Int64Index: 305951 entries, 0 to 384976\n",
      "Data columns (total 12 columns):\n",
      " #   Column                   Non-Null Count   Dtype   \n",
      "---  ------                   --------------   -----   \n",
      " 0   price                    305951 non-null  int64   \n",
      " 1   type                     305951 non-null  category\n",
      " 2   sqfeet                   305951 non-null  int64   \n",
      " 3   beds                     305951 non-null  int64   \n",
      " 4   baths                    305951 non-null  float64 \n",
      " 5   dogs_allowed             305951 non-null  category\n",
      " 6   smoking_allowed          305951 non-null  category\n",
      " 7   wheelchair_access        305951 non-null  category\n",
      " 8   electric_vehicle_charge  305951 non-null  category\n",
      " 9   comes_furnished          305951 non-null  category\n",
      " 10  laundry_options          305951 non-null  category\n",
      " 11  reg                      305951 non-null  category\n",
      "dtypes: category(8), float64(1), int64(3)\n",
      "memory usage: 14.0 MB\n"
     ]
    }
   ],
   "source": [
    "data.info()"
   ]
  },
  {
   "cell_type": "code",
   "execution_count": 26,
   "metadata": {},
   "outputs": [],
   "source": [
    "data[\"baths\"] = data[\"baths\"].astype(np.int64)"
   ]
  },
  {
   "cell_type": "code",
   "execution_count": 27,
   "metadata": {},
   "outputs": [
    {
     "name": "stdout",
     "output_type": "stream",
     "text": [
      "<class 'pandas.core.frame.DataFrame'>\n",
      "Int64Index: 305951 entries, 0 to 384976\n",
      "Data columns (total 12 columns):\n",
      " #   Column                   Non-Null Count   Dtype   \n",
      "---  ------                   --------------   -----   \n",
      " 0   price                    305951 non-null  int64   \n",
      " 1   type                     305951 non-null  category\n",
      " 2   sqfeet                   305951 non-null  int64   \n",
      " 3   beds                     305951 non-null  int64   \n",
      " 4   baths                    305951 non-null  int64   \n",
      " 5   dogs_allowed             305951 non-null  category\n",
      " 6   smoking_allowed          305951 non-null  category\n",
      " 7   wheelchair_access        305951 non-null  category\n",
      " 8   electric_vehicle_charge  305951 non-null  category\n",
      " 9   comes_furnished          305951 non-null  category\n",
      " 10  laundry_options          305951 non-null  category\n",
      " 11  reg                      305951 non-null  category\n",
      "dtypes: category(8), int64(4)\n",
      "memory usage: 14.0 MB\n"
     ]
    }
   ],
   "source": [
    "data.info()"
   ]
  },
  {
   "cell_type": "code",
   "execution_count": 28,
   "metadata": {},
   "outputs": [
    {
     "data": {
      "text/html": [
       "<div>\n",
       "<style scoped>\n",
       "    .dataframe tbody tr th:only-of-type {\n",
       "        vertical-align: middle;\n",
       "    }\n",
       "\n",
       "    .dataframe tbody tr th {\n",
       "        vertical-align: top;\n",
       "    }\n",
       "\n",
       "    .dataframe thead th {\n",
       "        text-align: right;\n",
       "    }\n",
       "</style>\n",
       "<table border=\"1\" class=\"dataframe\">\n",
       "  <thead>\n",
       "    <tr style=\"text-align: right;\">\n",
       "      <th></th>\n",
       "      <th>price</th>\n",
       "      <th>sqfeet</th>\n",
       "      <th>beds</th>\n",
       "      <th>baths</th>\n",
       "    </tr>\n",
       "  </thead>\n",
       "  <tbody>\n",
       "    <tr>\n",
       "      <th>0.005</th>\n",
       "      <td>1.0</td>\n",
       "      <td>270.00</td>\n",
       "      <td>0.0</td>\n",
       "      <td>0.0</td>\n",
       "    </tr>\n",
       "    <tr>\n",
       "      <th>0.010</th>\n",
       "      <td>324.5</td>\n",
       "      <td>321.00</td>\n",
       "      <td>0.0</td>\n",
       "      <td>1.0</td>\n",
       "    </tr>\n",
       "    <tr>\n",
       "      <th>0.050</th>\n",
       "      <td>575.0</td>\n",
       "      <td>524.00</td>\n",
       "      <td>1.0</td>\n",
       "      <td>1.0</td>\n",
       "    </tr>\n",
       "    <tr>\n",
       "      <th>0.100</th>\n",
       "      <td>659.0</td>\n",
       "      <td>610.00</td>\n",
       "      <td>1.0</td>\n",
       "      <td>1.0</td>\n",
       "    </tr>\n",
       "    <tr>\n",
       "      <th>0.500</th>\n",
       "      <td>1050.0</td>\n",
       "      <td>944.00</td>\n",
       "      <td>2.0</td>\n",
       "      <td>1.0</td>\n",
       "    </tr>\n",
       "    <tr>\n",
       "      <th>0.900</th>\n",
       "      <td>1875.0</td>\n",
       "      <td>1400.00</td>\n",
       "      <td>3.0</td>\n",
       "      <td>2.0</td>\n",
       "    </tr>\n",
       "    <tr>\n",
       "      <th>0.950</th>\n",
       "      <td>2300.0</td>\n",
       "      <td>1625.00</td>\n",
       "      <td>3.0</td>\n",
       "      <td>2.0</td>\n",
       "    </tr>\n",
       "    <tr>\n",
       "      <th>0.990</th>\n",
       "      <td>3450.0</td>\n",
       "      <td>2415.00</td>\n",
       "      <td>4.0</td>\n",
       "      <td>3.0</td>\n",
       "    </tr>\n",
       "    <tr>\n",
       "      <th>0.995</th>\n",
       "      <td>4076.0</td>\n",
       "      <td>2809.25</td>\n",
       "      <td>5.0</td>\n",
       "      <td>3.0</td>\n",
       "    </tr>\n",
       "  </tbody>\n",
       "</table>\n",
       "</div>"
      ],
      "text/plain": [
       "        price   sqfeet  beds  baths\n",
       "0.005     1.0   270.00   0.0    0.0\n",
       "0.010   324.5   321.00   0.0    1.0\n",
       "0.050   575.0   524.00   1.0    1.0\n",
       "0.100   659.0   610.00   1.0    1.0\n",
       "0.500  1050.0   944.00   2.0    1.0\n",
       "0.900  1875.0  1400.00   3.0    2.0\n",
       "0.950  2300.0  1625.00   3.0    2.0\n",
       "0.990  3450.0  2415.00   4.0    3.0\n",
       "0.995  4076.0  2809.25   5.0    3.0"
      ]
     },
     "execution_count": 28,
     "metadata": {},
     "output_type": "execute_result"
    }
   ],
   "source": [
    "data.quantile([0.005,.01,.05,.1,.5,.9,.95,.99,.995])"
   ]
  },
  {
   "cell_type": "markdown",
   "metadata": {},
   "source": [
    "Избавимся от выбросов"
   ]
  },
  {
   "cell_type": "code",
   "execution_count": 29,
   "metadata": {},
   "outputs": [
    {
     "data": {
      "text/plain": [
       "(300542, 12)"
      ]
     },
     "execution_count": 29,
     "metadata": {},
     "output_type": "execute_result"
    }
   ],
   "source": [
    "rows_to_drop = data[\n",
    "    (data[\"price\"] < data[\"price\"].quantile(0.005)) | (data[\"price\"] > data[\"price\"].quantile(0.995)) | \n",
    "    (data[\"sqfeet\"]  < data[\"sqfeet\"].quantile(0.005)) | (data[\"sqfeet\"]  > data[\"sqfeet\"].quantile(0.995))].index\n",
    "\n",
    "data = data.drop(rows_to_drop)\n",
    "data.shape"
   ]
  },
  {
   "cell_type": "code",
   "execution_count": 30,
   "metadata": {},
   "outputs": [
    {
     "data": {
      "text/html": [
       "<div>\n",
       "<style scoped>\n",
       "    .dataframe tbody tr th:only-of-type {\n",
       "        vertical-align: middle;\n",
       "    }\n",
       "\n",
       "    .dataframe tbody tr th {\n",
       "        vertical-align: top;\n",
       "    }\n",
       "\n",
       "    .dataframe thead th {\n",
       "        text-align: right;\n",
       "    }\n",
       "</style>\n",
       "<table border=\"1\" class=\"dataframe\">\n",
       "  <thead>\n",
       "    <tr style=\"text-align: right;\">\n",
       "      <th></th>\n",
       "      <th>price</th>\n",
       "      <th>sqfeet</th>\n",
       "      <th>beds</th>\n",
       "      <th>baths</th>\n",
       "    </tr>\n",
       "  </thead>\n",
       "  <tbody>\n",
       "    <tr>\n",
       "      <th>count</th>\n",
       "      <td>300542.000000</td>\n",
       "      <td>300542.000000</td>\n",
       "      <td>300542.000000</td>\n",
       "      <td>300542.000000</td>\n",
       "    </tr>\n",
       "    <tr>\n",
       "      <th>mean</th>\n",
       "      <td>1179.789294</td>\n",
       "      <td>978.898058</td>\n",
       "      <td>1.879318</td>\n",
       "      <td>1.413586</td>\n",
       "    </tr>\n",
       "    <tr>\n",
       "      <th>std</th>\n",
       "      <td>531.867552</td>\n",
       "      <td>340.085469</td>\n",
       "      <td>2.956029</td>\n",
       "      <td>0.583470</td>\n",
       "    </tr>\n",
       "    <tr>\n",
       "      <th>min</th>\n",
       "      <td>1.000000</td>\n",
       "      <td>270.000000</td>\n",
       "      <td>0.000000</td>\n",
       "      <td>0.000000</td>\n",
       "    </tr>\n",
       "    <tr>\n",
       "      <th>25%</th>\n",
       "      <td>817.000000</td>\n",
       "      <td>750.000000</td>\n",
       "      <td>1.000000</td>\n",
       "      <td>1.000000</td>\n",
       "    </tr>\n",
       "    <tr>\n",
       "      <th>50%</th>\n",
       "      <td>1049.000000</td>\n",
       "      <td>941.000000</td>\n",
       "      <td>2.000000</td>\n",
       "      <td>1.000000</td>\n",
       "    </tr>\n",
       "    <tr>\n",
       "      <th>75%</th>\n",
       "      <td>1400.000000</td>\n",
       "      <td>1133.000000</td>\n",
       "      <td>2.000000</td>\n",
       "      <td>2.000000</td>\n",
       "    </tr>\n",
       "    <tr>\n",
       "      <th>max</th>\n",
       "      <td>4076.000000</td>\n",
       "      <td>2809.000000</td>\n",
       "      <td>1100.000000</td>\n",
       "      <td>75.000000</td>\n",
       "    </tr>\n",
       "  </tbody>\n",
       "</table>\n",
       "</div>"
      ],
      "text/plain": [
       "               price         sqfeet           beds          baths\n",
       "count  300542.000000  300542.000000  300542.000000  300542.000000\n",
       "mean     1179.789294     978.898058       1.879318       1.413586\n",
       "std       531.867552     340.085469       2.956029       0.583470\n",
       "min         1.000000     270.000000       0.000000       0.000000\n",
       "25%       817.000000     750.000000       1.000000       1.000000\n",
       "50%      1049.000000     941.000000       2.000000       1.000000\n",
       "75%      1400.000000    1133.000000       2.000000       2.000000\n",
       "max      4076.000000    2809.000000    1100.000000      75.000000"
      ]
     },
     "execution_count": 30,
     "metadata": {},
     "output_type": "execute_result"
    }
   ],
   "source": [
    "data.describe()"
   ]
  },
  {
   "cell_type": "code",
   "execution_count": 31,
   "metadata": {},
   "outputs": [
    {
     "data": {
      "text/plain": [
       "['w', 'n', 's', 'o', 'm']\n",
       "Categories (5, object): ['w', 'n', 's', 'o', 'm']"
      ]
     },
     "execution_count": 31,
     "metadata": {},
     "output_type": "execute_result"
    }
   ],
   "source": [
    "data['reg'].unique()"
   ]
  },
  {
   "cell_type": "code",
   "execution_count": 32,
   "metadata": {},
   "outputs": [
    {
     "data": {
      "text/plain": [
       "array([ 2,  1,  3,  0,  5,  4, 75,  8,  6], dtype=int64)"
      ]
     },
     "execution_count": 32,
     "metadata": {},
     "output_type": "execute_result"
    }
   ],
   "source": [
    "data['baths'].unique()"
   ]
  },
  {
   "cell_type": "code",
   "execution_count": 33,
   "metadata": {},
   "outputs": [
    {
     "name": "stdout",
     "output_type": "stream",
     "text": [
      "<class 'pandas.core.frame.DataFrame'>\n",
      "Int64Index: 300542 entries, 0 to 384976\n",
      "Data columns (total 12 columns):\n",
      " #   Column                   Non-Null Count   Dtype   \n",
      "---  ------                   --------------   -----   \n",
      " 0   price                    300542 non-null  int64   \n",
      " 1   type                     300542 non-null  category\n",
      " 2   sqfeet                   300542 non-null  int64   \n",
      " 3   beds                     300542 non-null  int64   \n",
      " 4   baths                    300542 non-null  int64   \n",
      " 5   dogs_allowed             300542 non-null  category\n",
      " 6   smoking_allowed          300542 non-null  category\n",
      " 7   wheelchair_access        300542 non-null  category\n",
      " 8   electric_vehicle_charge  300542 non-null  category\n",
      " 9   comes_furnished          300542 non-null  category\n",
      " 10  laundry_options          300542 non-null  category\n",
      " 11  reg                      300542 non-null  category\n",
      "dtypes: category(8), int64(4)\n",
      "memory usage: 13.8 MB\n"
     ]
    }
   ],
   "source": [
    "data.info()"
   ]
  },
  {
   "cell_type": "code",
   "execution_count": 34,
   "metadata": {},
   "outputs": [],
   "source": [
    "y = data['reg']"
   ]
  },
  {
   "cell_type": "markdown",
   "metadata": {},
   "source": [
    "Обработка категориальных признаков"
   ]
  },
  {
   "cell_type": "code",
   "execution_count": 35,
   "metadata": {},
   "outputs": [],
   "source": [
    "numerical_columns = [c for c in data.columns if data[c].dtype.name != 'category']\n",
    "categorical_columns = [c for c in data.columns if data[c].dtype.name == 'category']\n",
    "categorical_columns.remove('reg')\n",
    "data_describe = data.describe(include = ['category'])"
   ]
  },
  {
   "cell_type": "code",
   "execution_count": 36,
   "metadata": {},
   "outputs": [
    {
     "data": {
      "text/plain": [
       "['price', 'sqfeet', 'beds', 'baths']"
      ]
     },
     "execution_count": 36,
     "metadata": {},
     "output_type": "execute_result"
    }
   ],
   "source": [
    "numerical_columns"
   ]
  },
  {
   "cell_type": "code",
   "execution_count": 37,
   "metadata": {},
   "outputs": [
    {
     "data": {
      "text/plain": [
       "['type',\n",
       " 'dogs_allowed',\n",
       " 'smoking_allowed',\n",
       " 'wheelchair_access',\n",
       " 'electric_vehicle_charge',\n",
       " 'comes_furnished',\n",
       " 'laundry_options']"
      ]
     },
     "execution_count": 37,
     "metadata": {},
     "output_type": "execute_result"
    }
   ],
   "source": [
    "categorical_columns"
   ]
  },
  {
   "cell_type": "code",
   "execution_count": 38,
   "metadata": {},
   "outputs": [
    {
     "data": {
      "text/plain": [
       "['dogs_allowed',\n",
       " 'smoking_allowed',\n",
       " 'wheelchair_access',\n",
       " 'electric_vehicle_charge',\n",
       " 'comes_furnished']"
      ]
     },
     "execution_count": 38,
     "metadata": {},
     "output_type": "execute_result"
    }
   ],
   "source": [
    "binary_columns = [c for c in categorical_columns if data_describe[c]['unique'] == 2]\n",
    "binary_columns"
   ]
  },
  {
   "cell_type": "code",
   "execution_count": 39,
   "metadata": {},
   "outputs": [
    {
     "data": {
      "text/plain": [
       "['type', 'laundry_options']"
      ]
     },
     "execution_count": 39,
     "metadata": {},
     "output_type": "execute_result"
    }
   ],
   "source": [
    "nonbinary_columns = [c for c in categorical_columns if data_describe[c]['unique'] > 2]\n",
    "nonbinary_columns"
   ]
  },
  {
   "cell_type": "code",
   "execution_count": 40,
   "metadata": {},
   "outputs": [
    {
     "data": {
      "text/html": [
       "<div>\n",
       "<style scoped>\n",
       "    .dataframe tbody tr th:only-of-type {\n",
       "        vertical-align: middle;\n",
       "    }\n",
       "\n",
       "    .dataframe tbody tr th {\n",
       "        vertical-align: top;\n",
       "    }\n",
       "\n",
       "    .dataframe thead th {\n",
       "        text-align: right;\n",
       "    }\n",
       "</style>\n",
       "<table border=\"1\" class=\"dataframe\">\n",
       "  <thead>\n",
       "    <tr style=\"text-align: right;\">\n",
       "      <th></th>\n",
       "      <th>type</th>\n",
       "      <th>laundry_options</th>\n",
       "    </tr>\n",
       "  </thead>\n",
       "  <tbody>\n",
       "    <tr>\n",
       "      <th>0</th>\n",
       "      <td>apartment</td>\n",
       "      <td>w/d in unit</td>\n",
       "    </tr>\n",
       "    <tr>\n",
       "      <th>1</th>\n",
       "      <td>condo</td>\n",
       "      <td>w/d hookups</td>\n",
       "    </tr>\n",
       "    <tr>\n",
       "      <th>2</th>\n",
       "      <td>apartment</td>\n",
       "      <td>w/d in unit</td>\n",
       "    </tr>\n",
       "    <tr>\n",
       "      <th>3</th>\n",
       "      <td>apartment</td>\n",
       "      <td>w/d in unit</td>\n",
       "    </tr>\n",
       "    <tr>\n",
       "      <th>5</th>\n",
       "      <td>apartment</td>\n",
       "      <td>laundry in bldg</td>\n",
       "    </tr>\n",
       "    <tr>\n",
       "      <th>...</th>\n",
       "      <td>...</td>\n",
       "      <td>...</td>\n",
       "    </tr>\n",
       "    <tr>\n",
       "      <th>384972</th>\n",
       "      <td>apartment</td>\n",
       "      <td>w/d in unit</td>\n",
       "    </tr>\n",
       "    <tr>\n",
       "      <th>384973</th>\n",
       "      <td>apartment</td>\n",
       "      <td>w/d in unit</td>\n",
       "    </tr>\n",
       "    <tr>\n",
       "      <th>384974</th>\n",
       "      <td>apartment</td>\n",
       "      <td>laundry on site</td>\n",
       "    </tr>\n",
       "    <tr>\n",
       "      <th>384975</th>\n",
       "      <td>apartment</td>\n",
       "      <td>w/d in unit</td>\n",
       "    </tr>\n",
       "    <tr>\n",
       "      <th>384976</th>\n",
       "      <td>apartment</td>\n",
       "      <td>w/d in unit</td>\n",
       "    </tr>\n",
       "  </tbody>\n",
       "</table>\n",
       "<p>300542 rows × 2 columns</p>\n",
       "</div>"
      ],
      "text/plain": [
       "             type  laundry_options\n",
       "0       apartment      w/d in unit\n",
       "1           condo      w/d hookups\n",
       "2       apartment      w/d in unit\n",
       "3       apartment      w/d in unit\n",
       "5       apartment  laundry in bldg\n",
       "...           ...              ...\n",
       "384972  apartment      w/d in unit\n",
       "384973  apartment      w/d in unit\n",
       "384974  apartment  laundry on site\n",
       "384975  apartment      w/d in unit\n",
       "384976  apartment      w/d in unit\n",
       "\n",
       "[300542 rows x 2 columns]"
      ]
     },
     "execution_count": 40,
     "metadata": {},
     "output_type": "execute_result"
    }
   ],
   "source": [
    "data[nonbinary_columns]"
   ]
  },
  {
   "cell_type": "code",
   "execution_count": 41,
   "metadata": {},
   "outputs": [
    {
     "data": {
      "text/html": [
       "<div>\n",
       "<style scoped>\n",
       "    .dataframe tbody tr th:only-of-type {\n",
       "        vertical-align: middle;\n",
       "    }\n",
       "\n",
       "    .dataframe tbody tr th {\n",
       "        vertical-align: top;\n",
       "    }\n",
       "\n",
       "    .dataframe thead th {\n",
       "        text-align: right;\n",
       "    }\n",
       "</style>\n",
       "<table border=\"1\" class=\"dataframe\">\n",
       "  <thead>\n",
       "    <tr style=\"text-align: right;\">\n",
       "      <th></th>\n",
       "      <th>apartment</th>\n",
       "      <th>assisted living</th>\n",
       "      <th>condo</th>\n",
       "      <th>cottage/cabin</th>\n",
       "      <th>duplex</th>\n",
       "      <th>flat</th>\n",
       "      <th>house</th>\n",
       "      <th>in-law</th>\n",
       "      <th>land</th>\n",
       "      <th>loft</th>\n",
       "      <th>manufactured</th>\n",
       "      <th>townhouse</th>\n",
       "    </tr>\n",
       "  </thead>\n",
       "  <tbody>\n",
       "    <tr>\n",
       "      <th>0</th>\n",
       "      <td>1</td>\n",
       "      <td>0</td>\n",
       "      <td>0</td>\n",
       "      <td>0</td>\n",
       "      <td>0</td>\n",
       "      <td>0</td>\n",
       "      <td>0</td>\n",
       "      <td>0</td>\n",
       "      <td>0</td>\n",
       "      <td>0</td>\n",
       "      <td>0</td>\n",
       "      <td>0</td>\n",
       "    </tr>\n",
       "    <tr>\n",
       "      <th>1</th>\n",
       "      <td>0</td>\n",
       "      <td>0</td>\n",
       "      <td>1</td>\n",
       "      <td>0</td>\n",
       "      <td>0</td>\n",
       "      <td>0</td>\n",
       "      <td>0</td>\n",
       "      <td>0</td>\n",
       "      <td>0</td>\n",
       "      <td>0</td>\n",
       "      <td>0</td>\n",
       "      <td>0</td>\n",
       "    </tr>\n",
       "    <tr>\n",
       "      <th>2</th>\n",
       "      <td>1</td>\n",
       "      <td>0</td>\n",
       "      <td>0</td>\n",
       "      <td>0</td>\n",
       "      <td>0</td>\n",
       "      <td>0</td>\n",
       "      <td>0</td>\n",
       "      <td>0</td>\n",
       "      <td>0</td>\n",
       "      <td>0</td>\n",
       "      <td>0</td>\n",
       "      <td>0</td>\n",
       "    </tr>\n",
       "    <tr>\n",
       "      <th>3</th>\n",
       "      <td>1</td>\n",
       "      <td>0</td>\n",
       "      <td>0</td>\n",
       "      <td>0</td>\n",
       "      <td>0</td>\n",
       "      <td>0</td>\n",
       "      <td>0</td>\n",
       "      <td>0</td>\n",
       "      <td>0</td>\n",
       "      <td>0</td>\n",
       "      <td>0</td>\n",
       "      <td>0</td>\n",
       "    </tr>\n",
       "    <tr>\n",
       "      <th>5</th>\n",
       "      <td>1</td>\n",
       "      <td>0</td>\n",
       "      <td>0</td>\n",
       "      <td>0</td>\n",
       "      <td>0</td>\n",
       "      <td>0</td>\n",
       "      <td>0</td>\n",
       "      <td>0</td>\n",
       "      <td>0</td>\n",
       "      <td>0</td>\n",
       "      <td>0</td>\n",
       "      <td>0</td>\n",
       "    </tr>\n",
       "  </tbody>\n",
       "</table>\n",
       "</div>"
      ],
      "text/plain": [
       "   apartment  assisted living  condo  cottage/cabin  duplex  flat  house  \\\n",
       "0          1                0      0              0       0     0      0   \n",
       "1          0                0      1              0       0     0      0   \n",
       "2          1                0      0              0       0     0      0   \n",
       "3          1                0      0              0       0     0      0   \n",
       "5          1                0      0              0       0     0      0   \n",
       "\n",
       "   in-law  land  loft  manufactured  townhouse  \n",
       "0       0     0     0             0          0  \n",
       "1       0     0     0             0          0  \n",
       "2       0     0     0             0          0  \n",
       "3       0     0     0             0          0  \n",
       "5       0     0     0             0          0  "
      ]
     },
     "execution_count": 41,
     "metadata": {},
     "output_type": "execute_result"
    }
   ],
   "source": [
    "type_dummies = pd.get_dummies(data['type'])\n",
    "type_dummies.head()"
   ]
  },
  {
   "cell_type": "code",
   "execution_count": 42,
   "metadata": {},
   "outputs": [
    {
     "data": {
      "text/html": [
       "<div>\n",
       "<style scoped>\n",
       "    .dataframe tbody tr th:only-of-type {\n",
       "        vertical-align: middle;\n",
       "    }\n",
       "\n",
       "    .dataframe tbody tr th {\n",
       "        vertical-align: top;\n",
       "    }\n",
       "\n",
       "    .dataframe thead th {\n",
       "        text-align: right;\n",
       "    }\n",
       "</style>\n",
       "<table border=\"1\" class=\"dataframe\">\n",
       "  <thead>\n",
       "    <tr style=\"text-align: right;\">\n",
       "      <th></th>\n",
       "      <th>laundry in bldg</th>\n",
       "      <th>laundry on site</th>\n",
       "      <th>no laundry on site</th>\n",
       "      <th>w/d hookups</th>\n",
       "      <th>w/d in unit</th>\n",
       "    </tr>\n",
       "  </thead>\n",
       "  <tbody>\n",
       "    <tr>\n",
       "      <th>0</th>\n",
       "      <td>0</td>\n",
       "      <td>0</td>\n",
       "      <td>0</td>\n",
       "      <td>0</td>\n",
       "      <td>1</td>\n",
       "    </tr>\n",
       "    <tr>\n",
       "      <th>1</th>\n",
       "      <td>0</td>\n",
       "      <td>0</td>\n",
       "      <td>0</td>\n",
       "      <td>1</td>\n",
       "      <td>0</td>\n",
       "    </tr>\n",
       "    <tr>\n",
       "      <th>2</th>\n",
       "      <td>0</td>\n",
       "      <td>0</td>\n",
       "      <td>0</td>\n",
       "      <td>0</td>\n",
       "      <td>1</td>\n",
       "    </tr>\n",
       "    <tr>\n",
       "      <th>3</th>\n",
       "      <td>0</td>\n",
       "      <td>0</td>\n",
       "      <td>0</td>\n",
       "      <td>0</td>\n",
       "      <td>1</td>\n",
       "    </tr>\n",
       "    <tr>\n",
       "      <th>5</th>\n",
       "      <td>1</td>\n",
       "      <td>0</td>\n",
       "      <td>0</td>\n",
       "      <td>0</td>\n",
       "      <td>0</td>\n",
       "    </tr>\n",
       "  </tbody>\n",
       "</table>\n",
       "</div>"
      ],
      "text/plain": [
       "   laundry in bldg  laundry on site  no laundry on site  w/d hookups  \\\n",
       "0                0                0                   0            0   \n",
       "1                0                0                   0            1   \n",
       "2                0                0                   0            0   \n",
       "3                0                0                   0            0   \n",
       "5                1                0                   0            0   \n",
       "\n",
       "   w/d in unit  \n",
       "0            1  \n",
       "1            0  \n",
       "2            1  \n",
       "3            1  \n",
       "5            0  "
      ]
     },
     "execution_count": 42,
     "metadata": {},
     "output_type": "execute_result"
    }
   ],
   "source": [
    "laundry_options_dummies = pd.get_dummies(data['laundry_options'])\n",
    "laundry_options_dummies.head()"
   ]
  },
  {
   "cell_type": "code",
   "execution_count": 43,
   "metadata": {},
   "outputs": [
    {
     "name": "stdout",
     "output_type": "stream",
     "text": [
      "<class 'pandas.core.frame.DataFrame'>\n",
      "Int64Index: 300542 entries, 0 to 384976\n",
      "Data columns (total 17 columns):\n",
      " #   Column              Non-Null Count   Dtype\n",
      "---  ------              --------------   -----\n",
      " 0   apartment           300542 non-null  uint8\n",
      " 1   assisted living     300542 non-null  uint8\n",
      " 2   condo               300542 non-null  uint8\n",
      " 3   cottage/cabin       300542 non-null  uint8\n",
      " 4   duplex              300542 non-null  uint8\n",
      " 5   flat                300542 non-null  uint8\n",
      " 6   house               300542 non-null  uint8\n",
      " 7   in-law              300542 non-null  uint8\n",
      " 8   land                300542 non-null  uint8\n",
      " 9   loft                300542 non-null  uint8\n",
      " 10  manufactured        300542 non-null  uint8\n",
      " 11  townhouse           300542 non-null  uint8\n",
      " 12  laundry in bldg     300542 non-null  uint8\n",
      " 13  laundry on site     300542 non-null  uint8\n",
      " 14  no laundry on site  300542 non-null  uint8\n",
      " 15  w/d hookups         300542 non-null  uint8\n",
      " 16  w/d in unit         300542 non-null  uint8\n",
      "dtypes: uint8(17)\n",
      "memory usage: 7.2 MB\n"
     ]
    }
   ],
   "source": [
    "data_dummies = pd.concat((type_dummies, laundry_options_dummies), axis=1)\n",
    "data_dummies.info()"
   ]
  },
  {
   "cell_type": "code",
   "execution_count": 44,
   "metadata": {},
   "outputs": [
    {
     "name": "stdout",
     "output_type": "stream",
     "text": [
      "<class 'pandas.core.frame.DataFrame'>\n",
      "Int64Index: 300542 entries, 0 to 384976\n",
      "Data columns (total 12 columns):\n",
      " #   Column                   Non-Null Count   Dtype   \n",
      "---  ------                   --------------   -----   \n",
      " 0   price                    300542 non-null  int64   \n",
      " 1   type                     300542 non-null  category\n",
      " 2   sqfeet                   300542 non-null  int64   \n",
      " 3   beds                     300542 non-null  int64   \n",
      " 4   baths                    300542 non-null  int64   \n",
      " 5   dogs_allowed             300542 non-null  category\n",
      " 6   smoking_allowed          300542 non-null  category\n",
      " 7   wheelchair_access        300542 non-null  category\n",
      " 8   electric_vehicle_charge  300542 non-null  category\n",
      " 9   comes_furnished          300542 non-null  category\n",
      " 10  laundry_options          300542 non-null  category\n",
      " 11  reg                      300542 non-null  category\n",
      "dtypes: category(8), int64(4)\n",
      "memory usage: 13.8 MB\n"
     ]
    }
   ],
   "source": [
    "data.info()"
   ]
  },
  {
   "cell_type": "markdown",
   "metadata": {},
   "source": [
    "Нормализация количественных признаков"
   ]
  },
  {
   "cell_type": "code",
   "execution_count": 45,
   "metadata": {},
   "outputs": [
    {
     "data": {
      "text/html": [
       "<div>\n",
       "<style scoped>\n",
       "    .dataframe tbody tr th:only-of-type {\n",
       "        vertical-align: middle;\n",
       "    }\n",
       "\n",
       "    .dataframe tbody tr th {\n",
       "        vertical-align: top;\n",
       "    }\n",
       "\n",
       "    .dataframe thead th {\n",
       "        text-align: right;\n",
       "    }\n",
       "</style>\n",
       "<table border=\"1\" class=\"dataframe\">\n",
       "  <thead>\n",
       "    <tr style=\"text-align: right;\">\n",
       "      <th></th>\n",
       "      <th>price</th>\n",
       "      <th>sqfeet</th>\n",
       "      <th>beds</th>\n",
       "      <th>baths</th>\n",
       "    </tr>\n",
       "  </thead>\n",
       "  <tbody>\n",
       "    <tr>\n",
       "      <th>count</th>\n",
       "      <td>300542.000000</td>\n",
       "      <td>300542.000000</td>\n",
       "      <td>300542.000000</td>\n",
       "      <td>300542.000000</td>\n",
       "    </tr>\n",
       "    <tr>\n",
       "      <th>mean</th>\n",
       "      <td>1179.789294</td>\n",
       "      <td>978.898058</td>\n",
       "      <td>1.879318</td>\n",
       "      <td>1.413586</td>\n",
       "    </tr>\n",
       "    <tr>\n",
       "      <th>std</th>\n",
       "      <td>531.867552</td>\n",
       "      <td>340.085469</td>\n",
       "      <td>2.956029</td>\n",
       "      <td>0.583470</td>\n",
       "    </tr>\n",
       "    <tr>\n",
       "      <th>min</th>\n",
       "      <td>1.000000</td>\n",
       "      <td>270.000000</td>\n",
       "      <td>0.000000</td>\n",
       "      <td>0.000000</td>\n",
       "    </tr>\n",
       "    <tr>\n",
       "      <th>25%</th>\n",
       "      <td>817.000000</td>\n",
       "      <td>750.000000</td>\n",
       "      <td>1.000000</td>\n",
       "      <td>1.000000</td>\n",
       "    </tr>\n",
       "    <tr>\n",
       "      <th>50%</th>\n",
       "      <td>1049.000000</td>\n",
       "      <td>941.000000</td>\n",
       "      <td>2.000000</td>\n",
       "      <td>1.000000</td>\n",
       "    </tr>\n",
       "    <tr>\n",
       "      <th>75%</th>\n",
       "      <td>1400.000000</td>\n",
       "      <td>1133.000000</td>\n",
       "      <td>2.000000</td>\n",
       "      <td>2.000000</td>\n",
       "    </tr>\n",
       "    <tr>\n",
       "      <th>max</th>\n",
       "      <td>4076.000000</td>\n",
       "      <td>2809.000000</td>\n",
       "      <td>1100.000000</td>\n",
       "      <td>75.000000</td>\n",
       "    </tr>\n",
       "  </tbody>\n",
       "</table>\n",
       "</div>"
      ],
      "text/plain": [
       "               price         sqfeet           beds          baths\n",
       "count  300542.000000  300542.000000  300542.000000  300542.000000\n",
       "mean     1179.789294     978.898058       1.879318       1.413586\n",
       "std       531.867552     340.085469       2.956029       0.583470\n",
       "min         1.000000     270.000000       0.000000       0.000000\n",
       "25%       817.000000     750.000000       1.000000       1.000000\n",
       "50%      1049.000000     941.000000       2.000000       1.000000\n",
       "75%      1400.000000    1133.000000       2.000000       2.000000\n",
       "max      4076.000000    2809.000000    1100.000000      75.000000"
      ]
     },
     "execution_count": 45,
     "metadata": {},
     "output_type": "execute_result"
    }
   ],
   "source": [
    "data_numerical = data[numerical_columns]\n",
    "data_numerical.describe()"
   ]
  },
  {
   "cell_type": "code",
   "execution_count": 46,
   "metadata": {},
   "outputs": [],
   "source": [
    "data_numerical = (data_numerical - data_numerical.mean(axis = 0))/data_numerical.std(axis = 0)"
   ]
  },
  {
   "cell_type": "code",
   "execution_count": 47,
   "metadata": {},
   "outputs": [
    {
     "data": {
      "text/html": [
       "<div>\n",
       "<style scoped>\n",
       "    .dataframe tbody tr th:only-of-type {\n",
       "        vertical-align: middle;\n",
       "    }\n",
       "\n",
       "    .dataframe tbody tr th {\n",
       "        vertical-align: top;\n",
       "    }\n",
       "\n",
       "    .dataframe thead th {\n",
       "        text-align: right;\n",
       "    }\n",
       "</style>\n",
       "<table border=\"1\" class=\"dataframe\">\n",
       "  <thead>\n",
       "    <tr style=\"text-align: right;\">\n",
       "      <th></th>\n",
       "      <th>price</th>\n",
       "      <th>sqfeet</th>\n",
       "      <th>beds</th>\n",
       "      <th>baths</th>\n",
       "    </tr>\n",
       "  </thead>\n",
       "  <tbody>\n",
       "    <tr>\n",
       "      <th>count</th>\n",
       "      <td>3.005420e+05</td>\n",
       "      <td>3.005420e+05</td>\n",
       "      <td>3.005420e+05</td>\n",
       "      <td>3.005420e+05</td>\n",
       "    </tr>\n",
       "    <tr>\n",
       "      <th>mean</th>\n",
       "      <td>3.924306e-15</td>\n",
       "      <td>4.187149e-16</td>\n",
       "      <td>-7.289464e-15</td>\n",
       "      <td>3.280094e-14</td>\n",
       "    </tr>\n",
       "    <tr>\n",
       "      <th>std</th>\n",
       "      <td>1.000000e+00</td>\n",
       "      <td>1.000000e+00</td>\n",
       "      <td>1.000000e+00</td>\n",
       "      <td>1.000000e+00</td>\n",
       "    </tr>\n",
       "    <tr>\n",
       "      <th>min</th>\n",
       "      <td>-2.216321e+00</td>\n",
       "      <td>-2.084470e+00</td>\n",
       "      <td>-6.357577e-01</td>\n",
       "      <td>-2.422724e+00</td>\n",
       "    </tr>\n",
       "    <tr>\n",
       "      <th>25%</th>\n",
       "      <td>-6.821046e-01</td>\n",
       "      <td>-6.730604e-01</td>\n",
       "      <td>-2.974660e-01</td>\n",
       "      <td>-7.088391e-01</td>\n",
       "    </tr>\n",
       "    <tr>\n",
       "      <th>50%</th>\n",
       "      <td>-2.459058e-01</td>\n",
       "      <td>-1.114369e-01</td>\n",
       "      <td>4.082571e-02</td>\n",
       "      <td>-7.088391e-01</td>\n",
       "    </tr>\n",
       "    <tr>\n",
       "      <th>75%</th>\n",
       "      <td>4.140330e-01</td>\n",
       "      <td>4.531271e-01</td>\n",
       "      <td>4.082571e-02</td>\n",
       "      <td>1.005046e+00</td>\n",
       "    </tr>\n",
       "    <tr>\n",
       "      <th>max</th>\n",
       "      <td>5.445361e+00</td>\n",
       "      <td>5.381300e+00</td>\n",
       "      <td>3.714851e+02</td>\n",
       "      <td>1.261187e+02</td>\n",
       "    </tr>\n",
       "  </tbody>\n",
       "</table>\n",
       "</div>"
      ],
      "text/plain": [
       "              price        sqfeet          beds         baths\n",
       "count  3.005420e+05  3.005420e+05  3.005420e+05  3.005420e+05\n",
       "mean   3.924306e-15  4.187149e-16 -7.289464e-15  3.280094e-14\n",
       "std    1.000000e+00  1.000000e+00  1.000000e+00  1.000000e+00\n",
       "min   -2.216321e+00 -2.084470e+00 -6.357577e-01 -2.422724e+00\n",
       "25%   -6.821046e-01 -6.730604e-01 -2.974660e-01 -7.088391e-01\n",
       "50%   -2.459058e-01 -1.114369e-01  4.082571e-02 -7.088391e-01\n",
       "75%    4.140330e-01  4.531271e-01  4.082571e-02  1.005046e+00\n",
       "max    5.445361e+00  5.381300e+00  3.714851e+02  1.261187e+02"
      ]
     },
     "execution_count": 47,
     "metadata": {},
     "output_type": "execute_result"
    }
   ],
   "source": [
    "data_numerical.describe()"
   ]
  },
  {
   "cell_type": "code",
   "execution_count": 48,
   "metadata": {},
   "outputs": [
    {
     "name": "stdout",
     "output_type": "stream",
     "text": [
      "(300542, 26)\n"
     ]
    }
   ],
   "source": [
    "data = pd.concat((data_numerical, data_dummies, data[binary_columns]), axis = 1)\n",
    "print(data.shape)"
   ]
  },
  {
   "cell_type": "code",
   "execution_count": 49,
   "metadata": {},
   "outputs": [
    {
     "data": {
      "text/html": [
       "<div>\n",
       "<style scoped>\n",
       "    .dataframe tbody tr th:only-of-type {\n",
       "        vertical-align: middle;\n",
       "    }\n",
       "\n",
       "    .dataframe tbody tr th {\n",
       "        vertical-align: top;\n",
       "    }\n",
       "\n",
       "    .dataframe thead th {\n",
       "        text-align: right;\n",
       "    }\n",
       "</style>\n",
       "<table border=\"1\" class=\"dataframe\">\n",
       "  <thead>\n",
       "    <tr style=\"text-align: right;\">\n",
       "      <th></th>\n",
       "      <th>price</th>\n",
       "      <th>sqfeet</th>\n",
       "      <th>beds</th>\n",
       "      <th>baths</th>\n",
       "      <th>apartment</th>\n",
       "      <th>assisted living</th>\n",
       "      <th>condo</th>\n",
       "      <th>cottage/cabin</th>\n",
       "      <th>duplex</th>\n",
       "      <th>flat</th>\n",
       "      <th>...</th>\n",
       "      <th>in-law</th>\n",
       "      <th>land</th>\n",
       "      <th>loft</th>\n",
       "      <th>manufactured</th>\n",
       "      <th>townhouse</th>\n",
       "      <th>laundry in bldg</th>\n",
       "      <th>laundry on site</th>\n",
       "      <th>no laundry on site</th>\n",
       "      <th>w/d hookups</th>\n",
       "      <th>w/d in unit</th>\n",
       "    </tr>\n",
       "  </thead>\n",
       "  <tbody>\n",
       "    <tr>\n",
       "      <th>count</th>\n",
       "      <td>3.005420e+05</td>\n",
       "      <td>3.005420e+05</td>\n",
       "      <td>3.005420e+05</td>\n",
       "      <td>3.005420e+05</td>\n",
       "      <td>300542.000000</td>\n",
       "      <td>300542.000000</td>\n",
       "      <td>300542.000000</td>\n",
       "      <td>300542.000000</td>\n",
       "      <td>300542.000000</td>\n",
       "      <td>300542.000000</td>\n",
       "      <td>...</td>\n",
       "      <td>300542.000000</td>\n",
       "      <td>300542.000000</td>\n",
       "      <td>300542.000000</td>\n",
       "      <td>300542.000000</td>\n",
       "      <td>300542.000000</td>\n",
       "      <td>300542.000000</td>\n",
       "      <td>300542.000000</td>\n",
       "      <td>300542.000000</td>\n",
       "      <td>300542.000000</td>\n",
       "      <td>300542.000000</td>\n",
       "    </tr>\n",
       "    <tr>\n",
       "      <th>mean</th>\n",
       "      <td>3.924306e-15</td>\n",
       "      <td>4.187149e-16</td>\n",
       "      <td>-7.289464e-15</td>\n",
       "      <td>3.280094e-14</td>\n",
       "      <td>0.824344</td>\n",
       "      <td>0.000007</td>\n",
       "      <td>0.016603</td>\n",
       "      <td>0.002456</td>\n",
       "      <td>0.015555</td>\n",
       "      <td>0.001594</td>\n",
       "      <td>...</td>\n",
       "      <td>0.000486</td>\n",
       "      <td>0.000017</td>\n",
       "      <td>0.002153</td>\n",
       "      <td>0.013216</td>\n",
       "      <td>0.049241</td>\n",
       "      <td>0.117521</td>\n",
       "      <td>0.192296</td>\n",
       "      <td>0.011586</td>\n",
       "      <td>0.248205</td>\n",
       "      <td>0.430392</td>\n",
       "    </tr>\n",
       "    <tr>\n",
       "      <th>std</th>\n",
       "      <td>1.000000e+00</td>\n",
       "      <td>1.000000e+00</td>\n",
       "      <td>1.000000e+00</td>\n",
       "      <td>1.000000e+00</td>\n",
       "      <td>0.380528</td>\n",
       "      <td>0.002580</td>\n",
       "      <td>0.127780</td>\n",
       "      <td>0.049493</td>\n",
       "      <td>0.123747</td>\n",
       "      <td>0.039891</td>\n",
       "      <td>...</td>\n",
       "      <td>0.022035</td>\n",
       "      <td>0.004079</td>\n",
       "      <td>0.046348</td>\n",
       "      <td>0.114199</td>\n",
       "      <td>0.216371</td>\n",
       "      <td>0.322041</td>\n",
       "      <td>0.394105</td>\n",
       "      <td>0.107012</td>\n",
       "      <td>0.431972</td>\n",
       "      <td>0.495132</td>\n",
       "    </tr>\n",
       "    <tr>\n",
       "      <th>min</th>\n",
       "      <td>-2.216321e+00</td>\n",
       "      <td>-2.084470e+00</td>\n",
       "      <td>-6.357577e-01</td>\n",
       "      <td>-2.422724e+00</td>\n",
       "      <td>0.000000</td>\n",
       "      <td>0.000000</td>\n",
       "      <td>0.000000</td>\n",
       "      <td>0.000000</td>\n",
       "      <td>0.000000</td>\n",
       "      <td>0.000000</td>\n",
       "      <td>...</td>\n",
       "      <td>0.000000</td>\n",
       "      <td>0.000000</td>\n",
       "      <td>0.000000</td>\n",
       "      <td>0.000000</td>\n",
       "      <td>0.000000</td>\n",
       "      <td>0.000000</td>\n",
       "      <td>0.000000</td>\n",
       "      <td>0.000000</td>\n",
       "      <td>0.000000</td>\n",
       "      <td>0.000000</td>\n",
       "    </tr>\n",
       "    <tr>\n",
       "      <th>25%</th>\n",
       "      <td>-6.821046e-01</td>\n",
       "      <td>-6.730604e-01</td>\n",
       "      <td>-2.974660e-01</td>\n",
       "      <td>-7.088391e-01</td>\n",
       "      <td>1.000000</td>\n",
       "      <td>0.000000</td>\n",
       "      <td>0.000000</td>\n",
       "      <td>0.000000</td>\n",
       "      <td>0.000000</td>\n",
       "      <td>0.000000</td>\n",
       "      <td>...</td>\n",
       "      <td>0.000000</td>\n",
       "      <td>0.000000</td>\n",
       "      <td>0.000000</td>\n",
       "      <td>0.000000</td>\n",
       "      <td>0.000000</td>\n",
       "      <td>0.000000</td>\n",
       "      <td>0.000000</td>\n",
       "      <td>0.000000</td>\n",
       "      <td>0.000000</td>\n",
       "      <td>0.000000</td>\n",
       "    </tr>\n",
       "    <tr>\n",
       "      <th>50%</th>\n",
       "      <td>-2.459058e-01</td>\n",
       "      <td>-1.114369e-01</td>\n",
       "      <td>4.082571e-02</td>\n",
       "      <td>-7.088391e-01</td>\n",
       "      <td>1.000000</td>\n",
       "      <td>0.000000</td>\n",
       "      <td>0.000000</td>\n",
       "      <td>0.000000</td>\n",
       "      <td>0.000000</td>\n",
       "      <td>0.000000</td>\n",
       "      <td>...</td>\n",
       "      <td>0.000000</td>\n",
       "      <td>0.000000</td>\n",
       "      <td>0.000000</td>\n",
       "      <td>0.000000</td>\n",
       "      <td>0.000000</td>\n",
       "      <td>0.000000</td>\n",
       "      <td>0.000000</td>\n",
       "      <td>0.000000</td>\n",
       "      <td>0.000000</td>\n",
       "      <td>0.000000</td>\n",
       "    </tr>\n",
       "    <tr>\n",
       "      <th>75%</th>\n",
       "      <td>4.140330e-01</td>\n",
       "      <td>4.531271e-01</td>\n",
       "      <td>4.082571e-02</td>\n",
       "      <td>1.005046e+00</td>\n",
       "      <td>1.000000</td>\n",
       "      <td>0.000000</td>\n",
       "      <td>0.000000</td>\n",
       "      <td>0.000000</td>\n",
       "      <td>0.000000</td>\n",
       "      <td>0.000000</td>\n",
       "      <td>...</td>\n",
       "      <td>0.000000</td>\n",
       "      <td>0.000000</td>\n",
       "      <td>0.000000</td>\n",
       "      <td>0.000000</td>\n",
       "      <td>0.000000</td>\n",
       "      <td>0.000000</td>\n",
       "      <td>0.000000</td>\n",
       "      <td>0.000000</td>\n",
       "      <td>0.000000</td>\n",
       "      <td>1.000000</td>\n",
       "    </tr>\n",
       "    <tr>\n",
       "      <th>max</th>\n",
       "      <td>5.445361e+00</td>\n",
       "      <td>5.381300e+00</td>\n",
       "      <td>3.714851e+02</td>\n",
       "      <td>1.261187e+02</td>\n",
       "      <td>1.000000</td>\n",
       "      <td>1.000000</td>\n",
       "      <td>1.000000</td>\n",
       "      <td>1.000000</td>\n",
       "      <td>1.000000</td>\n",
       "      <td>1.000000</td>\n",
       "      <td>...</td>\n",
       "      <td>1.000000</td>\n",
       "      <td>1.000000</td>\n",
       "      <td>1.000000</td>\n",
       "      <td>1.000000</td>\n",
       "      <td>1.000000</td>\n",
       "      <td>1.000000</td>\n",
       "      <td>1.000000</td>\n",
       "      <td>1.000000</td>\n",
       "      <td>1.000000</td>\n",
       "      <td>1.000000</td>\n",
       "    </tr>\n",
       "  </tbody>\n",
       "</table>\n",
       "<p>8 rows × 21 columns</p>\n",
       "</div>"
      ],
      "text/plain": [
       "              price        sqfeet          beds         baths      apartment  \\\n",
       "count  3.005420e+05  3.005420e+05  3.005420e+05  3.005420e+05  300542.000000   \n",
       "mean   3.924306e-15  4.187149e-16 -7.289464e-15  3.280094e-14       0.824344   \n",
       "std    1.000000e+00  1.000000e+00  1.000000e+00  1.000000e+00       0.380528   \n",
       "min   -2.216321e+00 -2.084470e+00 -6.357577e-01 -2.422724e+00       0.000000   \n",
       "25%   -6.821046e-01 -6.730604e-01 -2.974660e-01 -7.088391e-01       1.000000   \n",
       "50%   -2.459058e-01 -1.114369e-01  4.082571e-02 -7.088391e-01       1.000000   \n",
       "75%    4.140330e-01  4.531271e-01  4.082571e-02  1.005046e+00       1.000000   \n",
       "max    5.445361e+00  5.381300e+00  3.714851e+02  1.261187e+02       1.000000   \n",
       "\n",
       "       assisted living          condo  cottage/cabin         duplex  \\\n",
       "count    300542.000000  300542.000000  300542.000000  300542.000000   \n",
       "mean          0.000007       0.016603       0.002456       0.015555   \n",
       "std           0.002580       0.127780       0.049493       0.123747   \n",
       "min           0.000000       0.000000       0.000000       0.000000   \n",
       "25%           0.000000       0.000000       0.000000       0.000000   \n",
       "50%           0.000000       0.000000       0.000000       0.000000   \n",
       "75%           0.000000       0.000000       0.000000       0.000000   \n",
       "max           1.000000       1.000000       1.000000       1.000000   \n",
       "\n",
       "                flat  ...         in-law           land           loft  \\\n",
       "count  300542.000000  ...  300542.000000  300542.000000  300542.000000   \n",
       "mean        0.001594  ...       0.000486       0.000017       0.002153   \n",
       "std         0.039891  ...       0.022035       0.004079       0.046348   \n",
       "min         0.000000  ...       0.000000       0.000000       0.000000   \n",
       "25%         0.000000  ...       0.000000       0.000000       0.000000   \n",
       "50%         0.000000  ...       0.000000       0.000000       0.000000   \n",
       "75%         0.000000  ...       0.000000       0.000000       0.000000   \n",
       "max         1.000000  ...       1.000000       1.000000       1.000000   \n",
       "\n",
       "        manufactured      townhouse  laundry in bldg  laundry on site  \\\n",
       "count  300542.000000  300542.000000    300542.000000    300542.000000   \n",
       "mean        0.013216       0.049241         0.117521         0.192296   \n",
       "std         0.114199       0.216371         0.322041         0.394105   \n",
       "min         0.000000       0.000000         0.000000         0.000000   \n",
       "25%         0.000000       0.000000         0.000000         0.000000   \n",
       "50%         0.000000       0.000000         0.000000         0.000000   \n",
       "75%         0.000000       0.000000         0.000000         0.000000   \n",
       "max         1.000000       1.000000         1.000000         1.000000   \n",
       "\n",
       "       no laundry on site    w/d hookups    w/d in unit  \n",
       "count       300542.000000  300542.000000  300542.000000  \n",
       "mean             0.011586       0.248205       0.430392  \n",
       "std              0.107012       0.431972       0.495132  \n",
       "min              0.000000       0.000000       0.000000  \n",
       "25%              0.000000       0.000000       0.000000  \n",
       "50%              0.000000       0.000000       0.000000  \n",
       "75%              0.000000       0.000000       1.000000  \n",
       "max              1.000000       1.000000       1.000000  \n",
       "\n",
       "[8 rows x 21 columns]"
      ]
     },
     "execution_count": 49,
     "metadata": {},
     "output_type": "execute_result"
    }
   ],
   "source": [
    "data.describe()"
   ]
  },
  {
   "cell_type": "code",
   "execution_count": 50,
   "metadata": {},
   "outputs": [],
   "source": [
    "X = data"
   ]
  },
  {
   "cell_type": "code",
   "execution_count": 51,
   "metadata": {},
   "outputs": [
    {
     "data": {
      "text/plain": [
       "(300542, 26)"
      ]
     },
     "execution_count": 51,
     "metadata": {},
     "output_type": "execute_result"
    }
   ],
   "source": [
    "N, d = X.shape\n",
    "N, d"
   ]
  },
  {
   "cell_type": "code",
   "execution_count": 52,
   "metadata": {},
   "outputs": [
    {
     "data": {
      "text/plain": [
       "Index(['price', 'sqfeet', 'beds', 'baths', 'apartment', 'assisted living',\n",
       "       'condo', 'cottage/cabin', 'duplex', 'flat', 'house', 'in-law', 'land',\n",
       "       'loft', 'manufactured', 'townhouse', 'laundry in bldg',\n",
       "       'laundry on site', 'no laundry on site', 'w/d hookups', 'w/d in unit',\n",
       "       'dogs_allowed', 'smoking_allowed', 'wheelchair_access',\n",
       "       'electric_vehicle_charge', 'comes_furnished'],\n",
       "      dtype='object')"
      ]
     },
     "execution_count": 52,
     "metadata": {},
     "output_type": "execute_result"
    }
   ],
   "source": [
    "X.columns"
   ]
  },
  {
   "cell_type": "code",
   "execution_count": 53,
   "metadata": {},
   "outputs": [
    {
     "data": {
      "text/plain": [
       "0         w\n",
       "1         w\n",
       "2         w\n",
       "3         w\n",
       "5         w\n",
       "         ..\n",
       "384972    w\n",
       "384973    w\n",
       "384974    w\n",
       "384975    w\n",
       "384976    w\n",
       "Name: reg, Length: 300542, dtype: category\n",
       "Categories (5, object): ['m', 'n', 'o', 's', 'w']"
      ]
     },
     "execution_count": 53,
     "metadata": {},
     "output_type": "execute_result"
    }
   ],
   "source": [
    "y"
   ]
  },
  {
   "cell_type": "markdown",
   "metadata": {},
   "source": [
    "Разбиение данных на обучающую и тестовую выборки"
   ]
  },
  {
   "cell_type": "code",
   "execution_count": 54,
   "metadata": {},
   "outputs": [
    {
     "data": {
      "text/plain": [
       "(225406, 75136)"
      ]
     },
     "execution_count": 54,
     "metadata": {},
     "output_type": "execute_result"
    }
   ],
   "source": [
    "from sklearn.model_selection import train_test_split\n",
    "X_train, X_test, y_train, y_test = train_test_split(X, y, test_size = 0.25, random_state = 42)\n",
    "\n",
    "N_train, _ = X_train.shape\n",
    "N_test,  _ = X_test.shape \n",
    "\n",
    "N_train, N_test"
   ]
  },
  {
   "cell_type": "markdown",
   "metadata": {},
   "source": [
    "### 4. Обучение классификаторов"
   ]
  },
  {
   "cell_type": "code",
   "execution_count": 55,
   "metadata": {},
   "outputs": [],
   "source": [
    "import sklearn\n",
    "from sklearn.neighbors import KNeighborsClassifier\n",
    "from sklearn.model_selection import GridSearchCV\n",
    "from sklearn.metrics import accuracy_score, plot_confusion_matrix\n",
    "import warnings\n",
    "warnings.filterwarnings('ignore')"
   ]
  },
  {
   "cell_type": "markdown",
   "metadata": {},
   "source": [
    "Метод kNN"
   ]
  },
  {
   "cell_type": "code",
   "execution_count": 56,
   "metadata": {},
   "outputs": [
    {
     "name": "stdout",
     "output_type": "stream",
     "text": [
      "Accuracy score on train data: 87.31%\n",
      "Accuracy score on test  data: 77.44%\n",
      "Wall time: 13min 42s\n"
     ]
    }
   ],
   "source": [
    "%%time\n",
    "\n",
    "knn = KNeighborsClassifier()\n",
    "\n",
    "knn.set_params(n_neighbors = 3)\n",
    "knn.fit(X_train, y_train)\n",
    "\n",
    "y_train_pred = knn.predict(X_train)\n",
    "y_test_pred = knn.predict(X_test)\n",
    "\n",
    "print('Accuracy score on train data: {:.2f}%'.format(100 * accuracy_score(y_train, y_train_pred)))\n",
    "print('Accuracy score on test  data: {:.2f}%'.format(100 * accuracy_score(y_test,  y_test_pred)))"
   ]
  },
  {
   "cell_type": "code",
   "execution_count": 57,
   "metadata": {},
   "outputs": [
    {
     "data": {
      "text/plain": [
       "<sklearn.metrics._plot.confusion_matrix.ConfusionMatrixDisplay at 0x13704f20b50>"
      ]
     },
     "execution_count": 57,
     "metadata": {},
     "output_type": "execute_result"
    },
    {
     "data": {
      "image/png": "[encoded data removed]",
      "text/plain": [
       "<Figure size 432x288 with 2 Axes>"
      ]
     },
     "metadata": {
      "needs_background": "light"
     },
     "output_type": "display_data"
    }
   ],
   "source": [
    "plot_confusion_matrix(knn, X_test, y_test)"
   ]
  },
  {
   "cell_type": "markdown",
   "metadata": {},
   "source": [
    "Выбор оптимального значения параметра n"
   ]
  },
  {
   "cell_type": "code",
   "execution_count": 58,
   "metadata": {},
   "outputs": [
    {
     "name": "stdout",
     "output_type": "stream",
     "text": [
      "Optimal neighbor count:  1\n",
      "Wall time: 1h 43min 12s\n"
     ]
    }
   ],
   "source": [
    "%%time\n",
    "\n",
    "grid = GridSearchCV(KNeighborsClassifier(), param_grid = {'n_neighbors': range(1, 11)}, cv = 5)\n",
    "grid.fit(X_train, y_train)\n",
    "\n",
    "best_n_neighbors = grid.best_estimator_.n_neighbors\n",
    "\n",
    "print('Optimal neighbor count: ', best_n_neighbors)"
   ]
  },
  {
   "cell_type": "code",
   "execution_count": 59,
   "metadata": {},
   "outputs": [
    {
     "name": "stdout",
     "output_type": "stream",
     "text": [
      "Accuracy score on train data: 98.69%\n",
      "Accuracy score on test  data: 80.40%\n",
      "Wall time: 13min 18s\n"
     ]
    }
   ],
   "source": [
    "%%time\n",
    "\n",
    "knn = KNeighborsClassifier()\n",
    "\n",
    "knn.set_params(n_neighbors = best_n_neighbors)\n",
    "knn.fit(X_train, y_train)\n",
    "\n",
    "y_train_pred = knn.predict(X_train)\n",
    "y_test_pred = knn.predict(X_test)\n",
    "\n",
    "print('Accuracy score on train data: {:.2f}%'.format(100 * accuracy_score(y_train, y_train_pred)))\n",
    "print('Accuracy score on test  data: {:.2f}%'.format(100 * accuracy_score(y_test,  y_test_pred)))"
   ]
  },
  {
   "cell_type": "code",
   "execution_count": 60,
   "metadata": {},
   "outputs": [
    {
     "data": {
      "text/plain": [
       "<sklearn.metrics._plot.confusion_matrix.ConfusionMatrixDisplay at 0x137059937f0>"
      ]
     },
     "execution_count": 60,
     "metadata": {},
     "output_type": "execute_result"
    },
    {
     "data": {
      "image/png": "[encoded data removed]",
      "text/plain": [
       "<Figure size 432x288 with 2 Axes>"
      ]
     },
     "metadata": {
      "needs_background": "light"
     },
     "output_type": "display_data"
    }
   ],
   "source": [
    "plot_confusion_matrix(knn, X_test, y_test)"
   ]
  },
  {
   "cell_type": "markdown",
   "metadata": {},
   "source": [
    "Метод Random Forest"
   ]
  },
  {
   "cell_type": "code",
   "execution_count": 61,
   "metadata": {},
   "outputs": [
    {
     "name": "stdout",
     "output_type": "stream",
     "text": [
      "Wall time: 2min 42s\n"
     ]
    },
    {
     "data": {
      "text/plain": [
       "RandomForestClassifier(n_estimators=500)"
      ]
     },
     "execution_count": 61,
     "metadata": {},
     "output_type": "execute_result"
    }
   ],
   "source": [
    "%%time\n",
    "\n",
    "from sklearn.ensemble import RandomForestClassifier\n",
    "\n",
    "rf = RandomForestClassifier(n_estimators=500)\n",
    "rf.fit(X_train, y_train)"
   ]
  },
  {
   "cell_type": "code",
   "execution_count": 62,
   "metadata": {},
   "outputs": [
    {
     "name": "stdout",
     "output_type": "stream",
     "text": [
      "Accuracy score on train data: 98.92%\n",
      "Accuracy score on test  data: 82.49%\n"
     ]
    }
   ],
   "source": [
    "y_train_pred = rf.predict(X_train)\n",
    "y_test_pred = rf.predict(X_test)\n",
    "\n",
    "print('Accuracy score on train data: {:.2f}%'.format(100 * accuracy_score(y_train, y_train_pred)))\n",
    "print('Accuracy score on test  data: {:.2f}%'.format(100 * accuracy_score(y_test,  y_test_pred)))"
   ]
  },
  {
   "cell_type": "code",
   "execution_count": 63,
   "metadata": {},
   "outputs": [
    {
     "data": {
      "text/plain": [
       "<sklearn.metrics._plot.confusion_matrix.ConfusionMatrixDisplay at 0x13709032460>"
      ]
     },
     "execution_count": 63,
     "metadata": {},
     "output_type": "execute_result"
    },
    {
     "data": {
      "image/png": "[encoded data removed]",
      "text/plain": [
       "<Figure size 432x288 with 2 Axes>"
      ]
     },
     "metadata": {
      "needs_background": "light"
     },
     "output_type": "display_data"
    }
   ],
   "source": [
    "plot_confusion_matrix(rf, X_test, y_test)"
   ]
  },
  {
   "cell_type": "code",
   "execution_count": 64,
   "metadata": {},
   "outputs": [],
   "source": [
    "importances = pd.Series(rf.feature_importances_, index=X.columns).sort_values(ascending=False)"
   ]
  },
  {
   "cell_type": "code",
   "execution_count": 65,
   "metadata": {},
   "outputs": [
    {
     "data": {
      "image/png": "[encoded data removed]",
      "text/plain": [
       "<Figure size 1440x1800 with 1 Axes>"
      ]
     },
     "metadata": {
      "needs_background": "light"
     },
     "output_type": "display_data"
    }
   ],
   "source": [
    "fig = plt.figure(figsize=(20, 25))\n",
    "sns.barplot(y=importances.index, x=importances, orient='h')\n",
    "pass"
   ]
  },
  {
   "cell_type": "markdown",
   "metadata": {},
   "source": [
    "Важнейшими признаками оказались арендная плата и площадь квартиры."
   ]
  },
  {
   "cell_type": "markdown",
   "metadata": {},
   "source": [
    "### Выводы\n",
    "1. Лучшую точность(82%) на тестовой выборке удалось достигнуть при помощи метода RandomForest.\n",
    "2. Метод KNN показал наилучшую точность при n = 1. Достигнутая точность равна 80%."
   ]
  }
 ],
 "metadata": {
  "kernelspec": {
   "display_name": "Python 3.8.8 ('base')",
   "language": "python",
   "name": "python3"
  },
  "language_info": {
   "codemirror_mode": {
    "name": "ipython",
    "version": 3
   },
   "file_extension": ".py",
   "mimetype": "text/x-python",
   "name": "python",
   "nbconvert_exporter": "python",
   "pygments_lexer": "ipython3",
   "version": "3.8.8"
  },
  "orig_nbformat": 4,
  "vscode": {
   "interpreter": {
    "hash": "cb1f95912d1f4eee9631ab7115fc8af0bd476e84e7619c48d7de3c7a4103e989"
   }
  }
 },
 "nbformat": 4,
 "nbformat_minor": 2
}
