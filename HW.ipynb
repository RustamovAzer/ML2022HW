{
 "cells": [
  {
   "cell_type": "markdown",
   "metadata": {},
   "source": [
    "## Домашнее задание\n",
    "### Задача: определить регион США, в которой находится квартира."
   ]
  },
  {
   "cell_type": "markdown",
   "metadata": {},
   "source": [
    "### Описание датасета:\n",
    "Датасет содержит информацию о съёмных квартирах в США.\n",
    "\n",
    "Признаки, содержащиеся в датасете:\n",
    "\n",
    "* ID квартиры в датасете\n",
    "* URL квартиры на сайте для аренды\n",
    "* Регион квартиры\n",
    "* URL региона квартиры\n",
    "* Арендная плата за месяц\n",
    "* Тип застройки\n",
    "* Площадь квартиры\n",
    "* Количество кроватей\n",
    "* Количество ванных комнат\n",
    "* Разрешение на котов\n",
    "* Разрешение на собак\n",
    "* Разрешение на курение\n",
    "* Доступ для инвалидных колясок\n",
    "* Доступ к зарядным устройствам для электромобилей\n",
    "* Наличие мобели\n",
    "* Доступные варианты стирки\n",
    "* Доступные варианты парковки\n",
    "* URL изображения\n",
    "* Описание\n",
    "* Широта\n",
    "* Долгота\n",
    "* Штат"
   ]
  },
  {
   "cell_type": "code",
   "execution_count": 2,
   "metadata": {},
   "outputs": [],
   "source": [
    "import sklearn\n",
    "import seaborn as sns\n",
    "import pandas as pd\n",
    "import numpy as np\n",
    "import matplotlib.pyplot as plt \n",
    "%matplotlib inline"
   ]
  },
  {
   "cell_type": "markdown",
   "metadata": {},
   "source": [
    "1. Чтение данных"
   ]
  },
  {
   "cell_type": "code",
   "execution_count": 3,
   "metadata": {},
   "outputs": [],
   "source": [
    "url = \"housing.csv\"\n",
    "data_raw = pd.read_csv(url)"
   ]
  },
  {
   "cell_type": "code",
   "execution_count": 4,
   "metadata": {},
   "outputs": [
    {
     "data": {
      "text/plain": [
       "array(['ca', 'co', 'ct', 'dc', 'fl', 'de', 'ga', 'hi', 'id', 'il', 'in',\n",
       "       'ia', 'ks', 'ky', 'la', 'me', 'mi', 'md', 'ma', 'mn', 'ms', 'nc',\n",
       "       'mo', 'mt', 'ne', 'nv', 'nj', 'nm', 'ny', 'nh', 'oh', 'nd', 'ok',\n",
       "       'or', 'pa', 'ri', 'sc', 'tn', 'sd', 'tx', 'ut', 'va', 'vt', 'wa',\n",
       "       'wv', 'wi', 'wy', 'al', 'az', 'ak', 'ar'], dtype=object)"
      ]
     },
     "execution_count": 4,
     "metadata": {},
     "output_type": "execute_result"
    }
   ],
   "source": [
    "data_raw[\"state\"].unique()"
   ]
  },
  {
   "cell_type": "code",
   "execution_count": 5,
   "metadata": {},
   "outputs": [],
   "source": [
    "states = {\n",
    "        'ak': 'o',\n",
    "        'al': 's',\n",
    "        'ar': 's',\n",
    "        'as': 'o',\n",
    "        'az': 'w',\n",
    "        'ca': 'w',\n",
    "        'co': 'w',\n",
    "        'ct': 'n',\n",
    "        'dc': 'n',\n",
    "        'de': 'n',\n",
    "        'fl': 's',\n",
    "        'ga': 's',\n",
    "        'gu': 'o',\n",
    "        'hi': 'o',\n",
    "        'ia': 'm',\n",
    "        'id': 'w',\n",
    "        'il': 'm',\n",
    "        'in': 'm',\n",
    "        'ks': 'm',\n",
    "        'ky': 's',\n",
    "        'la': 's',\n",
    "        'ma': 'n',\n",
    "        'md': 'n',\n",
    "        'me': 'n',\n",
    "        'mi': 'w',\n",
    "        'mn': 'm',\n",
    "        'mo': 'm',\n",
    "        'mp': 'o',\n",
    "        'ms': 's',\n",
    "        'mt': 'w',\n",
    "        'na': 'o',\n",
    "        'nc': 's',\n",
    "        'nd': 'm',\n",
    "        'ne': 'w',\n",
    "        'nh': 'n',\n",
    "        'nj': 'n',\n",
    "        'nm': 'w',\n",
    "        'nv': 'w',\n",
    "        'ny': 'n',\n",
    "        'oh': 'm',\n",
    "        'ok': 's',\n",
    "        'or': 'w',\n",
    "        'pa': 'n',\n",
    "        'pr': 'o',\n",
    "        'ri': 'n',\n",
    "        'sc': 's',\n",
    "        'sd': 'm',\n",
    "        'tn': 's',\n",
    "        'tx': 's',\n",
    "        'ut': 'w',\n",
    "        'va': 's',\n",
    "        'vi': 'o',\n",
    "        'vt': 'n',\n",
    "        'wa': 'w',\n",
    "        'wi': 'm',\n",
    "        'wv': 's',\n",
    "        'wy': 'w'\n",
    "}"
   ]
  },
  {
   "cell_type": "code",
   "execution_count": 6,
   "metadata": {},
   "outputs": [
    {
     "data": {
      "text/plain": [
       "0         w\n",
       "1         w\n",
       "2         w\n",
       "3         w\n",
       "4         w\n",
       "         ..\n",
       "384972    w\n",
       "384973    w\n",
       "384974    w\n",
       "384975    w\n",
       "384976    w\n",
       "Name: reg, Length: 384977, dtype: object"
      ]
     },
     "execution_count": 6,
     "metadata": {},
     "output_type": "execute_result"
    }
   ],
   "source": [
    "data_raw['reg'] = data_raw.apply(\n",
    "    lambda row: states.get(row.state), axis = 1)\n",
    "data_raw['reg']"
   ]
  },
  {
   "cell_type": "code",
   "execution_count": 7,
   "metadata": {},
   "outputs": [],
   "source": [
    "subset = np.random.choice(np.arange(data_raw.shape[0]), size=200000, replace=False)"
   ]
  },
  {
   "cell_type": "code",
   "execution_count": 8,
   "metadata": {},
   "outputs": [],
   "source": [
    "data_raw = data_raw.iloc[subset]"
   ]
  },
  {
   "cell_type": "code",
   "execution_count": 9,
   "metadata": {},
   "outputs": [
    {
     "data": {
      "text/html": [
       "<div>\n",
       "<style scoped>\n",
       "    .dataframe tbody tr th:only-of-type {\n",
       "        vertical-align: middle;\n",
       "    }\n",
       "\n",
       "    .dataframe tbody tr th {\n",
       "        vertical-align: top;\n",
       "    }\n",
       "\n",
       "    .dataframe thead th {\n",
       "        text-align: right;\n",
       "    }\n",
       "</style>\n",
       "<table border=\"1\" class=\"dataframe\">\n",
       "  <thead>\n",
       "    <tr style=\"text-align: right;\">\n",
       "      <th></th>\n",
       "      <th>id</th>\n",
       "      <th>url</th>\n",
       "      <th>region</th>\n",
       "      <th>region_url</th>\n",
       "      <th>price</th>\n",
       "      <th>type</th>\n",
       "      <th>sqfeet</th>\n",
       "      <th>beds</th>\n",
       "      <th>baths</th>\n",
       "      <th>cats_allowed</th>\n",
       "      <th>...</th>\n",
       "      <th>electric_vehicle_charge</th>\n",
       "      <th>comes_furnished</th>\n",
       "      <th>laundry_options</th>\n",
       "      <th>parking_options</th>\n",
       "      <th>image_url</th>\n",
       "      <th>description</th>\n",
       "      <th>lat</th>\n",
       "      <th>long</th>\n",
       "      <th>state</th>\n",
       "      <th>reg</th>\n",
       "    </tr>\n",
       "  </thead>\n",
       "  <tbody>\n",
       "    <tr>\n",
       "      <th>243286</th>\n",
       "      <td>7049427287</td>\n",
       "      <td>https://eugene.craigslist.org/apa/d/eugene-pla...</td>\n",
       "      <td>eugene</td>\n",
       "      <td>https://eugene.craigslist.org</td>\n",
       "      <td>0</td>\n",
       "      <td>apartment</td>\n",
       "      <td>864</td>\n",
       "      <td>2</td>\n",
       "      <td>1.0</td>\n",
       "      <td>1</td>\n",
       "      <td>...</td>\n",
       "      <td>0</td>\n",
       "      <td>0</td>\n",
       "      <td>w/d in unit</td>\n",
       "      <td>carport</td>\n",
       "      <td>https://images.craigslist.org/00B0B_iOt9v048p5...</td>\n",
       "      <td>Valley River Court is a great community, with ...</td>\n",
       "      <td>44.0891</td>\n",
       "      <td>-123.1060</td>\n",
       "      <td>or</td>\n",
       "      <td>w</td>\n",
       "    </tr>\n",
       "    <tr>\n",
       "      <th>263110</th>\n",
       "      <td>7042055352</td>\n",
       "      <td>https://charleston.craigslist.org/apa/d/charle...</td>\n",
       "      <td>charleston</td>\n",
       "      <td>https://charleston.craigslist.org</td>\n",
       "      <td>1400</td>\n",
       "      <td>condo</td>\n",
       "      <td>1140</td>\n",
       "      <td>2</td>\n",
       "      <td>2.0</td>\n",
       "      <td>1</td>\n",
       "      <td>...</td>\n",
       "      <td>0</td>\n",
       "      <td>0</td>\n",
       "      <td>w/d in unit</td>\n",
       "      <td>off-street parking</td>\n",
       "      <td>https://images.craigslist.org/00M0M_6hq5hpadCU...</td>\n",
       "      <td>Spacious Condo!!! Move in this weekend! 2bdrm/...</td>\n",
       "      <td>32.7508</td>\n",
       "      <td>-79.9660</td>\n",
       "      <td>sc</td>\n",
       "      <td>s</td>\n",
       "    </tr>\n",
       "    <tr>\n",
       "      <th>255956</th>\n",
       "      <td>7048573260</td>\n",
       "      <td>https://pittsburgh.craigslist.org/apa/d/pittsb...</td>\n",
       "      <td>pittsburgh</td>\n",
       "      <td>https://pittsburgh.craigslist.org</td>\n",
       "      <td>750</td>\n",
       "      <td>apartment</td>\n",
       "      <td>658</td>\n",
       "      <td>2</td>\n",
       "      <td>1.0</td>\n",
       "      <td>1</td>\n",
       "      <td>...</td>\n",
       "      <td>0</td>\n",
       "      <td>0</td>\n",
       "      <td>laundry in bldg</td>\n",
       "      <td>off-street parking</td>\n",
       "      <td>https://images.craigslist.org/00505_djz9FwRrUq...</td>\n",
       "      <td>The Alden South Hills Apartment Homes 5492 You...</td>\n",
       "      <td>40.3407</td>\n",
       "      <td>-79.9809</td>\n",
       "      <td>pa</td>\n",
       "      <td>n</td>\n",
       "    </tr>\n",
       "    <tr>\n",
       "      <th>383494</th>\n",
       "      <td>7036159725</td>\n",
       "      <td>https://palmsprings.craigslist.org/apa/d/palm-...</td>\n",
       "      <td>palm springs</td>\n",
       "      <td>https://palmsprings.craigslist.org</td>\n",
       "      <td>1485</td>\n",
       "      <td>apartment</td>\n",
       "      <td>710</td>\n",
       "      <td>1</td>\n",
       "      <td>1.0</td>\n",
       "      <td>1</td>\n",
       "      <td>...</td>\n",
       "      <td>0</td>\n",
       "      <td>0</td>\n",
       "      <td>w/d in unit</td>\n",
       "      <td>carport</td>\n",
       "      <td>https://images.craigslist.org/01212_gX59noHASG...</td>\n",
       "      <td>Call Now -  show contact info  x 107OR Text 10...</td>\n",
       "      <td>33.8426</td>\n",
       "      <td>-116.5430</td>\n",
       "      <td>ca</td>\n",
       "      <td>w</td>\n",
       "    </tr>\n",
       "    <tr>\n",
       "      <th>322515</th>\n",
       "      <td>7048447222</td>\n",
       "      <td>https://danville.craigslist.org/apa/d/fieldale...</td>\n",
       "      <td>danville</td>\n",
       "      <td>https://danville.craigslist.org</td>\n",
       "      <td>450</td>\n",
       "      <td>apartment</td>\n",
       "      <td>800</td>\n",
       "      <td>2</td>\n",
       "      <td>1.0</td>\n",
       "      <td>0</td>\n",
       "      <td>...</td>\n",
       "      <td>0</td>\n",
       "      <td>0</td>\n",
       "      <td>laundry in bldg</td>\n",
       "      <td>off-street parking</td>\n",
       "      <td>https://images.craigslist.org/00A0A_hvVgYzkM5T...</td>\n",
       "      <td>2BR / 1Ba available now   no smoking  off-stre...</td>\n",
       "      <td>36.6997</td>\n",
       "      <td>-79.9260</td>\n",
       "      <td>va</td>\n",
       "      <td>s</td>\n",
       "    </tr>\n",
       "  </tbody>\n",
       "</table>\n",
       "<p>5 rows × 23 columns</p>\n",
       "</div>"
      ],
      "text/plain": [
       "                id                                                url  \\\n",
       "243286  7049427287  https://eugene.craigslist.org/apa/d/eugene-pla...   \n",
       "263110  7042055352  https://charleston.craigslist.org/apa/d/charle...   \n",
       "255956  7048573260  https://pittsburgh.craigslist.org/apa/d/pittsb...   \n",
       "383494  7036159725  https://palmsprings.craigslist.org/apa/d/palm-...   \n",
       "322515  7048447222  https://danville.craigslist.org/apa/d/fieldale...   \n",
       "\n",
       "              region                          region_url  price       type  \\\n",
       "243286        eugene       https://eugene.craigslist.org      0  apartment   \n",
       "263110    charleston   https://charleston.craigslist.org   1400      condo   \n",
       "255956    pittsburgh   https://pittsburgh.craigslist.org    750  apartment   \n",
       "383494  palm springs  https://palmsprings.craigslist.org   1485  apartment   \n",
       "322515      danville     https://danville.craigslist.org    450  apartment   \n",
       "\n",
       "        sqfeet  beds  baths  cats_allowed  ...  electric_vehicle_charge  \\\n",
       "243286     864     2    1.0             1  ...                        0   \n",
       "263110    1140     2    2.0             1  ...                        0   \n",
       "255956     658     2    1.0             1  ...                        0   \n",
       "383494     710     1    1.0             1  ...                        0   \n",
       "322515     800     2    1.0             0  ...                        0   \n",
       "\n",
       "        comes_furnished  laundry_options     parking_options  \\\n",
       "243286                0      w/d in unit             carport   \n",
       "263110                0      w/d in unit  off-street parking   \n",
       "255956                0  laundry in bldg  off-street parking   \n",
       "383494                0      w/d in unit             carport   \n",
       "322515                0  laundry in bldg  off-street parking   \n",
       "\n",
       "                                                image_url  \\\n",
       "243286  https://images.craigslist.org/00B0B_iOt9v048p5...   \n",
       "263110  https://images.craigslist.org/00M0M_6hq5hpadCU...   \n",
       "255956  https://images.craigslist.org/00505_djz9FwRrUq...   \n",
       "383494  https://images.craigslist.org/01212_gX59noHASG...   \n",
       "322515  https://images.craigslist.org/00A0A_hvVgYzkM5T...   \n",
       "\n",
       "                                              description      lat      long  \\\n",
       "243286  Valley River Court is a great community, with ...  44.0891 -123.1060   \n",
       "263110  Spacious Condo!!! Move in this weekend! 2bdrm/...  32.7508  -79.9660   \n",
       "255956  The Alden South Hills Apartment Homes 5492 You...  40.3407  -79.9809   \n",
       "383494  Call Now -  show contact info  x 107OR Text 10...  33.8426 -116.5430   \n",
       "322515  2BR / 1Ba available now   no smoking  off-stre...  36.6997  -79.9260   \n",
       "\n",
       "       state  reg  \n",
       "243286    or    w  \n",
       "263110    sc    s  \n",
       "255956    pa    n  \n",
       "383494    ca    w  \n",
       "322515    va    s  \n",
       "\n",
       "[5 rows x 23 columns]"
      ]
     },
     "execution_count": 9,
     "metadata": {},
     "output_type": "execute_result"
    }
   ],
   "source": [
    "data_raw.head()"
   ]
  },
  {
   "cell_type": "code",
   "execution_count": 10,
   "metadata": {},
   "outputs": [
    {
     "data": {
      "text/html": [
       "<div>\n",
       "<style scoped>\n",
       "    .dataframe tbody tr th:only-of-type {\n",
       "        vertical-align: middle;\n",
       "    }\n",
       "\n",
       "    .dataframe tbody tr th {\n",
       "        vertical-align: top;\n",
       "    }\n",
       "\n",
       "    .dataframe thead th {\n",
       "        text-align: right;\n",
       "    }\n",
       "</style>\n",
       "<table border=\"1\" class=\"dataframe\">\n",
       "  <thead>\n",
       "    <tr style=\"text-align: right;\">\n",
       "      <th></th>\n",
       "      <th>id</th>\n",
       "      <th>url</th>\n",
       "      <th>region</th>\n",
       "      <th>region_url</th>\n",
       "      <th>price</th>\n",
       "      <th>type</th>\n",
       "      <th>sqfeet</th>\n",
       "      <th>beds</th>\n",
       "      <th>baths</th>\n",
       "      <th>cats_allowed</th>\n",
       "      <th>...</th>\n",
       "      <th>electric_vehicle_charge</th>\n",
       "      <th>comes_furnished</th>\n",
       "      <th>laundry_options</th>\n",
       "      <th>parking_options</th>\n",
       "      <th>image_url</th>\n",
       "      <th>description</th>\n",
       "      <th>lat</th>\n",
       "      <th>long</th>\n",
       "      <th>state</th>\n",
       "      <th>reg</th>\n",
       "    </tr>\n",
       "  </thead>\n",
       "  <tbody>\n",
       "    <tr>\n",
       "      <th>255477</th>\n",
       "      <td>7050824719</td>\n",
       "      <td>https://pittsburgh.craigslist.org/apa/d/mckees...</td>\n",
       "      <td>pittsburgh</td>\n",
       "      <td>https://pittsburgh.craigslist.org</td>\n",
       "      <td>580</td>\n",
       "      <td>apartment</td>\n",
       "      <td>675</td>\n",
       "      <td>1</td>\n",
       "      <td>1.0</td>\n",
       "      <td>0</td>\n",
       "      <td>...</td>\n",
       "      <td>0</td>\n",
       "      <td>0</td>\n",
       "      <td>laundry in bldg</td>\n",
       "      <td>off-street parking</td>\n",
       "      <td>https://images.craigslist.org/00I0I_52W2f3O34S...</td>\n",
       "      <td>You will love this OVER-SIZED one bedroom apar...</td>\n",
       "      <td>40.3478</td>\n",
       "      <td>-79.8642</td>\n",
       "      <td>pa</td>\n",
       "      <td>n</td>\n",
       "    </tr>\n",
       "    <tr>\n",
       "      <th>13542</th>\n",
       "      <td>7045160181</td>\n",
       "      <td>https://ventura.craigslist.org/apa/d/camarillo...</td>\n",
       "      <td>ventura county</td>\n",
       "      <td>https://ventura.craigslist.org</td>\n",
       "      <td>2355</td>\n",
       "      <td>apartment</td>\n",
       "      <td>932</td>\n",
       "      <td>2</td>\n",
       "      <td>2.0</td>\n",
       "      <td>1</td>\n",
       "      <td>...</td>\n",
       "      <td>0</td>\n",
       "      <td>0</td>\n",
       "      <td>w/d in unit</td>\n",
       "      <td>carport</td>\n",
       "      <td>https://images.craigslist.org/00M0M_jOil1FSSX3...</td>\n",
       "      <td>We believe elevating where you live is about b...</td>\n",
       "      <td>34.2306</td>\n",
       "      <td>-119.0000</td>\n",
       "      <td>ca</td>\n",
       "      <td>w</td>\n",
       "    </tr>\n",
       "    <tr>\n",
       "      <th>147620</th>\n",
       "      <td>7050895672</td>\n",
       "      <td>https://detroit.craigslist.org/wyn/apa/d/winds...</td>\n",
       "      <td>detroit metro</td>\n",
       "      <td>https://detroit.craigslist.org</td>\n",
       "      <td>1805</td>\n",
       "      <td>apartment</td>\n",
       "      <td>1350</td>\n",
       "      <td>2</td>\n",
       "      <td>3.0</td>\n",
       "      <td>1</td>\n",
       "      <td>...</td>\n",
       "      <td>0</td>\n",
       "      <td>0</td>\n",
       "      <td>w/d in unit</td>\n",
       "      <td>off-street parking</td>\n",
       "      <td>https://images.craigslist.org/00A0A_3dEE36FDZ9...</td>\n",
       "      <td>Are you looking for the perfect apartment home...</td>\n",
       "      <td>42.3242</td>\n",
       "      <td>-83.0564</td>\n",
       "      <td>mi</td>\n",
       "      <td>w</td>\n",
       "    </tr>\n",
       "    <tr>\n",
       "      <th>16940</th>\n",
       "      <td>7041516482</td>\n",
       "      <td>https://boulder.craigslist.org/apa/d/lafayette...</td>\n",
       "      <td>boulder</td>\n",
       "      <td>https://boulder.craigslist.org</td>\n",
       "      <td>1660</td>\n",
       "      <td>apartment</td>\n",
       "      <td>1040</td>\n",
       "      <td>2</td>\n",
       "      <td>2.0</td>\n",
       "      <td>1</td>\n",
       "      <td>...</td>\n",
       "      <td>0</td>\n",
       "      <td>0</td>\n",
       "      <td>w/d in unit</td>\n",
       "      <td>NaN</td>\n",
       "      <td>https://images.craigslist.org/01212_dVNOhx7MKg...</td>\n",
       "      <td>The Ultimate Living Space  CALL:  show contact...</td>\n",
       "      <td>39.9754</td>\n",
       "      <td>-105.0870</td>\n",
       "      <td>co</td>\n",
       "      <td>w</td>\n",
       "    </tr>\n",
       "    <tr>\n",
       "      <th>206847</th>\n",
       "      <td>7040377390</td>\n",
       "      <td>https://lascruces.craigslist.org/apa/d/las-cru...</td>\n",
       "      <td>las cruces</td>\n",
       "      <td>https://lascruces.craigslist.org</td>\n",
       "      <td>515</td>\n",
       "      <td>apartment</td>\n",
       "      <td>560</td>\n",
       "      <td>1</td>\n",
       "      <td>1.0</td>\n",
       "      <td>1</td>\n",
       "      <td>...</td>\n",
       "      <td>0</td>\n",
       "      <td>0</td>\n",
       "      <td>no laundry on site</td>\n",
       "      <td>NaN</td>\n",
       "      <td>https://images.craigslist.org/00T0T_aq5LeuQ2NB...</td>\n",
       "      <td>CUTE ONE BED ONE BATH APARTMENT IN 4 PLEX CLOS...</td>\n",
       "      <td>32.3050</td>\n",
       "      <td>-106.7820</td>\n",
       "      <td>nm</td>\n",
       "      <td>w</td>\n",
       "    </tr>\n",
       "  </tbody>\n",
       "</table>\n",
       "<p>5 rows × 23 columns</p>\n",
       "</div>"
      ],
      "text/plain": [
       "                id                                                url  \\\n",
       "255477  7050824719  https://pittsburgh.craigslist.org/apa/d/mckees...   \n",
       "13542   7045160181  https://ventura.craigslist.org/apa/d/camarillo...   \n",
       "147620  7050895672  https://detroit.craigslist.org/wyn/apa/d/winds...   \n",
       "16940   7041516482  https://boulder.craigslist.org/apa/d/lafayette...   \n",
       "206847  7040377390  https://lascruces.craigslist.org/apa/d/las-cru...   \n",
       "\n",
       "                region                         region_url  price       type  \\\n",
       "255477      pittsburgh  https://pittsburgh.craigslist.org    580  apartment   \n",
       "13542   ventura county     https://ventura.craigslist.org   2355  apartment   \n",
       "147620   detroit metro     https://detroit.craigslist.org   1805  apartment   \n",
       "16940          boulder     https://boulder.craigslist.org   1660  apartment   \n",
       "206847      las cruces   https://lascruces.craigslist.org    515  apartment   \n",
       "\n",
       "        sqfeet  beds  baths  cats_allowed  ...  electric_vehicle_charge  \\\n",
       "255477     675     1    1.0             0  ...                        0   \n",
       "13542      932     2    2.0             1  ...                        0   \n",
       "147620    1350     2    3.0             1  ...                        0   \n",
       "16940     1040     2    2.0             1  ...                        0   \n",
       "206847     560     1    1.0             1  ...                        0   \n",
       "\n",
       "        comes_furnished     laundry_options     parking_options  \\\n",
       "255477                0     laundry in bldg  off-street parking   \n",
       "13542                 0         w/d in unit             carport   \n",
       "147620                0         w/d in unit  off-street parking   \n",
       "16940                 0         w/d in unit                 NaN   \n",
       "206847                0  no laundry on site                 NaN   \n",
       "\n",
       "                                                image_url  \\\n",
       "255477  https://images.craigslist.org/00I0I_52W2f3O34S...   \n",
       "13542   https://images.craigslist.org/00M0M_jOil1FSSX3...   \n",
       "147620  https://images.craigslist.org/00A0A_3dEE36FDZ9...   \n",
       "16940   https://images.craigslist.org/01212_dVNOhx7MKg...   \n",
       "206847  https://images.craigslist.org/00T0T_aq5LeuQ2NB...   \n",
       "\n",
       "                                              description      lat      long  \\\n",
       "255477  You will love this OVER-SIZED one bedroom apar...  40.3478  -79.8642   \n",
       "13542   We believe elevating where you live is about b...  34.2306 -119.0000   \n",
       "147620  Are you looking for the perfect apartment home...  42.3242  -83.0564   \n",
       "16940   The Ultimate Living Space  CALL:  show contact...  39.9754 -105.0870   \n",
       "206847  CUTE ONE BED ONE BATH APARTMENT IN 4 PLEX CLOS...  32.3050 -106.7820   \n",
       "\n",
       "       state  reg  \n",
       "255477    pa    n  \n",
       "13542     ca    w  \n",
       "147620    mi    w  \n",
       "16940     co    w  \n",
       "206847    nm    w  \n",
       "\n",
       "[5 rows x 23 columns]"
      ]
     },
     "execution_count": 10,
     "metadata": {},
     "output_type": "execute_result"
    }
   ],
   "source": [
    "data_raw.tail()"
   ]
  },
  {
   "cell_type": "code",
   "execution_count": 11,
   "metadata": {},
   "outputs": [
    {
     "name": "stdout",
     "output_type": "stream",
     "text": [
      "<class 'pandas.core.frame.DataFrame'>\n",
      "Int64Index: 200000 entries, 243286 to 206847\n",
      "Data columns (total 23 columns):\n",
      " #   Column                   Non-Null Count   Dtype  \n",
      "---  ------                   --------------   -----  \n",
      " 0   id                       200000 non-null  int64  \n",
      " 1   url                      200000 non-null  object \n",
      " 2   region                   200000 non-null  object \n",
      " 3   region_url               200000 non-null  object \n",
      " 4   price                    200000 non-null  int64  \n",
      " 5   type                     200000 non-null  object \n",
      " 6   sqfeet                   200000 non-null  int64  \n",
      " 7   beds                     200000 non-null  int64  \n",
      " 8   baths                    200000 non-null  float64\n",
      " 9   cats_allowed             200000 non-null  int64  \n",
      " 10  dogs_allowed             200000 non-null  int64  \n",
      " 11  smoking_allowed          200000 non-null  int64  \n",
      " 12  wheelchair_access        200000 non-null  int64  \n",
      " 13  electric_vehicle_charge  200000 non-null  int64  \n",
      " 14  comes_furnished          200000 non-null  int64  \n",
      " 15  laundry_options          159024 non-null  object \n",
      " 16  parking_options          126835 non-null  object \n",
      " 17  image_url                200000 non-null  object \n",
      " 18  description              199999 non-null  object \n",
      " 19  lat                      199012 non-null  float64\n",
      " 20  long                     199012 non-null  float64\n",
      " 21  state                    200000 non-null  object \n",
      " 22  reg                      200000 non-null  object \n",
      "dtypes: float64(3), int64(10), object(10)\n",
      "memory usage: 36.6+ MB\n"
     ]
    }
   ],
   "source": [
    "data_raw.info()"
   ]
  },
  {
   "cell_type": "markdown",
   "metadata": {},
   "source": [
    "2. Визуализация данных"
   ]
  },
  {
   "cell_type": "code",
   "execution_count": 12,
   "metadata": {},
   "outputs": [],
   "source": [
    "np.random.seed(42)\n",
    "random_subset = np.random.choice(np.arange(data_raw.shape[0]), size=1000, replace=False)"
   ]
  },
  {
   "cell_type": "code",
   "execution_count": 13,
   "metadata": {},
   "outputs": [],
   "source": [
    "# sns.pairplot(data_raw.iloc[random_subset], hue='type', diag_kind='hist')\n",
    "# plt.legend()\n",
    "# pass"
   ]
  },
  {
   "cell_type": "code",
   "execution_count": 14,
   "metadata": {},
   "outputs": [
    {
     "data": {
      "text/html": [
       "<div>\n",
       "<style scoped>\n",
       "    .dataframe tbody tr th:only-of-type {\n",
       "        vertical-align: middle;\n",
       "    }\n",
       "\n",
       "    .dataframe tbody tr th {\n",
       "        vertical-align: top;\n",
       "    }\n",
       "\n",
       "    .dataframe thead th {\n",
       "        text-align: right;\n",
       "    }\n",
       "</style>\n",
       "<table border=\"1\" class=\"dataframe\">\n",
       "  <thead>\n",
       "    <tr style=\"text-align: right;\">\n",
       "      <th></th>\n",
       "      <th>id</th>\n",
       "      <th>price</th>\n",
       "      <th>sqfeet</th>\n",
       "      <th>beds</th>\n",
       "      <th>baths</th>\n",
       "      <th>cats_allowed</th>\n",
       "      <th>dogs_allowed</th>\n",
       "      <th>smoking_allowed</th>\n",
       "      <th>wheelchair_access</th>\n",
       "      <th>electric_vehicle_charge</th>\n",
       "      <th>comes_furnished</th>\n",
       "      <th>lat</th>\n",
       "      <th>long</th>\n",
       "    </tr>\n",
       "  </thead>\n",
       "  <tbody>\n",
       "    <tr>\n",
       "      <th>id</th>\n",
       "      <td>1.000000</td>\n",
       "      <td>0.000609</td>\n",
       "      <td>-0.006980</td>\n",
       "      <td>-0.015833</td>\n",
       "      <td>-0.034728</td>\n",
       "      <td>0.043931</td>\n",
       "      <td>0.035330</td>\n",
       "      <td>0.016010</td>\n",
       "      <td>0.004967</td>\n",
       "      <td>0.018395</td>\n",
       "      <td>-0.028798</td>\n",
       "      <td>-0.000675</td>\n",
       "      <td>-0.081998</td>\n",
       "    </tr>\n",
       "    <tr>\n",
       "      <th>price</th>\n",
       "      <td>0.000609</td>\n",
       "      <td>1.000000</td>\n",
       "      <td>0.000316</td>\n",
       "      <td>0.001311</td>\n",
       "      <td>0.010007</td>\n",
       "      <td>-0.001756</td>\n",
       "      <td>-0.002835</td>\n",
       "      <td>-0.000952</td>\n",
       "      <td>0.007000</td>\n",
       "      <td>0.000581</td>\n",
       "      <td>0.002126</td>\n",
       "      <td>-0.002313</td>\n",
       "      <td>-0.000701</td>\n",
       "    </tr>\n",
       "    <tr>\n",
       "      <th>sqfeet</th>\n",
       "      <td>-0.006980</td>\n",
       "      <td>0.000316</td>\n",
       "      <td>1.000000</td>\n",
       "      <td>0.002506</td>\n",
       "      <td>0.007434</td>\n",
       "      <td>-0.003139</td>\n",
       "      <td>-0.002306</td>\n",
       "      <td>-0.002852</td>\n",
       "      <td>-0.001256</td>\n",
       "      <td>-0.000169</td>\n",
       "      <td>0.001440</td>\n",
       "      <td>0.008868</td>\n",
       "      <td>-0.005216</td>\n",
       "    </tr>\n",
       "    <tr>\n",
       "      <th>beds</th>\n",
       "      <td>-0.015833</td>\n",
       "      <td>0.001311</td>\n",
       "      <td>0.002506</td>\n",
       "      <td>1.000000</td>\n",
       "      <td>0.483926</td>\n",
       "      <td>-0.018731</td>\n",
       "      <td>-0.010676</td>\n",
       "      <td>0.001180</td>\n",
       "      <td>-0.009513</td>\n",
       "      <td>-0.003387</td>\n",
       "      <td>0.001506</td>\n",
       "      <td>0.006466</td>\n",
       "      <td>0.006977</td>\n",
       "    </tr>\n",
       "    <tr>\n",
       "      <th>baths</th>\n",
       "      <td>-0.034728</td>\n",
       "      <td>0.010007</td>\n",
       "      <td>0.007434</td>\n",
       "      <td>0.483926</td>\n",
       "      <td>1.000000</td>\n",
       "      <td>-0.018265</td>\n",
       "      <td>0.018586</td>\n",
       "      <td>-0.014280</td>\n",
       "      <td>0.019201</td>\n",
       "      <td>0.010856</td>\n",
       "      <td>0.036937</td>\n",
       "      <td>-0.074656</td>\n",
       "      <td>-0.002554</td>\n",
       "    </tr>\n",
       "    <tr>\n",
       "      <th>cats_allowed</th>\n",
       "      <td>0.043931</td>\n",
       "      <td>-0.001756</td>\n",
       "      <td>-0.003139</td>\n",
       "      <td>-0.018731</td>\n",
       "      <td>-0.018265</td>\n",
       "      <td>1.000000</td>\n",
       "      <td>0.886461</td>\n",
       "      <td>0.017362</td>\n",
       "      <td>0.121075</td>\n",
       "      <td>0.049898</td>\n",
       "      <td>-0.059195</td>\n",
       "      <td>-0.015399</td>\n",
       "      <td>0.035165</td>\n",
       "    </tr>\n",
       "    <tr>\n",
       "      <th>dogs_allowed</th>\n",
       "      <td>0.035330</td>\n",
       "      <td>-0.002835</td>\n",
       "      <td>-0.002306</td>\n",
       "      <td>-0.010676</td>\n",
       "      <td>0.018586</td>\n",
       "      <td>0.886461</td>\n",
       "      <td>1.000000</td>\n",
       "      <td>0.013616</td>\n",
       "      <td>0.128810</td>\n",
       "      <td>0.049695</td>\n",
       "      <td>-0.037601</td>\n",
       "      <td>-0.056745</td>\n",
       "      <td>0.019164</td>\n",
       "    </tr>\n",
       "    <tr>\n",
       "      <th>smoking_allowed</th>\n",
       "      <td>0.016010</td>\n",
       "      <td>-0.000952</td>\n",
       "      <td>-0.002852</td>\n",
       "      <td>0.001180</td>\n",
       "      <td>-0.014280</td>\n",
       "      <td>0.017362</td>\n",
       "      <td>0.013616</td>\n",
       "      <td>1.000000</td>\n",
       "      <td>-0.224721</td>\n",
       "      <td>-0.096372</td>\n",
       "      <td>-0.160264</td>\n",
       "      <td>-0.176579</td>\n",
       "      <td>0.160140</td>\n",
       "    </tr>\n",
       "    <tr>\n",
       "      <th>wheelchair_access</th>\n",
       "      <td>0.004967</td>\n",
       "      <td>0.007000</td>\n",
       "      <td>-0.001256</td>\n",
       "      <td>-0.009513</td>\n",
       "      <td>0.019201</td>\n",
       "      <td>0.121075</td>\n",
       "      <td>0.128810</td>\n",
       "      <td>-0.224721</td>\n",
       "      <td>1.000000</td>\n",
       "      <td>0.191306</td>\n",
       "      <td>0.193705</td>\n",
       "      <td>0.000613</td>\n",
       "      <td>-0.023988</td>\n",
       "    </tr>\n",
       "    <tr>\n",
       "      <th>electric_vehicle_charge</th>\n",
       "      <td>0.018395</td>\n",
       "      <td>0.000581</td>\n",
       "      <td>-0.000169</td>\n",
       "      <td>-0.003387</td>\n",
       "      <td>0.010856</td>\n",
       "      <td>0.049898</td>\n",
       "      <td>0.049695</td>\n",
       "      <td>-0.096372</td>\n",
       "      <td>0.191306</td>\n",
       "      <td>1.000000</td>\n",
       "      <td>0.070175</td>\n",
       "      <td>0.026732</td>\n",
       "      <td>-0.060704</td>\n",
       "    </tr>\n",
       "    <tr>\n",
       "      <th>comes_furnished</th>\n",
       "      <td>-0.028798</td>\n",
       "      <td>0.002126</td>\n",
       "      <td>0.001440</td>\n",
       "      <td>0.001506</td>\n",
       "      <td>0.036937</td>\n",
       "      <td>-0.059195</td>\n",
       "      <td>-0.037601</td>\n",
       "      <td>-0.160264</td>\n",
       "      <td>0.193705</td>\n",
       "      <td>0.070175</td>\n",
       "      <td>1.000000</td>\n",
       "      <td>0.004658</td>\n",
       "      <td>-0.026950</td>\n",
       "    </tr>\n",
       "    <tr>\n",
       "      <th>lat</th>\n",
       "      <td>-0.000675</td>\n",
       "      <td>-0.002313</td>\n",
       "      <td>0.008868</td>\n",
       "      <td>0.006466</td>\n",
       "      <td>-0.074656</td>\n",
       "      <td>-0.015399</td>\n",
       "      <td>-0.056745</td>\n",
       "      <td>-0.176579</td>\n",
       "      <td>0.000613</td>\n",
       "      <td>0.026732</td>\n",
       "      <td>0.004658</td>\n",
       "      <td>1.000000</td>\n",
       "      <td>-0.126471</td>\n",
       "    </tr>\n",
       "    <tr>\n",
       "      <th>long</th>\n",
       "      <td>-0.081998</td>\n",
       "      <td>-0.000701</td>\n",
       "      <td>-0.005216</td>\n",
       "      <td>0.006977</td>\n",
       "      <td>-0.002554</td>\n",
       "      <td>0.035165</td>\n",
       "      <td>0.019164</td>\n",
       "      <td>0.160140</td>\n",
       "      <td>-0.023988</td>\n",
       "      <td>-0.060704</td>\n",
       "      <td>-0.026950</td>\n",
       "      <td>-0.126471</td>\n",
       "      <td>1.000000</td>\n",
       "    </tr>\n",
       "  </tbody>\n",
       "</table>\n",
       "</div>"
      ],
      "text/plain": [
       "                               id     price    sqfeet      beds     baths  \\\n",
       "id                       1.000000  0.000609 -0.006980 -0.015833 -0.034728   \n",
       "price                    0.000609  1.000000  0.000316  0.001311  0.010007   \n",
       "sqfeet                  -0.006980  0.000316  1.000000  0.002506  0.007434   \n",
       "beds                    -0.015833  0.001311  0.002506  1.000000  0.483926   \n",
       "baths                   -0.034728  0.010007  0.007434  0.483926  1.000000   \n",
       "cats_allowed             0.043931 -0.001756 -0.003139 -0.018731 -0.018265   \n",
       "dogs_allowed             0.035330 -0.002835 -0.002306 -0.010676  0.018586   \n",
       "smoking_allowed          0.016010 -0.000952 -0.002852  0.001180 -0.014280   \n",
       "wheelchair_access        0.004967  0.007000 -0.001256 -0.009513  0.019201   \n",
       "electric_vehicle_charge  0.018395  0.000581 -0.000169 -0.003387  0.010856   \n",
       "comes_furnished         -0.028798  0.002126  0.001440  0.001506  0.036937   \n",
       "lat                     -0.000675 -0.002313  0.008868  0.006466 -0.074656   \n",
       "long                    -0.081998 -0.000701 -0.005216  0.006977 -0.002554   \n",
       "\n",
       "                         cats_allowed  dogs_allowed  smoking_allowed  \\\n",
       "id                           0.043931      0.035330         0.016010   \n",
       "price                       -0.001756     -0.002835        -0.000952   \n",
       "sqfeet                      -0.003139     -0.002306        -0.002852   \n",
       "beds                        -0.018731     -0.010676         0.001180   \n",
       "baths                       -0.018265      0.018586        -0.014280   \n",
       "cats_allowed                 1.000000      0.886461         0.017362   \n",
       "dogs_allowed                 0.886461      1.000000         0.013616   \n",
       "smoking_allowed              0.017362      0.013616         1.000000   \n",
       "wheelchair_access            0.121075      0.128810        -0.224721   \n",
       "electric_vehicle_charge      0.049898      0.049695        -0.096372   \n",
       "comes_furnished             -0.059195     -0.037601        -0.160264   \n",
       "lat                         -0.015399     -0.056745        -0.176579   \n",
       "long                         0.035165      0.019164         0.160140   \n",
       "\n",
       "                         wheelchair_access  electric_vehicle_charge  \\\n",
       "id                                0.004967                 0.018395   \n",
       "price                             0.007000                 0.000581   \n",
       "sqfeet                           -0.001256                -0.000169   \n",
       "beds                             -0.009513                -0.003387   \n",
       "baths                             0.019201                 0.010856   \n",
       "cats_allowed                      0.121075                 0.049898   \n",
       "dogs_allowed                      0.128810                 0.049695   \n",
       "smoking_allowed                  -0.224721                -0.096372   \n",
       "wheelchair_access                 1.000000                 0.191306   \n",
       "electric_vehicle_charge           0.191306                 1.000000   \n",
       "comes_furnished                   0.193705                 0.070175   \n",
       "lat                               0.000613                 0.026732   \n",
       "long                             -0.023988                -0.060704   \n",
       "\n",
       "                         comes_furnished       lat      long  \n",
       "id                             -0.028798 -0.000675 -0.081998  \n",
       "price                           0.002126 -0.002313 -0.000701  \n",
       "sqfeet                          0.001440  0.008868 -0.005216  \n",
       "beds                            0.001506  0.006466  0.006977  \n",
       "baths                           0.036937 -0.074656 -0.002554  \n",
       "cats_allowed                   -0.059195 -0.015399  0.035165  \n",
       "dogs_allowed                   -0.037601 -0.056745  0.019164  \n",
       "smoking_allowed                -0.160264 -0.176579  0.160140  \n",
       "wheelchair_access               0.193705  0.000613 -0.023988  \n",
       "electric_vehicle_charge         0.070175  0.026732 -0.060704  \n",
       "comes_furnished                 1.000000  0.004658 -0.026950  \n",
       "lat                             0.004658  1.000000 -0.126471  \n",
       "long                           -0.026950 -0.126471  1.000000  "
      ]
     },
     "execution_count": 14,
     "metadata": {},
     "output_type": "execute_result"
    }
   ],
   "source": [
    "corr_mat = data_raw.corr()\n",
    "corr_mat"
   ]
  },
  {
   "cell_type": "code",
   "execution_count": 15,
   "metadata": {},
   "outputs": [
    {
     "data": {
      "text/plain": [
       "<AxesSubplot:>"
      ]
     },
     "execution_count": 15,
     "metadata": {},
     "output_type": "execute_result"
    },
    {
     "data": {
      "image/png": "[encoded data removed]",
      "text/plain": [
       "<Figure size 720x576 with 2 Axes>"
      ]
     },
     "metadata": {
      "needs_background": "light"
     },
     "output_type": "display_data"
    }
   ],
   "source": [
    "plt.figure(figsize = (10,8))\n",
    "sns.heatmap(data_raw.corr(),annot=True,fmt='.2f',vmin=-1, vmax=1,cmap=\"coolwarm\")"
   ]
  },
  {
   "cell_type": "markdown",
   "metadata": {},
   "source": [
    "Разрешение на собак и разрешение на котов сильно коррелируют."
   ]
  },
  {
   "cell_type": "code",
   "execution_count": 16,
   "metadata": {},
   "outputs": [
    {
     "data": {
      "text/plain": [
       "<AxesSubplot:xlabel='reg', ylabel='count'>"
      ]
     },
     "execution_count": 16,
     "metadata": {},
     "output_type": "execute_result"
    },
    {
     "data": {
      "image/png": "[encoded data removed]",
      "text/plain": [
       "<Figure size 1440x720 with 1 Axes>"
      ]
     },
     "metadata": {
      "needs_background": "light"
     },
     "output_type": "display_data"
    }
   ],
   "source": [
    "plt.figure(figsize=(20,10))\n",
    "sns.countplot(x='reg',data = data_raw)"
   ]
  },
  {
   "cell_type": "markdown",
   "metadata": {},
   "source": [
    "3. Обработка данных"
   ]
  },
  {
   "cell_type": "code",
   "execution_count": 17,
   "metadata": {},
   "outputs": [
    {
     "data": {
      "text/plain": [
       "id                             0\n",
       "url                            0\n",
       "region                         0\n",
       "region_url                     0\n",
       "price                          0\n",
       "type                           0\n",
       "sqfeet                         0\n",
       "beds                           0\n",
       "baths                          0\n",
       "cats_allowed                   0\n",
       "dogs_allowed                   0\n",
       "smoking_allowed                0\n",
       "wheelchair_access              0\n",
       "electric_vehicle_charge        0\n",
       "comes_furnished                0\n",
       "laundry_options            40976\n",
       "parking_options            73165\n",
       "image_url                      0\n",
       "description                    1\n",
       "lat                          988\n",
       "long                         988\n",
       "state                          0\n",
       "reg                            0\n",
       "dtype: int64"
      ]
     },
     "execution_count": 17,
     "metadata": {},
     "output_type": "execute_result"
    }
   ],
   "source": [
    "data_raw.isna().sum()"
   ]
  },
  {
   "cell_type": "code",
   "execution_count": 18,
   "metadata": {},
   "outputs": [
    {
     "data": {
      "text/html": [
       "<div>\n",
       "<style scoped>\n",
       "    .dataframe tbody tr th:only-of-type {\n",
       "        vertical-align: middle;\n",
       "    }\n",
       "\n",
       "    .dataframe tbody tr th {\n",
       "        vertical-align: top;\n",
       "    }\n",
       "\n",
       "    .dataframe thead th {\n",
       "        text-align: right;\n",
       "    }\n",
       "</style>\n",
       "<table border=\"1\" class=\"dataframe\">\n",
       "  <thead>\n",
       "    <tr style=\"text-align: right;\">\n",
       "      <th></th>\n",
       "      <th>id</th>\n",
       "      <th>price</th>\n",
       "      <th>sqfeet</th>\n",
       "      <th>beds</th>\n",
       "      <th>baths</th>\n",
       "      <th>cats_allowed</th>\n",
       "      <th>dogs_allowed</th>\n",
       "      <th>smoking_allowed</th>\n",
       "      <th>wheelchair_access</th>\n",
       "      <th>electric_vehicle_charge</th>\n",
       "      <th>comes_furnished</th>\n",
       "      <th>lat</th>\n",
       "      <th>long</th>\n",
       "    </tr>\n",
       "  </thead>\n",
       "  <tbody>\n",
       "    <tr>\n",
       "      <th>count</th>\n",
       "      <td>2.000000e+05</td>\n",
       "      <td>2.000000e+05</td>\n",
       "      <td>2.000000e+05</td>\n",
       "      <td>200000.000000</td>\n",
       "      <td>200000.000000</td>\n",
       "      <td>200000.000000</td>\n",
       "      <td>200000.000000</td>\n",
       "      <td>200000.000000</td>\n",
       "      <td>200000.000000</td>\n",
       "      <td>200000.000000</td>\n",
       "      <td>200000.000000</td>\n",
       "      <td>199012.000000</td>\n",
       "      <td>199012.000000</td>\n",
       "    </tr>\n",
       "    <tr>\n",
       "      <th>mean</th>\n",
       "      <td>7.040959e+09</td>\n",
       "      <td>1.639911e+03</td>\n",
       "      <td>1.096154e+03</td>\n",
       "      <td>1.909165</td>\n",
       "      <td>1.480708</td>\n",
       "      <td>0.726450</td>\n",
       "      <td>0.706925</td>\n",
       "      <td>0.732520</td>\n",
       "      <td>0.081750</td>\n",
       "      <td>0.012935</td>\n",
       "      <td>0.047465</td>\n",
       "      <td>37.234348</td>\n",
       "      <td>-92.712978</td>\n",
       "    </tr>\n",
       "    <tr>\n",
       "      <th>std</th>\n",
       "      <td>8.815531e+06</td>\n",
       "      <td>7.504185e+04</td>\n",
       "      <td>2.622214e+04</td>\n",
       "      <td>4.220119</td>\n",
       "      <td>0.639585</td>\n",
       "      <td>0.445782</td>\n",
       "      <td>0.455174</td>\n",
       "      <td>0.442646</td>\n",
       "      <td>0.273984</td>\n",
       "      <td>0.112994</td>\n",
       "      <td>0.212632</td>\n",
       "      <td>5.564066</td>\n",
       "      <td>16.595768</td>\n",
       "    </tr>\n",
       "    <tr>\n",
       "      <th>min</th>\n",
       "      <td>7.004048e+09</td>\n",
       "      <td>0.000000e+00</td>\n",
       "      <td>0.000000e+00</td>\n",
       "      <td>0.000000</td>\n",
       "      <td>0.000000</td>\n",
       "      <td>0.000000</td>\n",
       "      <td>0.000000</td>\n",
       "      <td>0.000000</td>\n",
       "      <td>0.000000</td>\n",
       "      <td>0.000000</td>\n",
       "      <td>0.000000</td>\n",
       "      <td>-43.533300</td>\n",
       "      <td>-159.524000</td>\n",
       "    </tr>\n",
       "    <tr>\n",
       "      <th>25%</th>\n",
       "      <td>7.035965e+09</td>\n",
       "      <td>8.060000e+02</td>\n",
       "      <td>7.500000e+02</td>\n",
       "      <td>1.000000</td>\n",
       "      <td>1.000000</td>\n",
       "      <td>0.000000</td>\n",
       "      <td>0.000000</td>\n",
       "      <td>0.000000</td>\n",
       "      <td>0.000000</td>\n",
       "      <td>0.000000</td>\n",
       "      <td>0.000000</td>\n",
       "      <td>33.449075</td>\n",
       "      <td>-100.784000</td>\n",
       "    </tr>\n",
       "    <tr>\n",
       "      <th>50%</th>\n",
       "      <td>7.043217e+09</td>\n",
       "      <td>1.035000e+03</td>\n",
       "      <td>9.490000e+02</td>\n",
       "      <td>2.000000</td>\n",
       "      <td>1.000000</td>\n",
       "      <td>1.000000</td>\n",
       "      <td>1.000000</td>\n",
       "      <td>1.000000</td>\n",
       "      <td>0.000000</td>\n",
       "      <td>0.000000</td>\n",
       "      <td>0.000000</td>\n",
       "      <td>37.643000</td>\n",
       "      <td>-87.805600</td>\n",
       "    </tr>\n",
       "    <tr>\n",
       "      <th>75%</th>\n",
       "      <td>7.048413e+09</td>\n",
       "      <td>1.395000e+03</td>\n",
       "      <td>1.150000e+03</td>\n",
       "      <td>2.000000</td>\n",
       "      <td>2.000000</td>\n",
       "      <td>1.000000</td>\n",
       "      <td>1.000000</td>\n",
       "      <td>1.000000</td>\n",
       "      <td>0.000000</td>\n",
       "      <td>0.000000</td>\n",
       "      <td>0.000000</td>\n",
       "      <td>41.151325</td>\n",
       "      <td>-81.179600</td>\n",
       "    </tr>\n",
       "    <tr>\n",
       "      <th>max</th>\n",
       "      <td>7.051289e+09</td>\n",
       "      <td>2.170191e+07</td>\n",
       "      <td>8.388607e+06</td>\n",
       "      <td>1100.000000</td>\n",
       "      <td>75.000000</td>\n",
       "      <td>1.000000</td>\n",
       "      <td>1.000000</td>\n",
       "      <td>1.000000</td>\n",
       "      <td>1.000000</td>\n",
       "      <td>1.000000</td>\n",
       "      <td>1.000000</td>\n",
       "      <td>102.036000</td>\n",
       "      <td>172.633000</td>\n",
       "    </tr>\n",
       "  </tbody>\n",
       "</table>\n",
       "</div>"
      ],
      "text/plain": [
       "                 id         price        sqfeet           beds          baths  \\\n",
       "count  2.000000e+05  2.000000e+05  2.000000e+05  200000.000000  200000.000000   \n",
       "mean   7.040959e+09  1.639911e+03  1.096154e+03       1.909165       1.480708   \n",
       "std    8.815531e+06  7.504185e+04  2.622214e+04       4.220119       0.639585   \n",
       "min    7.004048e+09  0.000000e+00  0.000000e+00       0.000000       0.000000   \n",
       "25%    7.035965e+09  8.060000e+02  7.500000e+02       1.000000       1.000000   \n",
       "50%    7.043217e+09  1.035000e+03  9.490000e+02       2.000000       1.000000   \n",
       "75%    7.048413e+09  1.395000e+03  1.150000e+03       2.000000       2.000000   \n",
       "max    7.051289e+09  2.170191e+07  8.388607e+06    1100.000000      75.000000   \n",
       "\n",
       "        cats_allowed   dogs_allowed  smoking_allowed  wheelchair_access  \\\n",
       "count  200000.000000  200000.000000    200000.000000      200000.000000   \n",
       "mean        0.726450       0.706925         0.732520           0.081750   \n",
       "std         0.445782       0.455174         0.442646           0.273984   \n",
       "min         0.000000       0.000000         0.000000           0.000000   \n",
       "25%         0.000000       0.000000         0.000000           0.000000   \n",
       "50%         1.000000       1.000000         1.000000           0.000000   \n",
       "75%         1.000000       1.000000         1.000000           0.000000   \n",
       "max         1.000000       1.000000         1.000000           1.000000   \n",
       "\n",
       "       electric_vehicle_charge  comes_furnished            lat           long  \n",
       "count            200000.000000    200000.000000  199012.000000  199012.000000  \n",
       "mean                  0.012935         0.047465      37.234348     -92.712978  \n",
       "std                   0.112994         0.212632       5.564066      16.595768  \n",
       "min                   0.000000         0.000000     -43.533300    -159.524000  \n",
       "25%                   0.000000         0.000000      33.449075    -100.784000  \n",
       "50%                   0.000000         0.000000      37.643000     -87.805600  \n",
       "75%                   0.000000         0.000000      41.151325     -81.179600  \n",
       "max                   1.000000         1.000000     102.036000     172.633000  "
      ]
     },
     "execution_count": 18,
     "metadata": {},
     "output_type": "execute_result"
    }
   ],
   "source": [
    "data_raw.describe()"
   ]
  },
  {
   "cell_type": "code",
   "execution_count": 19,
   "metadata": {},
   "outputs": [],
   "source": [
    "columns_to_remove = ['id', 'url', 'region', 'region_url', 'image_url', 'cats_allowed', 'description', 'parking_options', 'lat', 'long', 'state']\n",
    "data = data_raw.drop(columns_to_remove, axis = 1)"
   ]
  },
  {
   "cell_type": "code",
   "execution_count": 20,
   "metadata": {},
   "outputs": [
    {
     "data": {
      "text/plain": [
       "price                          0\n",
       "type                           0\n",
       "sqfeet                         0\n",
       "beds                           0\n",
       "baths                          0\n",
       "dogs_allowed                   0\n",
       "smoking_allowed                0\n",
       "wheelchair_access              0\n",
       "electric_vehicle_charge        0\n",
       "comes_furnished                0\n",
       "laundry_options            40976\n",
       "reg                            0\n",
       "dtype: int64"
      ]
     },
     "execution_count": 20,
     "metadata": {},
     "output_type": "execute_result"
    }
   ],
   "source": [
    "data.isna().sum()"
   ]
  },
  {
   "cell_type": "code",
   "execution_count": 21,
   "metadata": {},
   "outputs": [],
   "source": [
    "data = data.dropna()"
   ]
  },
  {
   "cell_type": "code",
   "execution_count": 22,
   "metadata": {},
   "outputs": [
    {
     "data": {
      "text/plain": [
       "price                      0\n",
       "type                       0\n",
       "sqfeet                     0\n",
       "beds                       0\n",
       "baths                      0\n",
       "dogs_allowed               0\n",
       "smoking_allowed            0\n",
       "wheelchair_access          0\n",
       "electric_vehicle_charge    0\n",
       "comes_furnished            0\n",
       "laundry_options            0\n",
       "reg                        0\n",
       "dtype: int64"
      ]
     },
     "execution_count": 22,
     "metadata": {},
     "output_type": "execute_result"
    }
   ],
   "source": [
    "data.isna().sum()"
   ]
  },
  {
   "cell_type": "code",
   "execution_count": 23,
   "metadata": {},
   "outputs": [
    {
     "data": {
      "text/plain": [
       "(159024, 12)"
      ]
     },
     "execution_count": 23,
     "metadata": {},
     "output_type": "execute_result"
    }
   ],
   "source": [
    "data.shape"
   ]
  },
  {
   "cell_type": "code",
   "execution_count": 24,
   "metadata": {},
   "outputs": [
    {
     "name": "stdout",
     "output_type": "stream",
     "text": [
      "<class 'pandas.core.frame.DataFrame'>\n",
      "Int64Index: 159024 entries, 243286 to 206847\n",
      "Data columns (total 12 columns):\n",
      " #   Column                   Non-Null Count   Dtype  \n",
      "---  ------                   --------------   -----  \n",
      " 0   price                    159024 non-null  int64  \n",
      " 1   type                     159024 non-null  object \n",
      " 2   sqfeet                   159024 non-null  int64  \n",
      " 3   beds                     159024 non-null  int64  \n",
      " 4   baths                    159024 non-null  float64\n",
      " 5   dogs_allowed             159024 non-null  int64  \n",
      " 6   smoking_allowed          159024 non-null  int64  \n",
      " 7   wheelchair_access        159024 non-null  int64  \n",
      " 8   electric_vehicle_charge  159024 non-null  int64  \n",
      " 9   comes_furnished          159024 non-null  int64  \n",
      " 10  laundry_options          159024 non-null  object \n",
      " 11  reg                      159024 non-null  object \n",
      "dtypes: float64(1), int64(8), object(3)\n",
      "memory usage: 15.8+ MB\n"
     ]
    }
   ],
   "source": [
    "data.info()"
   ]
  },
  {
   "cell_type": "code",
   "execution_count": 25,
   "metadata": {},
   "outputs": [],
   "source": [
    "categorical_indexes = [1, 5, 6, 7, 8, 9, 10, 11]\n",
    "data.iloc[:,categorical_indexes] = data.iloc[:,categorical_indexes].astype('category')"
   ]
  },
  {
   "cell_type": "code",
   "execution_count": 26,
   "metadata": {},
   "outputs": [
    {
     "name": "stdout",
     "output_type": "stream",
     "text": [
      "<class 'pandas.core.frame.DataFrame'>\n",
      "Int64Index: 159024 entries, 243286 to 206847\n",
      "Data columns (total 12 columns):\n",
      " #   Column                   Non-Null Count   Dtype   \n",
      "---  ------                   --------------   -----   \n",
      " 0   price                    159024 non-null  int64   \n",
      " 1   type                     159024 non-null  category\n",
      " 2   sqfeet                   159024 non-null  int64   \n",
      " 3   beds                     159024 non-null  int64   \n",
      " 4   baths                    159024 non-null  float64 \n",
      " 5   dogs_allowed             159024 non-null  category\n",
      " 6   smoking_allowed          159024 non-null  category\n",
      " 7   wheelchair_access        159024 non-null  category\n",
      " 8   electric_vehicle_charge  159024 non-null  category\n",
      " 9   comes_furnished          159024 non-null  category\n",
      " 10  laundry_options          159024 non-null  category\n",
      " 11  reg                      159024 non-null  category\n",
      "dtypes: category(8), float64(1), int64(3)\n",
      "memory usage: 7.3 MB\n"
     ]
    }
   ],
   "source": [
    "data.info()"
   ]
  },
  {
   "cell_type": "code",
   "execution_count": 27,
   "metadata": {},
   "outputs": [],
   "source": [
    "data[\"baths\"] = data[\"baths\"].astype(np.int64)"
   ]
  },
  {
   "cell_type": "code",
   "execution_count": 28,
   "metadata": {},
   "outputs": [
    {
     "name": "stdout",
     "output_type": "stream",
     "text": [
      "<class 'pandas.core.frame.DataFrame'>\n",
      "Int64Index: 159024 entries, 243286 to 206847\n",
      "Data columns (total 12 columns):\n",
      " #   Column                   Non-Null Count   Dtype   \n",
      "---  ------                   --------------   -----   \n",
      " 0   price                    159024 non-null  int64   \n",
      " 1   type                     159024 non-null  category\n",
      " 2   sqfeet                   159024 non-null  int64   \n",
      " 3   beds                     159024 non-null  int64   \n",
      " 4   baths                    159024 non-null  int64   \n",
      " 5   dogs_allowed             159024 non-null  category\n",
      " 6   smoking_allowed          159024 non-null  category\n",
      " 7   wheelchair_access        159024 non-null  category\n",
      " 8   electric_vehicle_charge  159024 non-null  category\n",
      " 9   comes_furnished          159024 non-null  category\n",
      " 10  laundry_options          159024 non-null  category\n",
      " 11  reg                      159024 non-null  category\n",
      "dtypes: category(8), int64(4)\n",
      "memory usage: 7.3 MB\n"
     ]
    }
   ],
   "source": [
    "data.info()"
   ]
  },
  {
   "cell_type": "code",
   "execution_count": 29,
   "metadata": {},
   "outputs": [
    {
     "data": {
      "text/html": [
       "<div>\n",
       "<style scoped>\n",
       "    .dataframe tbody tr th:only-of-type {\n",
       "        vertical-align: middle;\n",
       "    }\n",
       "\n",
       "    .dataframe tbody tr th {\n",
       "        vertical-align: top;\n",
       "    }\n",
       "\n",
       "    .dataframe thead th {\n",
       "        text-align: right;\n",
       "    }\n",
       "</style>\n",
       "<table border=\"1\" class=\"dataframe\">\n",
       "  <thead>\n",
       "    <tr style=\"text-align: right;\">\n",
       "      <th></th>\n",
       "      <th>price</th>\n",
       "      <th>sqfeet</th>\n",
       "      <th>beds</th>\n",
       "      <th>baths</th>\n",
       "    </tr>\n",
       "  </thead>\n",
       "  <tbody>\n",
       "    <tr>\n",
       "      <th>0.005</th>\n",
       "      <td>1.00</td>\n",
       "      <td>270.00</td>\n",
       "      <td>0.0</td>\n",
       "      <td>0.0</td>\n",
       "    </tr>\n",
       "    <tr>\n",
       "      <th>0.010</th>\n",
       "      <td>300.00</td>\n",
       "      <td>320.00</td>\n",
       "      <td>0.0</td>\n",
       "      <td>1.0</td>\n",
       "    </tr>\n",
       "    <tr>\n",
       "      <th>0.050</th>\n",
       "      <td>575.00</td>\n",
       "      <td>522.00</td>\n",
       "      <td>1.0</td>\n",
       "      <td>1.0</td>\n",
       "    </tr>\n",
       "    <tr>\n",
       "      <th>0.100</th>\n",
       "      <td>659.00</td>\n",
       "      <td>610.00</td>\n",
       "      <td>1.0</td>\n",
       "      <td>1.0</td>\n",
       "    </tr>\n",
       "    <tr>\n",
       "      <th>0.500</th>\n",
       "      <td>1050.00</td>\n",
       "      <td>942.00</td>\n",
       "      <td>2.0</td>\n",
       "      <td>1.0</td>\n",
       "    </tr>\n",
       "    <tr>\n",
       "      <th>0.900</th>\n",
       "      <td>1870.00</td>\n",
       "      <td>1400.00</td>\n",
       "      <td>3.0</td>\n",
       "      <td>2.0</td>\n",
       "    </tr>\n",
       "    <tr>\n",
       "      <th>0.950</th>\n",
       "      <td>2299.00</td>\n",
       "      <td>1629.85</td>\n",
       "      <td>3.0</td>\n",
       "      <td>2.0</td>\n",
       "    </tr>\n",
       "    <tr>\n",
       "      <th>0.990</th>\n",
       "      <td>3495.00</td>\n",
       "      <td>2407.77</td>\n",
       "      <td>4.0</td>\n",
       "      <td>3.0</td>\n",
       "    </tr>\n",
       "    <tr>\n",
       "      <th>0.995</th>\n",
       "      <td>4091.77</td>\n",
       "      <td>2800.00</td>\n",
       "      <td>5.0</td>\n",
       "      <td>3.0</td>\n",
       "    </tr>\n",
       "  </tbody>\n",
       "</table>\n",
       "</div>"
      ],
      "text/plain": [
       "         price   sqfeet  beds  baths\n",
       "0.005     1.00   270.00   0.0    0.0\n",
       "0.010   300.00   320.00   0.0    1.0\n",
       "0.050   575.00   522.00   1.0    1.0\n",
       "0.100   659.00   610.00   1.0    1.0\n",
       "0.500  1050.00   942.00   2.0    1.0\n",
       "0.900  1870.00  1400.00   3.0    2.0\n",
       "0.950  2299.00  1629.85   3.0    2.0\n",
       "0.990  3495.00  2407.77   4.0    3.0\n",
       "0.995  4091.77  2800.00   5.0    3.0"
      ]
     },
     "execution_count": 29,
     "metadata": {},
     "output_type": "execute_result"
    }
   ],
   "source": [
    "data.quantile([0.005,.01,.05,.1,.5,.9,.95,.99,.995])"
   ]
  },
  {
   "cell_type": "code",
   "execution_count": 30,
   "metadata": {},
   "outputs": [
    {
     "data": {
      "text/plain": [
       "(156231, 12)"
      ]
     },
     "execution_count": 30,
     "metadata": {},
     "output_type": "execute_result"
    }
   ],
   "source": [
    "rows_to_drop = data[\n",
    "    (data[\"price\"] < data[\"price\"].quantile(0.005)) | (data[\"price\"] > data[\"price\"].quantile(0.995)) | \n",
    "    (data[\"sqfeet\"]  < data[\"sqfeet\"].quantile(0.005)) | (data[\"sqfeet\"]  > data[\"sqfeet\"].quantile(0.995))].index\n",
    "\n",
    "data = data.drop(rows_to_drop)\n",
    "data.shape"
   ]
  },
  {
   "cell_type": "code",
   "execution_count": 31,
   "metadata": {},
   "outputs": [
    {
     "data": {
      "text/html": [
       "<div>\n",
       "<style scoped>\n",
       "    .dataframe tbody tr th:only-of-type {\n",
       "        vertical-align: middle;\n",
       "    }\n",
       "\n",
       "    .dataframe tbody tr th {\n",
       "        vertical-align: top;\n",
       "    }\n",
       "\n",
       "    .dataframe thead th {\n",
       "        text-align: right;\n",
       "    }\n",
       "</style>\n",
       "<table border=\"1\" class=\"dataframe\">\n",
       "  <thead>\n",
       "    <tr style=\"text-align: right;\">\n",
       "      <th></th>\n",
       "      <th>price</th>\n",
       "      <th>sqfeet</th>\n",
       "      <th>beds</th>\n",
       "      <th>baths</th>\n",
       "    </tr>\n",
       "  </thead>\n",
       "  <tbody>\n",
       "    <tr>\n",
       "      <th>count</th>\n",
       "      <td>156231.000000</td>\n",
       "      <td>156231.000000</td>\n",
       "      <td>156231.000000</td>\n",
       "      <td>156231.000000</td>\n",
       "    </tr>\n",
       "    <tr>\n",
       "      <th>mean</th>\n",
       "      <td>1178.619679</td>\n",
       "      <td>978.617925</td>\n",
       "      <td>1.884908</td>\n",
       "      <td>1.413772</td>\n",
       "    </tr>\n",
       "    <tr>\n",
       "      <th>std</th>\n",
       "      <td>531.446908</td>\n",
       "      <td>340.533829</td>\n",
       "      <td>4.018691</td>\n",
       "      <td>0.611116</td>\n",
       "    </tr>\n",
       "    <tr>\n",
       "      <th>min</th>\n",
       "      <td>1.000000</td>\n",
       "      <td>270.000000</td>\n",
       "      <td>0.000000</td>\n",
       "      <td>0.000000</td>\n",
       "    </tr>\n",
       "    <tr>\n",
       "      <th>25%</th>\n",
       "      <td>817.000000</td>\n",
       "      <td>750.000000</td>\n",
       "      <td>1.000000</td>\n",
       "      <td>1.000000</td>\n",
       "    </tr>\n",
       "    <tr>\n",
       "      <th>50%</th>\n",
       "      <td>1049.000000</td>\n",
       "      <td>940.000000</td>\n",
       "      <td>2.000000</td>\n",
       "      <td>1.000000</td>\n",
       "    </tr>\n",
       "    <tr>\n",
       "      <th>75%</th>\n",
       "      <td>1400.000000</td>\n",
       "      <td>1132.000000</td>\n",
       "      <td>2.000000</td>\n",
       "      <td>2.000000</td>\n",
       "    </tr>\n",
       "    <tr>\n",
       "      <th>max</th>\n",
       "      <td>4090.000000</td>\n",
       "      <td>2800.000000</td>\n",
       "      <td>1100.000000</td>\n",
       "      <td>75.000000</td>\n",
       "    </tr>\n",
       "  </tbody>\n",
       "</table>\n",
       "</div>"
      ],
      "text/plain": [
       "               price         sqfeet           beds          baths\n",
       "count  156231.000000  156231.000000  156231.000000  156231.000000\n",
       "mean     1178.619679     978.617925       1.884908       1.413772\n",
       "std       531.446908     340.533829       4.018691       0.611116\n",
       "min         1.000000     270.000000       0.000000       0.000000\n",
       "25%       817.000000     750.000000       1.000000       1.000000\n",
       "50%      1049.000000     940.000000       2.000000       1.000000\n",
       "75%      1400.000000    1132.000000       2.000000       2.000000\n",
       "max      4090.000000    2800.000000    1100.000000      75.000000"
      ]
     },
     "execution_count": 31,
     "metadata": {},
     "output_type": "execute_result"
    }
   ],
   "source": [
    "data.describe()"
   ]
  },
  {
   "cell_type": "code",
   "execution_count": 32,
   "metadata": {},
   "outputs": [
    {
     "data": {
      "text/plain": [
       "['s', 'n', 'w', 'm', 'o']\n",
       "Categories (5, object): ['s', 'n', 'w', 'm', 'o']"
      ]
     },
     "execution_count": 32,
     "metadata": {},
     "output_type": "execute_result"
    }
   ],
   "source": [
    "data['reg'].unique()"
   ]
  },
  {
   "cell_type": "code",
   "execution_count": 33,
   "metadata": {},
   "outputs": [
    {
     "data": {
      "text/plain": [
       "array([ 2,  1,  0,  3,  4,  5, 75], dtype=int64)"
      ]
     },
     "execution_count": 33,
     "metadata": {},
     "output_type": "execute_result"
    }
   ],
   "source": [
    "data['baths'].unique()"
   ]
  },
  {
   "cell_type": "code",
   "execution_count": 34,
   "metadata": {},
   "outputs": [
    {
     "name": "stdout",
     "output_type": "stream",
     "text": [
      "<class 'pandas.core.frame.DataFrame'>\n",
      "Int64Index: 156231 entries, 263110 to 206847\n",
      "Data columns (total 12 columns):\n",
      " #   Column                   Non-Null Count   Dtype   \n",
      "---  ------                   --------------   -----   \n",
      " 0   price                    156231 non-null  int64   \n",
      " 1   type                     156231 non-null  category\n",
      " 2   sqfeet                   156231 non-null  int64   \n",
      " 3   beds                     156231 non-null  int64   \n",
      " 4   baths                    156231 non-null  int64   \n",
      " 5   dogs_allowed             156231 non-null  category\n",
      " 6   smoking_allowed          156231 non-null  category\n",
      " 7   wheelchair_access        156231 non-null  category\n",
      " 8   electric_vehicle_charge  156231 non-null  category\n",
      " 9   comes_furnished          156231 non-null  category\n",
      " 10  laundry_options          156231 non-null  category\n",
      " 11  reg                      156231 non-null  category\n",
      "dtypes: category(8), int64(4)\n",
      "memory usage: 7.2 MB\n"
     ]
    }
   ],
   "source": [
    "data.info()"
   ]
  },
  {
   "cell_type": "code",
   "execution_count": 35,
   "metadata": {},
   "outputs": [],
   "source": [
    "y = data['reg']"
   ]
  },
  {
   "cell_type": "code",
   "execution_count": 36,
   "metadata": {},
   "outputs": [],
   "source": [
    "numerical_columns = [c for c in data.columns if data[c].dtype.name != 'category']\n",
    "categorical_columns = [c for c in data.columns if data[c].dtype.name == 'category']\n",
    "categorical_columns.remove('reg')\n",
    "data_describe = data.describe(include = ['category'])"
   ]
  },
  {
   "cell_type": "code",
   "execution_count": 37,
   "metadata": {},
   "outputs": [
    {
     "data": {
      "text/plain": [
       "['price', 'sqfeet', 'beds', 'baths']"
      ]
     },
     "execution_count": 37,
     "metadata": {},
     "output_type": "execute_result"
    }
   ],
   "source": [
    "numerical_columns"
   ]
  },
  {
   "cell_type": "code",
   "execution_count": 38,
   "metadata": {},
   "outputs": [
    {
     "data": {
      "text/plain": [
       "['type',\n",
       " 'dogs_allowed',\n",
       " 'smoking_allowed',\n",
       " 'wheelchair_access',\n",
       " 'electric_vehicle_charge',\n",
       " 'comes_furnished',\n",
       " 'laundry_options']"
      ]
     },
     "execution_count": 38,
     "metadata": {},
     "output_type": "execute_result"
    }
   ],
   "source": [
    "categorical_columns"
   ]
  },
  {
   "cell_type": "code",
   "execution_count": 39,
   "metadata": {},
   "outputs": [
    {
     "data": {
      "text/plain": [
       "['dogs_allowed',\n",
       " 'smoking_allowed',\n",
       " 'wheelchair_access',\n",
       " 'electric_vehicle_charge',\n",
       " 'comes_furnished']"
      ]
     },
     "execution_count": 39,
     "metadata": {},
     "output_type": "execute_result"
    }
   ],
   "source": [
    "binary_columns = [c for c in categorical_columns if data_describe[c]['unique'] == 2]\n",
    "binary_columns"
   ]
  },
  {
   "cell_type": "code",
   "execution_count": 40,
   "metadata": {},
   "outputs": [
    {
     "data": {
      "text/plain": [
       "['type', 'laundry_options']"
      ]
     },
     "execution_count": 40,
     "metadata": {},
     "output_type": "execute_result"
    }
   ],
   "source": [
    "nonbinary_columns = [c for c in categorical_columns if data_describe[c]['unique'] > 2]\n",
    "nonbinary_columns"
   ]
  },
  {
   "cell_type": "code",
   "execution_count": 41,
   "metadata": {},
   "outputs": [
    {
     "data": {
      "text/html": [
       "<div>\n",
       "<style scoped>\n",
       "    .dataframe tbody tr th:only-of-type {\n",
       "        vertical-align: middle;\n",
       "    }\n",
       "\n",
       "    .dataframe tbody tr th {\n",
       "        vertical-align: top;\n",
       "    }\n",
       "\n",
       "    .dataframe thead th {\n",
       "        text-align: right;\n",
       "    }\n",
       "</style>\n",
       "<table border=\"1\" class=\"dataframe\">\n",
       "  <thead>\n",
       "    <tr style=\"text-align: right;\">\n",
       "      <th></th>\n",
       "      <th>type</th>\n",
       "      <th>laundry_options</th>\n",
       "    </tr>\n",
       "  </thead>\n",
       "  <tbody>\n",
       "    <tr>\n",
       "      <th>263110</th>\n",
       "      <td>condo</td>\n",
       "      <td>w/d in unit</td>\n",
       "    </tr>\n",
       "    <tr>\n",
       "      <th>255956</th>\n",
       "      <td>apartment</td>\n",
       "      <td>laundry in bldg</td>\n",
       "    </tr>\n",
       "    <tr>\n",
       "      <th>383494</th>\n",
       "      <td>apartment</td>\n",
       "      <td>w/d in unit</td>\n",
       "    </tr>\n",
       "    <tr>\n",
       "      <th>322515</th>\n",
       "      <td>apartment</td>\n",
       "      <td>laundry in bldg</td>\n",
       "    </tr>\n",
       "    <tr>\n",
       "      <th>306971</th>\n",
       "      <td>apartment</td>\n",
       "      <td>w/d in unit</td>\n",
       "    </tr>\n",
       "    <tr>\n",
       "      <th>...</th>\n",
       "      <td>...</td>\n",
       "      <td>...</td>\n",
       "    </tr>\n",
       "    <tr>\n",
       "      <th>255477</th>\n",
       "      <td>apartment</td>\n",
       "      <td>laundry in bldg</td>\n",
       "    </tr>\n",
       "    <tr>\n",
       "      <th>13542</th>\n",
       "      <td>apartment</td>\n",
       "      <td>w/d in unit</td>\n",
       "    </tr>\n",
       "    <tr>\n",
       "      <th>147620</th>\n",
       "      <td>apartment</td>\n",
       "      <td>w/d in unit</td>\n",
       "    </tr>\n",
       "    <tr>\n",
       "      <th>16940</th>\n",
       "      <td>apartment</td>\n",
       "      <td>w/d in unit</td>\n",
       "    </tr>\n",
       "    <tr>\n",
       "      <th>206847</th>\n",
       "      <td>apartment</td>\n",
       "      <td>no laundry on site</td>\n",
       "    </tr>\n",
       "  </tbody>\n",
       "</table>\n",
       "<p>156231 rows × 2 columns</p>\n",
       "</div>"
      ],
      "text/plain": [
       "             type     laundry_options\n",
       "263110      condo         w/d in unit\n",
       "255956  apartment     laundry in bldg\n",
       "383494  apartment         w/d in unit\n",
       "322515  apartment     laundry in bldg\n",
       "306971  apartment         w/d in unit\n",
       "...           ...                 ...\n",
       "255477  apartment     laundry in bldg\n",
       "13542   apartment         w/d in unit\n",
       "147620  apartment         w/d in unit\n",
       "16940   apartment         w/d in unit\n",
       "206847  apartment  no laundry on site\n",
       "\n",
       "[156231 rows x 2 columns]"
      ]
     },
     "execution_count": 41,
     "metadata": {},
     "output_type": "execute_result"
    }
   ],
   "source": [
    "data[nonbinary_columns]"
   ]
  },
  {
   "cell_type": "code",
   "execution_count": 42,
   "metadata": {},
   "outputs": [
    {
     "data": {
      "text/html": [
       "<div>\n",
       "<style scoped>\n",
       "    .dataframe tbody tr th:only-of-type {\n",
       "        vertical-align: middle;\n",
       "    }\n",
       "\n",
       "    .dataframe tbody tr th {\n",
       "        vertical-align: top;\n",
       "    }\n",
       "\n",
       "    .dataframe thead th {\n",
       "        text-align: right;\n",
       "    }\n",
       "</style>\n",
       "<table border=\"1\" class=\"dataframe\">\n",
       "  <thead>\n",
       "    <tr style=\"text-align: right;\">\n",
       "      <th></th>\n",
       "      <th>apartment</th>\n",
       "      <th>condo</th>\n",
       "      <th>cottage/cabin</th>\n",
       "      <th>duplex</th>\n",
       "      <th>flat</th>\n",
       "      <th>house</th>\n",
       "      <th>in-law</th>\n",
       "      <th>land</th>\n",
       "      <th>loft</th>\n",
       "      <th>manufactured</th>\n",
       "      <th>townhouse</th>\n",
       "    </tr>\n",
       "  </thead>\n",
       "  <tbody>\n",
       "    <tr>\n",
       "      <th>263110</th>\n",
       "      <td>0</td>\n",
       "      <td>1</td>\n",
       "      <td>0</td>\n",
       "      <td>0</td>\n",
       "      <td>0</td>\n",
       "      <td>0</td>\n",
       "      <td>0</td>\n",
       "      <td>0</td>\n",
       "      <td>0</td>\n",
       "      <td>0</td>\n",
       "      <td>0</td>\n",
       "    </tr>\n",
       "    <tr>\n",
       "      <th>255956</th>\n",
       "      <td>1</td>\n",
       "      <td>0</td>\n",
       "      <td>0</td>\n",
       "      <td>0</td>\n",
       "      <td>0</td>\n",
       "      <td>0</td>\n",
       "      <td>0</td>\n",
       "      <td>0</td>\n",
       "      <td>0</td>\n",
       "      <td>0</td>\n",
       "      <td>0</td>\n",
       "    </tr>\n",
       "    <tr>\n",
       "      <th>383494</th>\n",
       "      <td>1</td>\n",
       "      <td>0</td>\n",
       "      <td>0</td>\n",
       "      <td>0</td>\n",
       "      <td>0</td>\n",
       "      <td>0</td>\n",
       "      <td>0</td>\n",
       "      <td>0</td>\n",
       "      <td>0</td>\n",
       "      <td>0</td>\n",
       "      <td>0</td>\n",
       "    </tr>\n",
       "    <tr>\n",
       "      <th>322515</th>\n",
       "      <td>1</td>\n",
       "      <td>0</td>\n",
       "      <td>0</td>\n",
       "      <td>0</td>\n",
       "      <td>0</td>\n",
       "      <td>0</td>\n",
       "      <td>0</td>\n",
       "      <td>0</td>\n",
       "      <td>0</td>\n",
       "      <td>0</td>\n",
       "      <td>0</td>\n",
       "    </tr>\n",
       "    <tr>\n",
       "      <th>306971</th>\n",
       "      <td>1</td>\n",
       "      <td>0</td>\n",
       "      <td>0</td>\n",
       "      <td>0</td>\n",
       "      <td>0</td>\n",
       "      <td>0</td>\n",
       "      <td>0</td>\n",
       "      <td>0</td>\n",
       "      <td>0</td>\n",
       "      <td>0</td>\n",
       "      <td>0</td>\n",
       "    </tr>\n",
       "  </tbody>\n",
       "</table>\n",
       "</div>"
      ],
      "text/plain": [
       "        apartment  condo  cottage/cabin  duplex  flat  house  in-law  land  \\\n",
       "263110          0      1              0       0     0      0       0     0   \n",
       "255956          1      0              0       0     0      0       0     0   \n",
       "383494          1      0              0       0     0      0       0     0   \n",
       "322515          1      0              0       0     0      0       0     0   \n",
       "306971          1      0              0       0     0      0       0     0   \n",
       "\n",
       "        loft  manufactured  townhouse  \n",
       "263110     0             0          0  \n",
       "255956     0             0          0  \n",
       "383494     0             0          0  \n",
       "322515     0             0          0  \n",
       "306971     0             0          0  "
      ]
     },
     "execution_count": 42,
     "metadata": {},
     "output_type": "execute_result"
    }
   ],
   "source": [
    "type_dummies = pd.get_dummies(data['type'])\n",
    "type_dummies.head()"
   ]
  },
  {
   "cell_type": "code",
   "execution_count": 43,
   "metadata": {},
   "outputs": [
    {
     "data": {
      "text/html": [
       "<div>\n",
       "<style scoped>\n",
       "    .dataframe tbody tr th:only-of-type {\n",
       "        vertical-align: middle;\n",
       "    }\n",
       "\n",
       "    .dataframe tbody tr th {\n",
       "        vertical-align: top;\n",
       "    }\n",
       "\n",
       "    .dataframe thead th {\n",
       "        text-align: right;\n",
       "    }\n",
       "</style>\n",
       "<table border=\"1\" class=\"dataframe\">\n",
       "  <thead>\n",
       "    <tr style=\"text-align: right;\">\n",
       "      <th></th>\n",
       "      <th>laundry in bldg</th>\n",
       "      <th>laundry on site</th>\n",
       "      <th>no laundry on site</th>\n",
       "      <th>w/d hookups</th>\n",
       "      <th>w/d in unit</th>\n",
       "    </tr>\n",
       "  </thead>\n",
       "  <tbody>\n",
       "    <tr>\n",
       "      <th>263110</th>\n",
       "      <td>0</td>\n",
       "      <td>0</td>\n",
       "      <td>0</td>\n",
       "      <td>0</td>\n",
       "      <td>1</td>\n",
       "    </tr>\n",
       "    <tr>\n",
       "      <th>255956</th>\n",
       "      <td>1</td>\n",
       "      <td>0</td>\n",
       "      <td>0</td>\n",
       "      <td>0</td>\n",
       "      <td>0</td>\n",
       "    </tr>\n",
       "    <tr>\n",
       "      <th>383494</th>\n",
       "      <td>0</td>\n",
       "      <td>0</td>\n",
       "      <td>0</td>\n",
       "      <td>0</td>\n",
       "      <td>1</td>\n",
       "    </tr>\n",
       "    <tr>\n",
       "      <th>322515</th>\n",
       "      <td>1</td>\n",
       "      <td>0</td>\n",
       "      <td>0</td>\n",
       "      <td>0</td>\n",
       "      <td>0</td>\n",
       "    </tr>\n",
       "    <tr>\n",
       "      <th>306971</th>\n",
       "      <td>0</td>\n",
       "      <td>0</td>\n",
       "      <td>0</td>\n",
       "      <td>0</td>\n",
       "      <td>1</td>\n",
       "    </tr>\n",
       "  </tbody>\n",
       "</table>\n",
       "</div>"
      ],
      "text/plain": [
       "        laundry in bldg  laundry on site  no laundry on site  w/d hookups  \\\n",
       "263110                0                0                   0            0   \n",
       "255956                1                0                   0            0   \n",
       "383494                0                0                   0            0   \n",
       "322515                1                0                   0            0   \n",
       "306971                0                0                   0            0   \n",
       "\n",
       "        w/d in unit  \n",
       "263110            1  \n",
       "255956            0  \n",
       "383494            1  \n",
       "322515            0  \n",
       "306971            1  "
      ]
     },
     "execution_count": 43,
     "metadata": {},
     "output_type": "execute_result"
    }
   ],
   "source": [
    "laundry_options_dummies = pd.get_dummies(data['laundry_options'])\n",
    "laundry_options_dummies.head()"
   ]
  },
  {
   "cell_type": "code",
   "execution_count": 44,
   "metadata": {},
   "outputs": [
    {
     "name": "stdout",
     "output_type": "stream",
     "text": [
      "<class 'pandas.core.frame.DataFrame'>\n",
      "Int64Index: 156231 entries, 263110 to 206847\n",
      "Data columns (total 16 columns):\n",
      " #   Column              Non-Null Count   Dtype\n",
      "---  ------              --------------   -----\n",
      " 0   apartment           156231 non-null  uint8\n",
      " 1   condo               156231 non-null  uint8\n",
      " 2   cottage/cabin       156231 non-null  uint8\n",
      " 3   duplex              156231 non-null  uint8\n",
      " 4   flat                156231 non-null  uint8\n",
      " 5   house               156231 non-null  uint8\n",
      " 6   in-law              156231 non-null  uint8\n",
      " 7   land                156231 non-null  uint8\n",
      " 8   loft                156231 non-null  uint8\n",
      " 9   manufactured        156231 non-null  uint8\n",
      " 10  townhouse           156231 non-null  uint8\n",
      " 11  laundry in bldg     156231 non-null  uint8\n",
      " 12  laundry on site     156231 non-null  uint8\n",
      " 13  no laundry on site  156231 non-null  uint8\n",
      " 14  w/d hookups         156231 non-null  uint8\n",
      " 15  w/d in unit         156231 non-null  uint8\n",
      "dtypes: uint8(16)\n",
      "memory usage: 3.6 MB\n"
     ]
    }
   ],
   "source": [
    "data_dummies = pd.concat((type_dummies, laundry_options_dummies), axis=1)\n",
    "data_dummies.info()"
   ]
  },
  {
   "cell_type": "code",
   "execution_count": 45,
   "metadata": {},
   "outputs": [
    {
     "name": "stdout",
     "output_type": "stream",
     "text": [
      "<class 'pandas.core.frame.DataFrame'>\n",
      "Int64Index: 156231 entries, 263110 to 206847\n",
      "Data columns (total 12 columns):\n",
      " #   Column                   Non-Null Count   Dtype   \n",
      "---  ------                   --------------   -----   \n",
      " 0   price                    156231 non-null  int64   \n",
      " 1   type                     156231 non-null  category\n",
      " 2   sqfeet                   156231 non-null  int64   \n",
      " 3   beds                     156231 non-null  int64   \n",
      " 4   baths                    156231 non-null  int64   \n",
      " 5   dogs_allowed             156231 non-null  category\n",
      " 6   smoking_allowed          156231 non-null  category\n",
      " 7   wheelchair_access        156231 non-null  category\n",
      " 8   electric_vehicle_charge  156231 non-null  category\n",
      " 9   comes_furnished          156231 non-null  category\n",
      " 10  laundry_options          156231 non-null  category\n",
      " 11  reg                      156231 non-null  category\n",
      "dtypes: category(8), int64(4)\n",
      "memory usage: 7.2 MB\n"
     ]
    }
   ],
   "source": [
    "data.info()"
   ]
  },
  {
   "cell_type": "code",
   "execution_count": 46,
   "metadata": {},
   "outputs": [
    {
     "data": {
      "text/html": [
       "<div>\n",
       "<style scoped>\n",
       "    .dataframe tbody tr th:only-of-type {\n",
       "        vertical-align: middle;\n",
       "    }\n",
       "\n",
       "    .dataframe tbody tr th {\n",
       "        vertical-align: top;\n",
       "    }\n",
       "\n",
       "    .dataframe thead th {\n",
       "        text-align: right;\n",
       "    }\n",
       "</style>\n",
       "<table border=\"1\" class=\"dataframe\">\n",
       "  <thead>\n",
       "    <tr style=\"text-align: right;\">\n",
       "      <th></th>\n",
       "      <th>price</th>\n",
       "      <th>sqfeet</th>\n",
       "      <th>beds</th>\n",
       "      <th>baths</th>\n",
       "    </tr>\n",
       "  </thead>\n",
       "  <tbody>\n",
       "    <tr>\n",
       "      <th>count</th>\n",
       "      <td>156231.000000</td>\n",
       "      <td>156231.000000</td>\n",
       "      <td>156231.000000</td>\n",
       "      <td>156231.000000</td>\n",
       "    </tr>\n",
       "    <tr>\n",
       "      <th>mean</th>\n",
       "      <td>1178.619679</td>\n",
       "      <td>978.617925</td>\n",
       "      <td>1.884908</td>\n",
       "      <td>1.413772</td>\n",
       "    </tr>\n",
       "    <tr>\n",
       "      <th>std</th>\n",
       "      <td>531.446908</td>\n",
       "      <td>340.533829</td>\n",
       "      <td>4.018691</td>\n",
       "      <td>0.611116</td>\n",
       "    </tr>\n",
       "    <tr>\n",
       "      <th>min</th>\n",
       "      <td>1.000000</td>\n",
       "      <td>270.000000</td>\n",
       "      <td>0.000000</td>\n",
       "      <td>0.000000</td>\n",
       "    </tr>\n",
       "    <tr>\n",
       "      <th>25%</th>\n",
       "      <td>817.000000</td>\n",
       "      <td>750.000000</td>\n",
       "      <td>1.000000</td>\n",
       "      <td>1.000000</td>\n",
       "    </tr>\n",
       "    <tr>\n",
       "      <th>50%</th>\n",
       "      <td>1049.000000</td>\n",
       "      <td>940.000000</td>\n",
       "      <td>2.000000</td>\n",
       "      <td>1.000000</td>\n",
       "    </tr>\n",
       "    <tr>\n",
       "      <th>75%</th>\n",
       "      <td>1400.000000</td>\n",
       "      <td>1132.000000</td>\n",
       "      <td>2.000000</td>\n",
       "      <td>2.000000</td>\n",
       "    </tr>\n",
       "    <tr>\n",
       "      <th>max</th>\n",
       "      <td>4090.000000</td>\n",
       "      <td>2800.000000</td>\n",
       "      <td>1100.000000</td>\n",
       "      <td>75.000000</td>\n",
       "    </tr>\n",
       "  </tbody>\n",
       "</table>\n",
       "</div>"
      ],
      "text/plain": [
       "               price         sqfeet           beds          baths\n",
       "count  156231.000000  156231.000000  156231.000000  156231.000000\n",
       "mean     1178.619679     978.617925       1.884908       1.413772\n",
       "std       531.446908     340.533829       4.018691       0.611116\n",
       "min         1.000000     270.000000       0.000000       0.000000\n",
       "25%       817.000000     750.000000       1.000000       1.000000\n",
       "50%      1049.000000     940.000000       2.000000       1.000000\n",
       "75%      1400.000000    1132.000000       2.000000       2.000000\n",
       "max      4090.000000    2800.000000    1100.000000      75.000000"
      ]
     },
     "execution_count": 46,
     "metadata": {},
     "output_type": "execute_result"
    }
   ],
   "source": [
    "data_numerical = data[numerical_columns]\n",
    "data_numerical.describe()"
   ]
  },
  {
   "cell_type": "code",
   "execution_count": 47,
   "metadata": {},
   "outputs": [],
   "source": [
    "data_numerical = (data_numerical - data_numerical.mean(axis = 0))/data_numerical.std(axis = 0)"
   ]
  },
  {
   "cell_type": "code",
   "execution_count": 48,
   "metadata": {},
   "outputs": [
    {
     "data": {
      "text/html": [
       "<div>\n",
       "<style scoped>\n",
       "    .dataframe tbody tr th:only-of-type {\n",
       "        vertical-align: middle;\n",
       "    }\n",
       "\n",
       "    .dataframe tbody tr th {\n",
       "        vertical-align: top;\n",
       "    }\n",
       "\n",
       "    .dataframe thead th {\n",
       "        text-align: right;\n",
       "    }\n",
       "</style>\n",
       "<table border=\"1\" class=\"dataframe\">\n",
       "  <thead>\n",
       "    <tr style=\"text-align: right;\">\n",
       "      <th></th>\n",
       "      <th>price</th>\n",
       "      <th>sqfeet</th>\n",
       "      <th>beds</th>\n",
       "      <th>baths</th>\n",
       "    </tr>\n",
       "  </thead>\n",
       "  <tbody>\n",
       "    <tr>\n",
       "      <th>count</th>\n",
       "      <td>1.562310e+05</td>\n",
       "      <td>1.562310e+05</td>\n",
       "      <td>1.562310e+05</td>\n",
       "      <td>1.562310e+05</td>\n",
       "    </tr>\n",
       "    <tr>\n",
       "      <th>mean</th>\n",
       "      <td>-9.765039e-17</td>\n",
       "      <td>1.388043e-16</td>\n",
       "      <td>4.225639e-16</td>\n",
       "      <td>2.188310e-15</td>\n",
       "    </tr>\n",
       "    <tr>\n",
       "      <th>std</th>\n",
       "      <td>1.000000e+00</td>\n",
       "      <td>1.000000e+00</td>\n",
       "      <td>1.000000e+00</td>\n",
       "      <td>1.000000e+00</td>\n",
       "    </tr>\n",
       "    <tr>\n",
       "      <th>min</th>\n",
       "      <td>-2.215875e+00</td>\n",
       "      <td>-2.080903e+00</td>\n",
       "      <td>-4.690352e-01</td>\n",
       "      <td>-2.313426e+00</td>\n",
       "    </tr>\n",
       "    <tr>\n",
       "      <th>25%</th>\n",
       "      <td>-6.804437e-01</td>\n",
       "      <td>-6.713516e-01</td>\n",
       "      <td>-2.201980e-01</td>\n",
       "      <td>-6.770757e-01</td>\n",
       "    </tr>\n",
       "    <tr>\n",
       "      <th>50%</th>\n",
       "      <td>-2.438996e-01</td>\n",
       "      <td>-1.134041e-01</td>\n",
       "      <td>2.863927e-02</td>\n",
       "      <td>-6.770757e-01</td>\n",
       "    </tr>\n",
       "    <tr>\n",
       "      <th>75%</th>\n",
       "      <td>4.165615e-01</td>\n",
       "      <td>4.504166e-01</td>\n",
       "      <td>2.863927e-02</td>\n",
       "      <td>9.592743e-01</td>\n",
       "    </tr>\n",
       "    <tr>\n",
       "      <th>max</th>\n",
       "      <td>5.478215e+00</td>\n",
       "      <td>5.348608e+00</td>\n",
       "      <td>2.732519e+02</td>\n",
       "      <td>1.204128e+02</td>\n",
       "    </tr>\n",
       "  </tbody>\n",
       "</table>\n",
       "</div>"
      ],
      "text/plain": [
       "              price        sqfeet          beds         baths\n",
       "count  1.562310e+05  1.562310e+05  1.562310e+05  1.562310e+05\n",
       "mean  -9.765039e-17  1.388043e-16  4.225639e-16  2.188310e-15\n",
       "std    1.000000e+00  1.000000e+00  1.000000e+00  1.000000e+00\n",
       "min   -2.215875e+00 -2.080903e+00 -4.690352e-01 -2.313426e+00\n",
       "25%   -6.804437e-01 -6.713516e-01 -2.201980e-01 -6.770757e-01\n",
       "50%   -2.438996e-01 -1.134041e-01  2.863927e-02 -6.770757e-01\n",
       "75%    4.165615e-01  4.504166e-01  2.863927e-02  9.592743e-01\n",
       "max    5.478215e+00  5.348608e+00  2.732519e+02  1.204128e+02"
      ]
     },
     "execution_count": 48,
     "metadata": {},
     "output_type": "execute_result"
    }
   ],
   "source": [
    "data_numerical.describe()"
   ]
  },
  {
   "cell_type": "code",
   "execution_count": 49,
   "metadata": {},
   "outputs": [
    {
     "name": "stdout",
     "output_type": "stream",
     "text": [
      "(156231, 25)\n"
     ]
    }
   ],
   "source": [
    "data = pd.concat((data_numerical, data_dummies, data[binary_columns]), axis = 1)\n",
    "print(data.shape)"
   ]
  },
  {
   "cell_type": "code",
   "execution_count": 50,
   "metadata": {},
   "outputs": [
    {
     "data": {
      "text/html": [
       "<div>\n",
       "<style scoped>\n",
       "    .dataframe tbody tr th:only-of-type {\n",
       "        vertical-align: middle;\n",
       "    }\n",
       "\n",
       "    .dataframe tbody tr th {\n",
       "        vertical-align: top;\n",
       "    }\n",
       "\n",
       "    .dataframe thead th {\n",
       "        text-align: right;\n",
       "    }\n",
       "</style>\n",
       "<table border=\"1\" class=\"dataframe\">\n",
       "  <thead>\n",
       "    <tr style=\"text-align: right;\">\n",
       "      <th></th>\n",
       "      <th>price</th>\n",
       "      <th>sqfeet</th>\n",
       "      <th>beds</th>\n",
       "      <th>baths</th>\n",
       "      <th>apartment</th>\n",
       "      <th>condo</th>\n",
       "      <th>cottage/cabin</th>\n",
       "      <th>duplex</th>\n",
       "      <th>flat</th>\n",
       "      <th>house</th>\n",
       "      <th>in-law</th>\n",
       "      <th>land</th>\n",
       "      <th>loft</th>\n",
       "      <th>manufactured</th>\n",
       "      <th>townhouse</th>\n",
       "      <th>laundry in bldg</th>\n",
       "      <th>laundry on site</th>\n",
       "      <th>no laundry on site</th>\n",
       "      <th>w/d hookups</th>\n",
       "      <th>w/d in unit</th>\n",
       "    </tr>\n",
       "  </thead>\n",
       "  <tbody>\n",
       "    <tr>\n",
       "      <th>count</th>\n",
       "      <td>1.562310e+05</td>\n",
       "      <td>1.562310e+05</td>\n",
       "      <td>1.562310e+05</td>\n",
       "      <td>1.562310e+05</td>\n",
       "      <td>156231.000000</td>\n",
       "      <td>156231.000000</td>\n",
       "      <td>156231.000000</td>\n",
       "      <td>156231.000000</td>\n",
       "      <td>156231.000000</td>\n",
       "      <td>156231.000000</td>\n",
       "      <td>156231.000000</td>\n",
       "      <td>156231.000000</td>\n",
       "      <td>156231.000000</td>\n",
       "      <td>156231.000000</td>\n",
       "      <td>156231.000000</td>\n",
       "      <td>156231.000000</td>\n",
       "      <td>156231.000000</td>\n",
       "      <td>156231.000000</td>\n",
       "      <td>156231.000000</td>\n",
       "      <td>156231.000000</td>\n",
       "    </tr>\n",
       "    <tr>\n",
       "      <th>mean</th>\n",
       "      <td>-9.765039e-17</td>\n",
       "      <td>1.388043e-16</td>\n",
       "      <td>4.225639e-16</td>\n",
       "      <td>2.188310e-15</td>\n",
       "      <td>0.824004</td>\n",
       "      <td>0.016572</td>\n",
       "      <td>0.002586</td>\n",
       "      <td>0.015413</td>\n",
       "      <td>0.001747</td>\n",
       "      <td>0.074262</td>\n",
       "      <td>0.000512</td>\n",
       "      <td>0.000006</td>\n",
       "      <td>0.002061</td>\n",
       "      <td>0.013499</td>\n",
       "      <td>0.049337</td>\n",
       "      <td>0.118408</td>\n",
       "      <td>0.192574</td>\n",
       "      <td>0.011758</td>\n",
       "      <td>0.248107</td>\n",
       "      <td>0.429153</td>\n",
       "    </tr>\n",
       "    <tr>\n",
       "      <th>std</th>\n",
       "      <td>1.000000e+00</td>\n",
       "      <td>1.000000e+00</td>\n",
       "      <td>1.000000e+00</td>\n",
       "      <td>1.000000e+00</td>\n",
       "      <td>0.380818</td>\n",
       "      <td>0.127660</td>\n",
       "      <td>0.050786</td>\n",
       "      <td>0.123189</td>\n",
       "      <td>0.041766</td>\n",
       "      <td>0.262197</td>\n",
       "      <td>0.022623</td>\n",
       "      <td>0.002530</td>\n",
       "      <td>0.045352</td>\n",
       "      <td>0.115400</td>\n",
       "      <td>0.216572</td>\n",
       "      <td>0.323092</td>\n",
       "      <td>0.394322</td>\n",
       "      <td>0.107796</td>\n",
       "      <td>0.431916</td>\n",
       "      <td>0.494957</td>\n",
       "    </tr>\n",
       "    <tr>\n",
       "      <th>min</th>\n",
       "      <td>-2.215875e+00</td>\n",
       "      <td>-2.080903e+00</td>\n",
       "      <td>-4.690352e-01</td>\n",
       "      <td>-2.313426e+00</td>\n",
       "      <td>0.000000</td>\n",
       "      <td>0.000000</td>\n",
       "      <td>0.000000</td>\n",
       "      <td>0.000000</td>\n",
       "      <td>0.000000</td>\n",
       "      <td>0.000000</td>\n",
       "      <td>0.000000</td>\n",
       "      <td>0.000000</td>\n",
       "      <td>0.000000</td>\n",
       "      <td>0.000000</td>\n",
       "      <td>0.000000</td>\n",
       "      <td>0.000000</td>\n",
       "      <td>0.000000</td>\n",
       "      <td>0.000000</td>\n",
       "      <td>0.000000</td>\n",
       "      <td>0.000000</td>\n",
       "    </tr>\n",
       "    <tr>\n",
       "      <th>25%</th>\n",
       "      <td>-6.804437e-01</td>\n",
       "      <td>-6.713516e-01</td>\n",
       "      <td>-2.201980e-01</td>\n",
       "      <td>-6.770757e-01</td>\n",
       "      <td>1.000000</td>\n",
       "      <td>0.000000</td>\n",
       "      <td>0.000000</td>\n",
       "      <td>0.000000</td>\n",
       "      <td>0.000000</td>\n",
       "      <td>0.000000</td>\n",
       "      <td>0.000000</td>\n",
       "      <td>0.000000</td>\n",
       "      <td>0.000000</td>\n",
       "      <td>0.000000</td>\n",
       "      <td>0.000000</td>\n",
       "      <td>0.000000</td>\n",
       "      <td>0.000000</td>\n",
       "      <td>0.000000</td>\n",
       "      <td>0.000000</td>\n",
       "      <td>0.000000</td>\n",
       "    </tr>\n",
       "    <tr>\n",
       "      <th>50%</th>\n",
       "      <td>-2.438996e-01</td>\n",
       "      <td>-1.134041e-01</td>\n",
       "      <td>2.863927e-02</td>\n",
       "      <td>-6.770757e-01</td>\n",
       "      <td>1.000000</td>\n",
       "      <td>0.000000</td>\n",
       "      <td>0.000000</td>\n",
       "      <td>0.000000</td>\n",
       "      <td>0.000000</td>\n",
       "      <td>0.000000</td>\n",
       "      <td>0.000000</td>\n",
       "      <td>0.000000</td>\n",
       "      <td>0.000000</td>\n",
       "      <td>0.000000</td>\n",
       "      <td>0.000000</td>\n",
       "      <td>0.000000</td>\n",
       "      <td>0.000000</td>\n",
       "      <td>0.000000</td>\n",
       "      <td>0.000000</td>\n",
       "      <td>0.000000</td>\n",
       "    </tr>\n",
       "    <tr>\n",
       "      <th>75%</th>\n",
       "      <td>4.165615e-01</td>\n",
       "      <td>4.504166e-01</td>\n",
       "      <td>2.863927e-02</td>\n",
       "      <td>9.592743e-01</td>\n",
       "      <td>1.000000</td>\n",
       "      <td>0.000000</td>\n",
       "      <td>0.000000</td>\n",
       "      <td>0.000000</td>\n",
       "      <td>0.000000</td>\n",
       "      <td>0.000000</td>\n",
       "      <td>0.000000</td>\n",
       "      <td>0.000000</td>\n",
       "      <td>0.000000</td>\n",
       "      <td>0.000000</td>\n",
       "      <td>0.000000</td>\n",
       "      <td>0.000000</td>\n",
       "      <td>0.000000</td>\n",
       "      <td>0.000000</td>\n",
       "      <td>0.000000</td>\n",
       "      <td>1.000000</td>\n",
       "    </tr>\n",
       "    <tr>\n",
       "      <th>max</th>\n",
       "      <td>5.478215e+00</td>\n",
       "      <td>5.348608e+00</td>\n",
       "      <td>2.732519e+02</td>\n",
       "      <td>1.204128e+02</td>\n",
       "      <td>1.000000</td>\n",
       "      <td>1.000000</td>\n",
       "      <td>1.000000</td>\n",
       "      <td>1.000000</td>\n",
       "      <td>1.000000</td>\n",
       "      <td>1.000000</td>\n",
       "      <td>1.000000</td>\n",
       "      <td>1.000000</td>\n",
       "      <td>1.000000</td>\n",
       "      <td>1.000000</td>\n",
       "      <td>1.000000</td>\n",
       "      <td>1.000000</td>\n",
       "      <td>1.000000</td>\n",
       "      <td>1.000000</td>\n",
       "      <td>1.000000</td>\n",
       "      <td>1.000000</td>\n",
       "    </tr>\n",
       "  </tbody>\n",
       "</table>\n",
       "</div>"
      ],
      "text/plain": [
       "              price        sqfeet          beds         baths      apartment  \\\n",
       "count  1.562310e+05  1.562310e+05  1.562310e+05  1.562310e+05  156231.000000   \n",
       "mean  -9.765039e-17  1.388043e-16  4.225639e-16  2.188310e-15       0.824004   \n",
       "std    1.000000e+00  1.000000e+00  1.000000e+00  1.000000e+00       0.380818   \n",
       "min   -2.215875e+00 -2.080903e+00 -4.690352e-01 -2.313426e+00       0.000000   \n",
       "25%   -6.804437e-01 -6.713516e-01 -2.201980e-01 -6.770757e-01       1.000000   \n",
       "50%   -2.438996e-01 -1.134041e-01  2.863927e-02 -6.770757e-01       1.000000   \n",
       "75%    4.165615e-01  4.504166e-01  2.863927e-02  9.592743e-01       1.000000   \n",
       "max    5.478215e+00  5.348608e+00  2.732519e+02  1.204128e+02       1.000000   \n",
       "\n",
       "               condo  cottage/cabin         duplex           flat  \\\n",
       "count  156231.000000  156231.000000  156231.000000  156231.000000   \n",
       "mean        0.016572       0.002586       0.015413       0.001747   \n",
       "std         0.127660       0.050786       0.123189       0.041766   \n",
       "min         0.000000       0.000000       0.000000       0.000000   \n",
       "25%         0.000000       0.000000       0.000000       0.000000   \n",
       "50%         0.000000       0.000000       0.000000       0.000000   \n",
       "75%         0.000000       0.000000       0.000000       0.000000   \n",
       "max         1.000000       1.000000       1.000000       1.000000   \n",
       "\n",
       "               house         in-law           land           loft  \\\n",
       "count  156231.000000  156231.000000  156231.000000  156231.000000   \n",
       "mean        0.074262       0.000512       0.000006       0.002061   \n",
       "std         0.262197       0.022623       0.002530       0.045352   \n",
       "min         0.000000       0.000000       0.000000       0.000000   \n",
       "25%         0.000000       0.000000       0.000000       0.000000   \n",
       "50%         0.000000       0.000000       0.000000       0.000000   \n",
       "75%         0.000000       0.000000       0.000000       0.000000   \n",
       "max         1.000000       1.000000       1.000000       1.000000   \n",
       "\n",
       "        manufactured      townhouse  laundry in bldg  laundry on site  \\\n",
       "count  156231.000000  156231.000000    156231.000000    156231.000000   \n",
       "mean        0.013499       0.049337         0.118408         0.192574   \n",
       "std         0.115400       0.216572         0.323092         0.394322   \n",
       "min         0.000000       0.000000         0.000000         0.000000   \n",
       "25%         0.000000       0.000000         0.000000         0.000000   \n",
       "50%         0.000000       0.000000         0.000000         0.000000   \n",
       "75%         0.000000       0.000000         0.000000         0.000000   \n",
       "max         1.000000       1.000000         1.000000         1.000000   \n",
       "\n",
       "       no laundry on site    w/d hookups    w/d in unit  \n",
       "count       156231.000000  156231.000000  156231.000000  \n",
       "mean             0.011758       0.248107       0.429153  \n",
       "std              0.107796       0.431916       0.494957  \n",
       "min              0.000000       0.000000       0.000000  \n",
       "25%              0.000000       0.000000       0.000000  \n",
       "50%              0.000000       0.000000       0.000000  \n",
       "75%              0.000000       0.000000       1.000000  \n",
       "max              1.000000       1.000000       1.000000  "
      ]
     },
     "execution_count": 50,
     "metadata": {},
     "output_type": "execute_result"
    }
   ],
   "source": [
    "data.describe()"
   ]
  },
  {
   "cell_type": "code",
   "execution_count": 51,
   "metadata": {},
   "outputs": [
    {
     "name": "stdout",
     "output_type": "stream",
     "text": [
      "<class 'pandas.core.frame.DataFrame'>\n",
      "Int64Index: 156231 entries, 263110 to 206847\n",
      "Data columns (total 4 columns):\n",
      " #   Column  Non-Null Count   Dtype  \n",
      "---  ------  --------------   -----  \n",
      " 0   price   156231 non-null  float64\n",
      " 1   sqfeet  156231 non-null  float64\n",
      " 2   beds    156231 non-null  float64\n",
      " 3   baths   156231 non-null  float64\n",
      "dtypes: float64(4)\n",
      "memory usage: 6.0 MB\n"
     ]
    }
   ],
   "source": [
    "data_numerical.info()"
   ]
  },
  {
   "cell_type": "code",
   "execution_count": 52,
   "metadata": {},
   "outputs": [
    {
     "name": "stdout",
     "output_type": "stream",
     "text": [
      "<class 'pandas.core.frame.DataFrame'>\n",
      "Int64Index: 156231 entries, 263110 to 206847\n",
      "Data columns (total 16 columns):\n",
      " #   Column              Non-Null Count   Dtype\n",
      "---  ------              --------------   -----\n",
      " 0   apartment           156231 non-null  uint8\n",
      " 1   condo               156231 non-null  uint8\n",
      " 2   cottage/cabin       156231 non-null  uint8\n",
      " 3   duplex              156231 non-null  uint8\n",
      " 4   flat                156231 non-null  uint8\n",
      " 5   house               156231 non-null  uint8\n",
      " 6   in-law              156231 non-null  uint8\n",
      " 7   land                156231 non-null  uint8\n",
      " 8   loft                156231 non-null  uint8\n",
      " 9   manufactured        156231 non-null  uint8\n",
      " 10  townhouse           156231 non-null  uint8\n",
      " 11  laundry in bldg     156231 non-null  uint8\n",
      " 12  laundry on site     156231 non-null  uint8\n",
      " 13  no laundry on site  156231 non-null  uint8\n",
      " 14  w/d hookups         156231 non-null  uint8\n",
      " 15  w/d in unit         156231 non-null  uint8\n",
      "dtypes: uint8(16)\n",
      "memory usage: 3.6 MB\n"
     ]
    }
   ],
   "source": [
    "data_dummies.info()"
   ]
  },
  {
   "cell_type": "code",
   "execution_count": null,
   "metadata": {},
   "outputs": [],
   "source": []
  },
  {
   "cell_type": "code",
   "execution_count": 53,
   "metadata": {},
   "outputs": [],
   "source": [
    "X = data"
   ]
  },
  {
   "cell_type": "code",
   "execution_count": 54,
   "metadata": {},
   "outputs": [
    {
     "data": {
      "text/plain": [
       "(156231, 25)"
      ]
     },
     "execution_count": 54,
     "metadata": {},
     "output_type": "execute_result"
    }
   ],
   "source": [
    "N, d = X.shape\n",
    "N, d"
   ]
  },
  {
   "cell_type": "code",
   "execution_count": 55,
   "metadata": {},
   "outputs": [
    {
     "data": {
      "text/plain": [
       "Index(['price', 'sqfeet', 'beds', 'baths', 'apartment', 'condo',\n",
       "       'cottage/cabin', 'duplex', 'flat', 'house', 'in-law', 'land', 'loft',\n",
       "       'manufactured', 'townhouse', 'laundry in bldg', 'laundry on site',\n",
       "       'no laundry on site', 'w/d hookups', 'w/d in unit', 'dogs_allowed',\n",
       "       'smoking_allowed', 'wheelchair_access', 'electric_vehicle_charge',\n",
       "       'comes_furnished'],\n",
       "      dtype='object')"
      ]
     },
     "execution_count": 55,
     "metadata": {},
     "output_type": "execute_result"
    }
   ],
   "source": [
    "X.columns"
   ]
  },
  {
   "cell_type": "code",
   "execution_count": 56,
   "metadata": {},
   "outputs": [
    {
     "data": {
      "text/plain": [
       "263110    s\n",
       "255956    n\n",
       "383494    w\n",
       "322515    s\n",
       "306971    s\n",
       "         ..\n",
       "255477    n\n",
       "13542     w\n",
       "147620    w\n",
       "16940     w\n",
       "206847    w\n",
       "Name: reg, Length: 156231, dtype: category\n",
       "Categories (5, object): ['m', 'n', 'o', 's', 'w']"
      ]
     },
     "execution_count": 56,
     "metadata": {},
     "output_type": "execute_result"
    }
   ],
   "source": [
    "y"
   ]
  },
  {
   "cell_type": "code",
   "execution_count": 57,
   "metadata": {},
   "outputs": [
    {
     "data": {
      "text/plain": [
       "(117173, 39058)"
      ]
     },
     "execution_count": 57,
     "metadata": {},
     "output_type": "execute_result"
    }
   ],
   "source": [
    "from sklearn.model_selection import train_test_split\n",
    "X_train, X_test, y_train, y_test = train_test_split(X, y, test_size = 0.25, random_state = 42)\n",
    "\n",
    "N_train, _ = X_train.shape\n",
    "N_test,  _ = X_test.shape \n",
    "\n",
    "N_train, N_test"
   ]
  },
  {
   "cell_type": "code",
   "execution_count": 93,
   "metadata": {},
   "outputs": [],
   "source": [
    "import sklearn\n",
    "from sklearn.neighbors import KNeighborsClassifier\n",
    "from sklearn.model_selection import GridSearchCV\n",
    "from sklearn.svm import SVC\n",
    "from sklearn import ensemble\n",
    "from sklearn.neural_network import MLPClassifier\n",
    "from sklearn.metrics import accuracy_score, plot_confusion_matrix\n",
    "import warnings\n",
    "warnings.filterwarnings('ignore')"
   ]
  },
  {
   "cell_type": "code",
   "execution_count": 482,
   "metadata": {},
   "outputs": [
    {
     "name": "stdout",
     "output_type": "stream",
     "text": [
      "Accuracy score on train data: 85.21%\n",
      "Accuracy score on test  data: 73.41%\n"
     ]
    }
   ],
   "source": [
    "knn = KNeighborsClassifier()\n",
    "\n",
    "knn.set_params(n_neighbors = 3)\n",
    "knn.fit(X_train, y_train)\n",
    "\n",
    "y_train_pred = knn.predict(X_train)\n",
    "y_test_pred = knn.predict(X_test)\n",
    "\n",
    "print('Accuracy score on train data: {:.2f}%'.format(100 * accuracy_score(y_train, y_train_pred)))\n",
    "print('Accuracy score on test  data: {:.2f}%'.format(100 * accuracy_score(y_test,  y_test_pred)))"
   ]
  },
  {
   "cell_type": "code",
   "execution_count": 483,
   "metadata": {},
   "outputs": [
    {
     "data": {
      "text/plain": [
       "<sklearn.metrics._plot.confusion_matrix.ConfusionMatrixDisplay at 0x23204503d00>"
      ]
     },
     "execution_count": 483,
     "metadata": {},
     "output_type": "execute_result"
    },
    {
     "data": {
      "image/png": "[encoded data removed]",
      "text/plain": [
       "<Figure size 432x288 with 2 Axes>"
      ]
     },
     "metadata": {
      "needs_background": "light"
     },
     "output_type": "display_data"
    }
   ],
   "source": [
    "plot_confusion_matrix(knn, X_test, y_test)"
   ]
  },
  {
   "cell_type": "code",
   "execution_count": 484,
   "metadata": {},
   "outputs": [
    {
     "name": "stdout",
     "output_type": "stream",
     "text": [
      "Optimal neighbor count:  1\n"
     ]
    }
   ],
   "source": [
    "grid = GridSearchCV(KNeighborsClassifier(), param_grid = {'n_neighbors': range(1, 11)}, cv = 5)\n",
    "grid.fit(X_train, y_train)\n",
    "\n",
    "best_n_neighbors = grid.best_estimator_.n_neighbors\n",
    "\n",
    "print('Optimal neighbor count: ', best_n_neighbors)"
   ]
  },
  {
   "cell_type": "code",
   "execution_count": 485,
   "metadata": {},
   "outputs": [
    {
     "name": "stdout",
     "output_type": "stream",
     "text": [
      "Accuracy score on train data: 98.99%\n",
      "Accuracy score on test  data: 76.74%\n"
     ]
    }
   ],
   "source": [
    "knn = KNeighborsClassifier()\n",
    "\n",
    "knn.set_params(n_neighbors = best_n_neighbors)\n",
    "knn.fit(X_train, y_train)\n",
    "\n",
    "y_train_pred = knn.predict(X_train)\n",
    "y_test_pred = knn.predict(X_test)\n",
    "\n",
    "print('Accuracy score on train data: {:.2f}%'.format(100 * accuracy_score(y_train, y_train_pred)))\n",
    "print('Accuracy score on test  data: {:.2f}%'.format(100 * accuracy_score(y_test,  y_test_pred)))"
   ]
  },
  {
   "cell_type": "code",
   "execution_count": 486,
   "metadata": {},
   "outputs": [
    {
     "data": {
      "text/plain": [
       "<sklearn.metrics._plot.confusion_matrix.ConfusionMatrixDisplay at 0x232567d2280>"
      ]
     },
     "execution_count": 486,
     "metadata": {},
     "output_type": "execute_result"
    },
    {
     "data": {
      "image/png": "[encoded data removed]",
      "text/plain": [
       "<Figure size 432x288 with 2 Axes>"
      ]
     },
     "metadata": {
      "needs_background": "light"
     },
     "output_type": "display_data"
    }
   ],
   "source": [
    "plot_confusion_matrix(knn, X_test, y_test)"
   ]
  },
  {
   "cell_type": "code",
   "execution_count": 487,
   "metadata": {},
   "outputs": [
    {
     "data": {
      "text/plain": [
       "RandomForestClassifier(n_estimators=500)"
      ]
     },
     "execution_count": 487,
     "metadata": {},
     "output_type": "execute_result"
    }
   ],
   "source": [
    "from sklearn.ensemble import RandomForestClassifier\n",
    "\n",
    "rf = RandomForestClassifier(n_estimators=500)\n",
    "rf.fit(X_train, y_train)"
   ]
  },
  {
   "cell_type": "code",
   "execution_count": 488,
   "metadata": {},
   "outputs": [
    {
     "name": "stdout",
     "output_type": "stream",
     "text": [
      "Accuracy score on train data: 99.16%\n",
      "Accuracy score on test  data: 79.10%\n"
     ]
    }
   ],
   "source": [
    "y_train_pred = rf.predict(X_train)\n",
    "y_test_pred = rf.predict(X_test)\n",
    "\n",
    "print('Accuracy score on train data: {:.2f}%'.format(100 * accuracy_score(y_train, y_train_pred)))\n",
    "print('Accuracy score on test  data: {:.2f}%'.format(100 * accuracy_score(y_test,  y_test_pred)))"
   ]
  },
  {
   "cell_type": "code",
   "execution_count": 489,
   "metadata": {},
   "outputs": [
    {
     "data": {
      "text/plain": [
       "<sklearn.metrics._plot.confusion_matrix.ConfusionMatrixDisplay at 0x23283096a30>"
      ]
     },
     "execution_count": 489,
     "metadata": {},
     "output_type": "execute_result"
    },
    {
     "data": {
      "image/png": "[encoded data removed]",
      "text/plain": [
       "<Figure size 432x288 with 2 Axes>"
      ]
     },
     "metadata": {
      "needs_background": "light"
     },
     "output_type": "display_data"
    }
   ],
   "source": [
    "plot_confusion_matrix(rf, X_test, y_test)"
   ]
  },
  {
   "cell_type": "code",
   "execution_count": 490,
   "metadata": {},
   "outputs": [],
   "source": [
    "importances = pd.Series(rf.feature_importances_, index=X.columns).sort_values(ascending=False)"
   ]
  },
  {
   "cell_type": "code",
   "execution_count": 491,
   "metadata": {},
   "outputs": [
    {
     "data": {
      "image/png": "[encoded data removed]",
      "text/plain": [
       "<Figure size 1440x1800 with 1 Axes>"
      ]
     },
     "metadata": {
      "needs_background": "light"
     },
     "output_type": "display_data"
    }
   ],
   "source": [
    "fig = plt.figure(figsize=(20, 25))\n",
    "sns.barplot(y=importances.index, x=importances, orient='h')\n",
    "pass"
   ]
  },
  {
   "cell_type": "code",
   "execution_count": 94,
   "metadata": {},
   "outputs": [
    {
     "data": {
      "text/plain": [
       "LogisticRegression()"
      ]
     },
     "execution_count": 94,
     "metadata": {},
     "output_type": "execute_result"
    }
   ],
   "source": [
    "from sklearn.linear_model import LogisticRegression\n",
    "\n",
    "lr = LogisticRegression()\n",
    "lr.fit(X_train, y_train)"
   ]
  },
  {
   "cell_type": "code",
   "execution_count": 95,
   "metadata": {},
   "outputs": [
    {
     "name": "stdout",
     "output_type": "stream",
     "text": [
      "Accuracy score on train data: 54.81%\n",
      "Accuracy score on test  data: 54.95%\n"
     ]
    }
   ],
   "source": [
    "y_train_pred = lr.predict(X_train)\n",
    "y_test_pred = lr.predict(X_test)\n",
    "print('Accuracy score on train data: {:.2f}%'.format(100 * accuracy_score(y_train, y_train_pred)))\n",
    "print('Accuracy score on test  data: {:.2f}%'.format(100 * accuracy_score(y_test,  y_test_pred)))\n"
   ]
  },
  {
   "cell_type": "code",
   "execution_count": null,
   "metadata": {},
   "outputs": [
    {
     "data": {
      "text/plain": [
       "<sklearn.metrics._plot.confusion_matrix.ConfusionMatrixDisplay at 0x23283112df0>"
      ]
     },
     "execution_count": 494,
     "metadata": {},
     "output_type": "execute_result"
    },
    {
     "data": {
      "image/png": "[encoded data removed]",
      "text/plain": [
       "<Figure size 432x288 with 2 Axes>"
      ]
     },
     "metadata": {
      "needs_background": "light"
     },
     "output_type": "display_data"
    }
   ],
   "source": [
    "plot_confusion_matrix(lr, X_test, y_test)"
   ]
  },
  {
   "attachments": {},
   "cell_type": "markdown",
   "metadata": {},
   "source": [
    "### Домашнее задание # 6"
   ]
  },
  {
   "cell_type": "code",
   "execution_count": 62,
   "metadata": {},
   "outputs": [],
   "source": [
    "from sklearn.neural_network import MLPClassifier\n",
    "from sklearn.metrics import accuracy_score, confusion_matrix, ConfusionMatrixDisplay"
   ]
  },
  {
   "cell_type": "code",
   "execution_count": 63,
   "metadata": {},
   "outputs": [],
   "source": [
    "mlp_model = MLPClassifier(hidden_layer_sizes = (100,),\n",
    "                          solver = 'adam', \n",
    "                          activation = 'relu',\n",
    "                          random_state = 42,\n",
    "                          max_iter=2000)"
   ]
  },
  {
   "cell_type": "code",
   "execution_count": 64,
   "metadata": {},
   "outputs": [
    {
     "name": "stdout",
     "output_type": "stream",
     "text": [
      "Wall time: 1min 43s\n"
     ]
    },
    {
     "data": {
      "text/plain": [
       "MLPClassifier(max_iter=2000, random_state=42)"
      ]
     },
     "execution_count": 64,
     "metadata": {},
     "output_type": "execute_result"
    }
   ],
   "source": [
    "%%time\n",
    "mlp_model.fit(X_train, y_train,)"
   ]
  },
  {
   "cell_type": "code",
   "execution_count": 65,
   "metadata": {},
   "outputs": [],
   "source": [
    "y_train_prediction = mlp_model.predict(X_train)\n",
    "y_test_prediction = mlp_model.predict(X_test)"
   ]
  },
  {
   "cell_type": "code",
   "execution_count": 66,
   "metadata": {},
   "outputs": [
    {
     "name": "stdout",
     "output_type": "stream",
     "text": [
      "[Accuracy]\n",
      "\n",
      "Train: 0.6128374284178095, Test: 0.6037943571099391\n"
     ]
    }
   ],
   "source": [
    "accuracy_score(y_train, y_train_prediction)\n",
    "accuracy_score(y_test, y_test_prediction)\n",
    "print('[Accuracy]\\n')\n",
    "print('Train: {}, Test: {}'.format(\n",
    "    sklearn.metrics.accuracy_score(y_train, y_train_prediction),\n",
    "    sklearn.metrics.accuracy_score(y_test, y_test_prediction)\n",
    "))"
   ]
  },
  {
   "cell_type": "code",
   "execution_count": 67,
   "metadata": {},
   "outputs": [
    {
     "data": {
      "image/png": "[encoded data removed]",
      "text/plain": [
       "<Figure size 432x288 with 2 Axes>"
      ]
     },
     "metadata": {
      "needs_background": "light"
     },
     "output_type": "display_data"
    }
   ],
   "source": [
    "predictions = mlp_model.predict(X_test)\n",
    "cm = confusion_matrix(y_test, predictions, labels=mlp_model.classes_)\n",
    "disp = ConfusionMatrixDisplay(confusion_matrix=cm, display_labels=mlp_model.classes_)\n",
    "disp.plot()\n",
    "plt.show()"
   ]
  },
  {
   "attachments": {},
   "cell_type": "markdown",
   "metadata": {},
   "source": [
    "### Обучение классификатора с двумя скрытыми слоями"
   ]
  },
  {
   "cell_type": "code",
   "execution_count": 80,
   "metadata": {},
   "outputs": [],
   "source": [
    "model = MLPClassifier(\n",
    "    hidden_layer_sizes=(10, 20),\n",
    "    solver='adam',\n",
    "    activation='relu',\n",
    "    random_state=44,\n",
    "    max_iter=1000\n",
    ")"
   ]
  },
  {
   "cell_type": "code",
   "execution_count": 81,
   "metadata": {},
   "outputs": [
    {
     "name": "stdout",
     "output_type": "stream",
     "text": [
      "Wall time: 1min 28s\n"
     ]
    },
    {
     "data": {
      "text/plain": [
       "MLPClassifier(hidden_layer_sizes=(10, 20), max_iter=1000, random_state=44)"
      ]
     },
     "execution_count": 81,
     "metadata": {},
     "output_type": "execute_result"
    }
   ],
   "source": [
    "%%time\n",
    "model.fit(X_train, y_train)"
   ]
  },
  {
   "cell_type": "code",
   "execution_count": 83,
   "metadata": {},
   "outputs": [
    {
     "name": "stdout",
     "output_type": "stream",
     "text": [
      "[Accuracy]\n",
      "\n",
      "Train: 0.5801848548727095, Test: 0.5783962312458395\n"
     ]
    }
   ],
   "source": [
    "y_train_prediction = model.predict(X_train)\n",
    "y_test_prediction = model.predict(X_test)\n",
    "accuracy_score(y_train, y_train_prediction)\n",
    "accuracy_score(y_test, y_test_prediction)\n",
    "print('[Accuracy]\\n')\n",
    "print('Train: {}, Test: {}'.format(\n",
    "    sklearn.metrics.accuracy_score(y_train, y_train_prediction),\n",
    "    sklearn.metrics.accuracy_score(y_test, y_test_prediction)\n",
    "))"
   ]
  },
  {
   "cell_type": "code",
   "execution_count": 85,
   "metadata": {},
   "outputs": [
    {
     "data": {
      "image/png": "[encoded data removed]",
      "text/plain": [
       "<Figure size 432x288 with 2 Axes>"
      ]
     },
     "metadata": {
      "needs_background": "light"
     },
     "output_type": "display_data"
    }
   ],
   "source": [
    "predictions = model.predict(X_test)\n",
    "cm = confusion_matrix(y_test, predictions, labels=model.classes_)\n",
    "disp = ConfusionMatrixDisplay(confusion_matrix=cm, display_labels=model.classes_)\n",
    "disp.plot()\n",
    "plt.show()"
   ]
  },
  {
   "attachments": {},
   "cell_type": "markdown",
   "metadata": {},
   "source": [
    "#### Подбор параметра `alpha`"
   ]
  },
  {
   "cell_type": "code",
   "execution_count": 68,
   "metadata": {},
   "outputs": [
    {
     "name": "stdout",
     "output_type": "stream",
     "text": [
      "Wall time: 13min 39s\n"
     ]
    }
   ],
   "source": [
    "%%time\n",
    "alpha_arr = np.logspace(-5, 3, 15)\n",
    "test_err = []\n",
    "train_err = []\n",
    "train_acc = []\n",
    "test_acc = []\n",
    "\n",
    "for alpha in alpha_arr:\n",
    "    mlp_model = MLPClassifier(alpha = alpha, hidden_layer_sizes = (100,), \n",
    "                              solver = 'adam', activation = 'relu', max_iter=1000, random_state = 42)\n",
    "    mlp_model.fit(X_train, y_train)\n",
    "\n",
    "    y_train_pred = mlp_model.predict(X_train)\n",
    "    y_test_pred = mlp_model.predict(X_test)\n",
    "    \n",
    "    train_err.append(np.mean(y_train != y_train_pred))\n",
    "    test_err.append(np.mean(y_test != y_test_pred))\n",
    "    train_acc.append(accuracy_score(y_train, y_train_pred))\n",
    "    test_acc.append(accuracy_score(y_test, y_test_pred))"
   ]
  },
  {
   "cell_type": "code",
   "execution_count": 69,
   "metadata": {},
   "outputs": [
    {
     "data": {
      "text/plain": [
       "<matplotlib.legend.Legend at 0x14907281190>"
      ]
     },
     "execution_count": 69,
     "metadata": {},
     "output_type": "execute_result"
    },
    {
     "data": {
      "image/png": "[encoded data removed]",
      "text/plain": [
       "<Figure size 432x288 with 1 Axes>"
      ]
     },
     "metadata": {
      "needs_background": "light"
     },
     "output_type": "display_data"
    }
   ],
   "source": [
    "plt.semilogx(alpha_arr, train_err, 'b-o', label = 'train')\n",
    "plt.semilogx(alpha_arr, test_err, 'r-o', label = 'test')\n",
    "plt.xlim([np.min(alpha_arr), np.max(alpha_arr)])\n",
    "plt.title('Error vs. alpha')\n",
    "plt.xlabel('alpha')\n",
    "plt.ylabel('error')\n",
    "plt.legend()"
   ]
  },
  {
   "attachments": {},
   "cell_type": "markdown",
   "metadata": {},
   "source": [
    "При увеличении `alpha` уменьшается точность модели. Значительного переобучения не наблюдается. Недообучение возникает при больших `alpha`"
   ]
  },
  {
   "cell_type": "code",
   "execution_count": 71,
   "metadata": {},
   "outputs": [
    {
     "name": "stdout",
     "output_type": "stream",
     "text": [
      "0.3841328633729614 0.39300527420758874\n"
     ]
    }
   ],
   "source": [
    "min_train_err = np.min(train_err)\n",
    "min_test_err = np.min(test_err)\n",
    "print(min_train_err, min_test_err)"
   ]
  },
  {
   "attachments": {},
   "cell_type": "markdown",
   "metadata": {},
   "source": [
    "### Оптимальное значение `alpha`"
   ]
  },
  {
   "cell_type": "code",
   "execution_count": 72,
   "metadata": {},
   "outputs": [
    {
     "name": "stdout",
     "output_type": "stream",
     "text": [
      "[0.00013895]\n"
     ]
    }
   ],
   "source": [
    "alpha_opt = alpha_arr[test_err == min_test_err]\n",
    "print(alpha_opt)"
   ]
  },
  {
   "attachments": {},
   "cell_type": "markdown",
   "metadata": {},
   "source": [
    "#### Подбор числа нейронов"
   ]
  },
  {
   "cell_type": "code",
   "execution_count": 73,
   "metadata": {},
   "outputs": [
    {
     "name": "stdout",
     "output_type": "stream",
     "text": [
      "Wall time: 17min 34s\n"
     ]
    }
   ],
   "source": [
    "%%time\n",
    "neuron_count_array = np.linspace(10, 200, 10).astype(int)\n",
    "test_error = []\n",
    "train_error = []\n",
    "\n",
    "for neuron_count in neuron_count_array:\n",
    "    model = MLPClassifier(\n",
    "        alpha=alpha_opt[0],\n",
    "        hidden_layer_sizes=(neuron_count,),\n",
    "        solver='adam',\n",
    "        activation ='relu',\n",
    "        max_iter=1000,\n",
    "        random_state = 42\n",
    "    )\n",
    "    model.fit(X_train, y_train)\n",
    "\n",
    "    y_train_prediction = model.predict(X_train)\n",
    "    y_test_prediction = model.predict(X_test)\n",
    "\n",
    "    test_error.append(np.mean(y_test != y_test_prediction))\n",
    "    train_error.append(np.mean(y_train != y_train_prediction)) "
   ]
  },
  {
   "cell_type": "code",
   "execution_count": 74,
   "metadata": {},
   "outputs": [
    {
     "data": {
      "text/plain": [
       "<matplotlib.legend.Legend at 0x1490aa875e0>"
      ]
     },
     "execution_count": 74,
     "metadata": {},
     "output_type": "execute_result"
    },
    {
     "data": {
      "image/png": "[encoded data removed]",
      "text/plain": [
       "<Figure size 432x288 with 1 Axes>"
      ]
     },
     "metadata": {
      "needs_background": "light"
     },
     "output_type": "display_data"
    }
   ],
   "source": [
    "plt.plot(neuron_count_array, train_error, 'r-o', label='train')\n",
    "plt.plot(neuron_count_array, test_error, 'b-o', label='test')\n",
    "plt.xlim([np.min(neuron_count_array), np.max(neuron_count_array)])\n",
    "plt.xlabel('neuron count')\n",
    "plt.ylabel('error')\n",
    "plt.legend()"
   ]
  },
  {
   "attachments": {},
   "cell_type": "markdown",
   "metadata": {},
   "source": [
    "Наблюдается небольшое переобучение при числе нейронов больше 180"
   ]
  },
  {
   "cell_type": "code",
   "execution_count": 75,
   "metadata": {},
   "outputs": [
    {
     "name": "stdout",
     "output_type": "stream",
     "text": [
      "0.3691976820598602 0.38271288852475804\n"
     ]
    }
   ],
   "source": [
    "min_train_err = np.min(train_error)\n",
    "min_test_err = np.min(test_error)\n",
    "print(min_train_err, min_test_err)"
   ]
  },
  {
   "cell_type": "code",
   "execution_count": 76,
   "metadata": {},
   "outputs": [
    {
     "name": "stdout",
     "output_type": "stream",
     "text": [
      "Optimal neuron count: 157\n"
     ]
    }
   ],
   "source": [
    "min_test_error = np.min(test_error)\n",
    "neuron_count_opt = neuron_count_array[test_error == min_test_error][0]\n",
    "print('Optimal neuron count: {}'.format(neuron_count_opt)) "
   ]
  },
  {
   "attachments": {},
   "cell_type": "markdown",
   "metadata": {},
   "source": [
    "#### Повторим обучение при оптимальном параметре `alpha` и числе нейронов"
   ]
  },
  {
   "cell_type": "code",
   "execution_count": 86,
   "metadata": {},
   "outputs": [],
   "source": [
    "mlp_model = MLPClassifier(hidden_layer_sizes = (neuron_count_opt,),\n",
    "                          solver = 'adam', \n",
    "                          activation = 'relu',\n",
    "                          random_state = 42,\n",
    "                          max_iter=2000,\n",
    "                          alpha=alpha_opt[0])"
   ]
  },
  {
   "cell_type": "code",
   "execution_count": 87,
   "metadata": {},
   "outputs": [
    {
     "name": "stdout",
     "output_type": "stream",
     "text": [
      "Wall time: 2min 45s\n"
     ]
    },
    {
     "data": {
      "text/plain": [
       "MLPClassifier(alpha=0.00013894954943731373, hidden_layer_sizes=(157,),\n",
       "              max_iter=2000, random_state=42)"
      ]
     },
     "execution_count": 87,
     "metadata": {},
     "output_type": "execute_result"
    }
   ],
   "source": [
    "%%time\n",
    "mlp_model.fit(X_train, y_train,)"
   ]
  },
  {
   "cell_type": "code",
   "execution_count": 91,
   "metadata": {},
   "outputs": [
    {
     "name": "stdout",
     "output_type": "stream",
     "text": [
      "[Accuracy]\n",
      "\n",
      "Train: 0.6303585296954076, Test: 0.617287111475242\n"
     ]
    }
   ],
   "source": [
    "y_train_prediction = mlp_model.predict(X_train)\n",
    "y_test_prediction = mlp_model.predict(X_test)\n",
    "accuracy_score(y_train, y_train_prediction)\n",
    "accuracy_score(y_test, y_test_prediction)\n",
    "print('[Accuracy]\\n')\n",
    "print('Train: {}, Test: {}'.format(\n",
    "    sklearn.metrics.accuracy_score(y_train, y_train_prediction),\n",
    "    sklearn.metrics.accuracy_score(y_test, y_test_prediction)\n",
    "))"
   ]
  },
  {
   "cell_type": "code",
   "execution_count": 92,
   "metadata": {},
   "outputs": [
    {
     "data": {
      "image/png": "[encoded data removed]",
      "text/plain": [
       "<Figure size 432x288 with 2 Axes>"
      ]
     },
     "metadata": {
      "needs_background": "light"
     },
     "output_type": "display_data"
    }
   ],
   "source": [
    "predictions = mlp_model.predict(X_test)\n",
    "cm = confusion_matrix(y_test, predictions, labels=model.classes_)\n",
    "disp = ConfusionMatrixDisplay(confusion_matrix=cm, display_labels=model.classes_)\n",
    "disp.plot()\n",
    "plt.show()"
   ]
  },
  {
   "attachments": {},
   "cell_type": "markdown",
   "metadata": {},
   "source": [
    "### Выводы\n",
    "* При больших значениях параметра регуляризации `alpha` наблюдается недообучение\n",
    "* Подбор оптимального числа нейронов повысил точность на тестовой выборке;"
   ]
  }
 ],
 "metadata": {
  "kernelspec": {
   "display_name": "Python 3.8.8 ('base')",
   "language": "python",
   "name": "python3"
  },
  "language_info": {
   "codemirror_mode": {
    "name": "ipython",
    "version": 3
   },
   "file_extension": ".py",
   "mimetype": "text/x-python",
   "name": "python",
   "nbconvert_exporter": "python",
   "pygments_lexer": "ipython3",
   "version": "3.8.8"
  },
  "orig_nbformat": 4,
  "vscode": {
   "interpreter": {
    "hash": "cb1f95912d1f4eee9631ab7115fc8af0bd476e84e7619c48d7de3c7a4103e989"
   }
  }
 },
 "nbformat": 4,
 "nbformat_minor": 2
}
